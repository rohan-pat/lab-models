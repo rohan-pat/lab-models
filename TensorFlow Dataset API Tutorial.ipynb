{
 "cells": [
  {
   "cell_type": "code",
   "execution_count": 1,
   "metadata": {},
   "outputs": [],
   "source": [
    "import tensorflow as tf\n",
    "import numpy as np"
   ]
  },
  {
   "cell_type": "code",
   "execution_count": 2,
   "metadata": {},
   "outputs": [],
   "source": [
    "dataset = tf.data.TextLineDataset('file.txt')"
   ]
  },
  {
   "cell_type": "code",
   "execution_count": null,
   "metadata": {},
   "outputs": [],
   "source": [
    "for line in dataset:\n",
    "    print(line)"
   ]
  },
  {
   "cell_type": "code",
   "execution_count": 3,
   "metadata": {},
   "outputs": [],
   "source": [
    "iterator = dataset.make_one_shot_iterator()\n",
    "next_element = iterator.get_next()"
   ]
  },
  {
   "cell_type": "code",
   "execution_count": 4,
   "metadata": {},
   "outputs": [
    {
     "name": "stdout",
     "output_type": "stream",
     "text": [
      "b'I use Tensorflow'\n",
      "b'You use PyTorch'\n",
      "b'Both are great'\n"
     ]
    }
   ],
   "source": [
    "with tf.Session() as sess:\n",
    "    for i in range(3):\n",
    "        print(sess.run(next_element))"
   ]
  },
  {
   "cell_type": "code",
   "execution_count": 5,
   "metadata": {},
   "outputs": [],
   "source": [
    "dataset = dataset.map(lambda string: tf.string_split([string]).values)"
   ]
  },
  {
   "cell_type": "code",
   "execution_count": 6,
   "metadata": {},
   "outputs": [],
   "source": [
    "dataset = dataset.shuffle(buffer_size=3)"
   ]
  },
  {
   "cell_type": "code",
   "execution_count": 7,
   "metadata": {},
   "outputs": [
    {
     "data": {
      "text/plain": [
       "<BatchDataset shapes: (?, ?), types: tf.string>"
      ]
     },
     "execution_count": 7,
     "metadata": {},
     "output_type": "execute_result"
    }
   ],
   "source": [
    "dataset.batch(2)"
   ]
  },
  {
   "cell_type": "code",
   "execution_count": 8,
   "metadata": {},
   "outputs": [
    {
     "data": {
      "text/plain": [
       "<PrefetchDataset shapes: (?,), types: tf.string>"
      ]
     },
     "execution_count": 8,
     "metadata": {},
     "output_type": "execute_result"
    }
   ],
   "source": [
    "dataset.prefetch(1)"
   ]
  },
  {
   "cell_type": "code",
   "execution_count": 9,
   "metadata": {},
   "outputs": [],
   "source": [
    "iterator = dataset.make_one_shot_iterator()\n",
    "next_element = iterator.get_next()"
   ]
  },
  {
   "cell_type": "code",
   "execution_count": 10,
   "metadata": {},
   "outputs": [
    {
     "name": "stdout",
     "output_type": "stream",
     "text": [
      "[b'You' b'use' b'PyTorch']\n"
     ]
    }
   ],
   "source": [
    "with tf.Session() as sess:\n",
    "    print(sess.run(next_element))"
   ]
  },
  {
   "cell_type": "markdown",
   "metadata": {},
   "source": [
    "# use initalizer op."
   ]
  },
  {
   "cell_type": "code",
   "execution_count": 13,
   "metadata": {},
   "outputs": [],
   "source": [
    "dataset = tf.data.TextLineDataset(\"file.txt\")\n",
    "iterator = dataset.make_initializable_iterator()\n",
    "next_element = iterator.get_next()\n",
    "init_op = iterator.initializer"
   ]
  },
  {
   "cell_type": "code",
   "execution_count": 14,
   "metadata": {},
   "outputs": [
    {
     "name": "stdout",
     "output_type": "stream",
     "text": [
      "b'I use Tensorflow'\n",
      "b'You use PyTorch'\n",
      "b'I use Tensorflow'\n"
     ]
    }
   ],
   "source": [
    "with tf.Session() as sess:\n",
    "    sess.run(init_op)\n",
    "    print(sess.run(next_element))\n",
    "    print(sess.run(next_element))\n",
    "    sess.run(init_op)\n",
    "    print(sess.run(next_element))"
   ]
  },
  {
   "cell_type": "markdown",
   "metadata": {},
   "source": [
    "## what I need to read from the dataset.\n",
    "(1950, 512) ->\n",
    "each 512 line is an input\n",
    "convert each 512 line into [0,...num_sequences], [i+1, ... num_sequences] => total no. of sequences should be equal to 512. - Task 1"
   ]
  },
  {
   "cell_type": "code",
   "execution_count": 35,
   "metadata": {},
   "outputs": [],
   "source": [
    "freq = [i for i in range(512)]\n",
    "freq = np.array(freq)"
   ]
  },
  {
   "cell_type": "code",
   "execution_count": 51,
   "metadata": {},
   "outputs": [],
   "source": [
    "# freq = np.random.sample((512, 1))\n",
    "# labels = np.random.randint(0, 4, (512, 1))"
   ]
  },
  {
   "cell_type": "code",
   "execution_count": 36,
   "metadata": {},
   "outputs": [],
   "source": [
    "freq = freq.reshape(freq.shape[0], 1)"
   ]
  },
  {
   "cell_type": "code",
   "execution_count": 37,
   "metadata": {},
   "outputs": [],
   "source": [
    "batch_size = 32\n",
    "num_steps = 16"
   ]
  },
  {
   "cell_type": "code",
   "execution_count": 38,
   "metadata": {},
   "outputs": [
    {
     "name": "stdout",
     "output_type": "stream",
     "text": [
      "(512, 16)\n"
     ]
    }
   ],
   "source": [
    "frequencies = np.zeros((512, 16), dtype=np.float32)\n",
    "print(frequencies.shape)"
   ]
  },
  {
   "cell_type": "code",
   "execution_count": 42,
   "metadata": {},
   "outputs": [
    {
     "data": {
      "text/plain": [
       "(16,)"
      ]
     },
     "execution_count": 42,
     "metadata": {},
     "output_type": "execute_result"
    }
   ],
   "source": [
    "frequencies[1].shape"
   ]
  },
  {
   "cell_type": "code",
   "execution_count": 102,
   "metadata": {},
   "outputs": [],
   "source": [
    "labels = np.random.randint(0, 4, (512, 1))"
   ]
  },
  {
   "cell_type": "code",
   "execution_count": 103,
   "metadata": {},
   "outputs": [
    {
     "data": {
      "text/plain": [
       "(512, 1)"
      ]
     },
     "execution_count": 103,
     "metadata": {},
     "output_type": "execute_result"
    }
   ],
   "source": [
    "labels.shape"
   ]
  },
  {
   "cell_type": "code",
   "execution_count": 59,
   "metadata": {},
   "outputs": [],
   "source": [
    "# convert into num step sized repeated samples.\n",
    "def convertStepSizes(freq, num_steps):\n",
    "    for i in range(freq.shape[0]):\n",
    "        if freq[i:i+num_steps, 0].shape[0] == num_steps:\n",
    "            frequencies[i, :] = freq[i:i+num_steps, 0]\n",
    "        else:\n",
    "#             print(freq[i:i+num_steps, 0].shape[0])\n",
    "            frequencies[i, :] = np.pad(freq[i:i+num_steps, 0], (0, 16-freq[i:i+num_steps, 0].shape[0]), 'edge')\n",
    "    print('loading complete')"
   ]
  },
  {
   "cell_type": "code",
   "execution_count": 60,
   "metadata": {},
   "outputs": [
    {
     "name": "stdout",
     "output_type": "stream",
     "text": [
      "15\n",
      "14\n",
      "13\n",
      "12\n",
      "11\n",
      "10\n",
      "9\n",
      "8\n",
      "7\n",
      "6\n",
      "5\n",
      "4\n",
      "3\n",
      "2\n",
      "1\n",
      "loading complete\n"
     ]
    }
   ],
   "source": [
    "freq = convertStepSizes(freq, 16)"
   ]
  },
  {
   "cell_type": "code",
   "execution_count": 61,
   "metadata": {},
   "outputs": [
    {
     "name": "stdout",
     "output_type": "stream",
     "text": [
      "(512, 16)\n"
     ]
    }
   ],
   "source": [
    "print(frequencies.shape)"
   ]
  },
  {
   "cell_type": "code",
   "execution_count": 62,
   "metadata": {},
   "outputs": [
    {
     "data": {
      "text/plain": [
       "array([ 0.,  1.,  2.,  3.,  4.,  5.,  6.,  7.,  8.,  9., 10., 11., 12.,\n",
       "       13., 14., 15.], dtype=float32)"
      ]
     },
     "execution_count": 62,
     "metadata": {},
     "output_type": "execute_result"
    }
   ],
   "source": [
    "frequencies[0]"
   ]
  },
  {
   "cell_type": "code",
   "execution_count": 63,
   "metadata": {},
   "outputs": [
    {
     "data": {
      "text/plain": [
       "array([ 1.,  2.,  3.,  4.,  5.,  6.,  7.,  8.,  9., 10., 11., 12., 13.,\n",
       "       14., 15., 16.], dtype=float32)"
      ]
     },
     "execution_count": 63,
     "metadata": {},
     "output_type": "execute_result"
    }
   ],
   "source": [
    "frequencies[1]"
   ]
  },
  {
   "cell_type": "code",
   "execution_count": 64,
   "metadata": {},
   "outputs": [
    {
     "data": {
      "text/plain": [
       "array([511., 511., 511., 511., 511., 511., 511., 511., 511., 511., 511.,\n",
       "       511., 511., 511., 511., 511.], dtype=float32)"
      ]
     },
     "execution_count": 64,
     "metadata": {},
     "output_type": "execute_result"
    }
   ],
   "source": [
    "frequencies[-1]"
   ]
  },
  {
   "cell_type": "code",
   "execution_count": 65,
   "metadata": {},
   "outputs": [
    {
     "data": {
      "text/plain": [
       "(16,)"
      ]
     },
     "execution_count": 65,
     "metadata": {},
     "output_type": "execute_result"
    }
   ],
   "source": [
    "frequencies[0].shape"
   ]
  },
  {
   "cell_type": "code",
   "execution_count": 66,
   "metadata": {},
   "outputs": [
    {
     "data": {
      "text/plain": [
       "(512, 16)"
      ]
     },
     "execution_count": 66,
     "metadata": {},
     "output_type": "execute_result"
    }
   ],
   "source": [
    "frequencies.shape"
   ]
  },
  {
   "cell_type": "markdown",
   "metadata": {},
   "source": [
    "## Use the alternate method described in tensorflow - importing data tutorial."
   ]
  },
  {
   "cell_type": "code",
   "execution_count": 69,
   "metadata": {},
   "outputs": [
    {
     "data": {
      "text/plain": [
       "dtype('float32')"
      ]
     },
     "execution_count": 69,
     "metadata": {},
     "output_type": "execute_result"
    }
   ],
   "source": [
    "frequencies.dtype"
   ]
  },
  {
   "cell_type": "code",
   "execution_count": 104,
   "metadata": {},
   "outputs": [],
   "source": [
    "freq_placeholder = tf.placeholder(frequencies.dtype, frequencies.shape)\n",
    "labels_placeholder = tf.placeholder(labels.dtype, labels.shape)"
   ]
  },
  {
   "cell_type": "code",
   "execution_count": 105,
   "metadata": {},
   "outputs": [],
   "source": [
    "dataset = tf.data.Dataset.from_tensor_slices((freq_placeholder, labels_placeholder))"
   ]
  },
  {
   "cell_type": "code",
   "execution_count": 106,
   "metadata": {},
   "outputs": [],
   "source": [
    "dataset = dataset.batch(batch_size)"
   ]
  },
  {
   "cell_type": "code",
   "execution_count": 107,
   "metadata": {},
   "outputs": [],
   "source": [
    "iterator = dataset.make_initializable_iterator()\n",
    "inputs, output_labels = iterator.get_next()"
   ]
  },
  {
   "cell_type": "code",
   "execution_count": 108,
   "metadata": {},
   "outputs": [
    {
     "name": "stdout",
     "output_type": "stream",
     "text": [
      "[[ 0.  1.  2.  3.  4.  5.  6.  7.  8.  9. 10. 11. 12. 13. 14. 15.]\n",
      " [ 1.  2.  3.  4.  5.  6.  7.  8.  9. 10. 11. 12. 13. 14. 15. 16.]\n",
      " [ 2.  3.  4.  5.  6.  7.  8.  9. 10. 11. 12. 13. 14. 15. 16. 17.]\n",
      " [ 3.  4.  5.  6.  7.  8.  9. 10. 11. 12. 13. 14. 15. 16. 17. 18.]\n",
      " [ 4.  5.  6.  7.  8.  9. 10. 11. 12. 13. 14. 15. 16. 17. 18. 19.]\n",
      " [ 5.  6.  7.  8.  9. 10. 11. 12. 13. 14. 15. 16. 17. 18. 19. 20.]\n",
      " [ 6.  7.  8.  9. 10. 11. 12. 13. 14. 15. 16. 17. 18. 19. 20. 21.]\n",
      " [ 7.  8.  9. 10. 11. 12. 13. 14. 15. 16. 17. 18. 19. 20. 21. 22.]\n",
      " [ 8.  9. 10. 11. 12. 13. 14. 15. 16. 17. 18. 19. 20. 21. 22. 23.]\n",
      " [ 9. 10. 11. 12. 13. 14. 15. 16. 17. 18. 19. 20. 21. 22. 23. 24.]\n",
      " [10. 11. 12. 13. 14. 15. 16. 17. 18. 19. 20. 21. 22. 23. 24. 25.]\n",
      " [11. 12. 13. 14. 15. 16. 17. 18. 19. 20. 21. 22. 23. 24. 25. 26.]\n",
      " [12. 13. 14. 15. 16. 17. 18. 19. 20. 21. 22. 23. 24. 25. 26. 27.]\n",
      " [13. 14. 15. 16. 17. 18. 19. 20. 21. 22. 23. 24. 25. 26. 27. 28.]\n",
      " [14. 15. 16. 17. 18. 19. 20. 21. 22. 23. 24. 25. 26. 27. 28. 29.]\n",
      " [15. 16. 17. 18. 19. 20. 21. 22. 23. 24. 25. 26. 27. 28. 29. 30.]\n",
      " [16. 17. 18. 19. 20. 21. 22. 23. 24. 25. 26. 27. 28. 29. 30. 31.]\n",
      " [17. 18. 19. 20. 21. 22. 23. 24. 25. 26. 27. 28. 29. 30. 31. 32.]\n",
      " [18. 19. 20. 21. 22. 23. 24. 25. 26. 27. 28. 29. 30. 31. 32. 33.]\n",
      " [19. 20. 21. 22. 23. 24. 25. 26. 27. 28. 29. 30. 31. 32. 33. 34.]\n",
      " [20. 21. 22. 23. 24. 25. 26. 27. 28. 29. 30. 31. 32. 33. 34. 35.]\n",
      " [21. 22. 23. 24. 25. 26. 27. 28. 29. 30. 31. 32. 33. 34. 35. 36.]\n",
      " [22. 23. 24. 25. 26. 27. 28. 29. 30. 31. 32. 33. 34. 35. 36. 37.]\n",
      " [23. 24. 25. 26. 27. 28. 29. 30. 31. 32. 33. 34. 35. 36. 37. 38.]\n",
      " [24. 25. 26. 27. 28. 29. 30. 31. 32. 33. 34. 35. 36. 37. 38. 39.]\n",
      " [25. 26. 27. 28. 29. 30. 31. 32. 33. 34. 35. 36. 37. 38. 39. 40.]\n",
      " [26. 27. 28. 29. 30. 31. 32. 33. 34. 35. 36. 37. 38. 39. 40. 41.]\n",
      " [27. 28. 29. 30. 31. 32. 33. 34. 35. 36. 37. 38. 39. 40. 41. 42.]\n",
      " [28. 29. 30. 31. 32. 33. 34. 35. 36. 37. 38. 39. 40. 41. 42. 43.]\n",
      " [29. 30. 31. 32. 33. 34. 35. 36. 37. 38. 39. 40. 41. 42. 43. 44.]\n",
      " [30. 31. 32. 33. 34. 35. 36. 37. 38. 39. 40. 41. 42. 43. 44. 45.]\n",
      " [31. 32. 33. 34. 35. 36. 37. 38. 39. 40. 41. 42. 43. 44. 45. 46.]]\n",
      "[[32. 33. 34. 35. 36. 37. 38. 39. 40. 41. 42. 43. 44. 45. 46. 47.]\n",
      " [33. 34. 35. 36. 37. 38. 39. 40. 41. 42. 43. 44. 45. 46. 47. 48.]\n",
      " [34. 35. 36. 37. 38. 39. 40. 41. 42. 43. 44. 45. 46. 47. 48. 49.]\n",
      " [35. 36. 37. 38. 39. 40. 41. 42. 43. 44. 45. 46. 47. 48. 49. 50.]\n",
      " [36. 37. 38. 39. 40. 41. 42. 43. 44. 45. 46. 47. 48. 49. 50. 51.]\n",
      " [37. 38. 39. 40. 41. 42. 43. 44. 45. 46. 47. 48. 49. 50. 51. 52.]\n",
      " [38. 39. 40. 41. 42. 43. 44. 45. 46. 47. 48. 49. 50. 51. 52. 53.]\n",
      " [39. 40. 41. 42. 43. 44. 45. 46. 47. 48. 49. 50. 51. 52. 53. 54.]\n",
      " [40. 41. 42. 43. 44. 45. 46. 47. 48. 49. 50. 51. 52. 53. 54. 55.]\n",
      " [41. 42. 43. 44. 45. 46. 47. 48. 49. 50. 51. 52. 53. 54. 55. 56.]\n",
      " [42. 43. 44. 45. 46. 47. 48. 49. 50. 51. 52. 53. 54. 55. 56. 57.]\n",
      " [43. 44. 45. 46. 47. 48. 49. 50. 51. 52. 53. 54. 55. 56. 57. 58.]\n",
      " [44. 45. 46. 47. 48. 49. 50. 51. 52. 53. 54. 55. 56. 57. 58. 59.]\n",
      " [45. 46. 47. 48. 49. 50. 51. 52. 53. 54. 55. 56. 57. 58. 59. 60.]\n",
      " [46. 47. 48. 49. 50. 51. 52. 53. 54. 55. 56. 57. 58. 59. 60. 61.]\n",
      " [47. 48. 49. 50. 51. 52. 53. 54. 55. 56. 57. 58. 59. 60. 61. 62.]\n",
      " [48. 49. 50. 51. 52. 53. 54. 55. 56. 57. 58. 59. 60. 61. 62. 63.]\n",
      " [49. 50. 51. 52. 53. 54. 55. 56. 57. 58. 59. 60. 61. 62. 63. 64.]\n",
      " [50. 51. 52. 53. 54. 55. 56. 57. 58. 59. 60. 61. 62. 63. 64. 65.]\n",
      " [51. 52. 53. 54. 55. 56. 57. 58. 59. 60. 61. 62. 63. 64. 65. 66.]\n",
      " [52. 53. 54. 55. 56. 57. 58. 59. 60. 61. 62. 63. 64. 65. 66. 67.]\n",
      " [53. 54. 55. 56. 57. 58. 59. 60. 61. 62. 63. 64. 65. 66. 67. 68.]\n",
      " [54. 55. 56. 57. 58. 59. 60. 61. 62. 63. 64. 65. 66. 67. 68. 69.]\n",
      " [55. 56. 57. 58. 59. 60. 61. 62. 63. 64. 65. 66. 67. 68. 69. 70.]\n",
      " [56. 57. 58. 59. 60. 61. 62. 63. 64. 65. 66. 67. 68. 69. 70. 71.]\n",
      " [57. 58. 59. 60. 61. 62. 63. 64. 65. 66. 67. 68. 69. 70. 71. 72.]\n",
      " [58. 59. 60. 61. 62. 63. 64. 65. 66. 67. 68. 69. 70. 71. 72. 73.]\n",
      " [59. 60. 61. 62. 63. 64. 65. 66. 67. 68. 69. 70. 71. 72. 73. 74.]\n",
      " [60. 61. 62. 63. 64. 65. 66. 67. 68. 69. 70. 71. 72. 73. 74. 75.]\n",
      " [61. 62. 63. 64. 65. 66. 67. 68. 69. 70. 71. 72. 73. 74. 75. 76.]\n",
      " [62. 63. 64. 65. 66. 67. 68. 69. 70. 71. 72. 73. 74. 75. 76. 77.]\n",
      " [63. 64. 65. 66. 67. 68. 69. 70. 71. 72. 73. 74. 75. 76. 77. 78.]]\n",
      "[[ 64.  65.  66.  67.  68.  69.  70.  71.  72.  73.  74.  75.  76.  77.\n",
      "   78.  79.]\n",
      " [ 65.  66.  67.  68.  69.  70.  71.  72.  73.  74.  75.  76.  77.  78.\n",
      "   79.  80.]\n",
      " [ 66.  67.  68.  69.  70.  71.  72.  73.  74.  75.  76.  77.  78.  79.\n",
      "   80.  81.]\n",
      " [ 67.  68.  69.  70.  71.  72.  73.  74.  75.  76.  77.  78.  79.  80.\n",
      "   81.  82.]\n",
      " [ 68.  69.  70.  71.  72.  73.  74.  75.  76.  77.  78.  79.  80.  81.\n",
      "   82.  83.]\n",
      " [ 69.  70.  71.  72.  73.  74.  75.  76.  77.  78.  79.  80.  81.  82.\n",
      "   83.  84.]\n",
      " [ 70.  71.  72.  73.  74.  75.  76.  77.  78.  79.  80.  81.  82.  83.\n",
      "   84.  85.]\n",
      " [ 71.  72.  73.  74.  75.  76.  77.  78.  79.  80.  81.  82.  83.  84.\n",
      "   85.  86.]\n",
      " [ 72.  73.  74.  75.  76.  77.  78.  79.  80.  81.  82.  83.  84.  85.\n",
      "   86.  87.]\n",
      " [ 73.  74.  75.  76.  77.  78.  79.  80.  81.  82.  83.  84.  85.  86.\n",
      "   87.  88.]\n",
      " [ 74.  75.  76.  77.  78.  79.  80.  81.  82.  83.  84.  85.  86.  87.\n",
      "   88.  89.]\n",
      " [ 75.  76.  77.  78.  79.  80.  81.  82.  83.  84.  85.  86.  87.  88.\n",
      "   89.  90.]\n",
      " [ 76.  77.  78.  79.  80.  81.  82.  83.  84.  85.  86.  87.  88.  89.\n",
      "   90.  91.]\n",
      " [ 77.  78.  79.  80.  81.  82.  83.  84.  85.  86.  87.  88.  89.  90.\n",
      "   91.  92.]\n",
      " [ 78.  79.  80.  81.  82.  83.  84.  85.  86.  87.  88.  89.  90.  91.\n",
      "   92.  93.]\n",
      " [ 79.  80.  81.  82.  83.  84.  85.  86.  87.  88.  89.  90.  91.  92.\n",
      "   93.  94.]\n",
      " [ 80.  81.  82.  83.  84.  85.  86.  87.  88.  89.  90.  91.  92.  93.\n",
      "   94.  95.]\n",
      " [ 81.  82.  83.  84.  85.  86.  87.  88.  89.  90.  91.  92.  93.  94.\n",
      "   95.  96.]\n",
      " [ 82.  83.  84.  85.  86.  87.  88.  89.  90.  91.  92.  93.  94.  95.\n",
      "   96.  97.]\n",
      " [ 83.  84.  85.  86.  87.  88.  89.  90.  91.  92.  93.  94.  95.  96.\n",
      "   97.  98.]\n",
      " [ 84.  85.  86.  87.  88.  89.  90.  91.  92.  93.  94.  95.  96.  97.\n",
      "   98.  99.]\n",
      " [ 85.  86.  87.  88.  89.  90.  91.  92.  93.  94.  95.  96.  97.  98.\n",
      "   99. 100.]\n",
      " [ 86.  87.  88.  89.  90.  91.  92.  93.  94.  95.  96.  97.  98.  99.\n",
      "  100. 101.]\n",
      " [ 87.  88.  89.  90.  91.  92.  93.  94.  95.  96.  97.  98.  99. 100.\n",
      "  101. 102.]\n",
      " [ 88.  89.  90.  91.  92.  93.  94.  95.  96.  97.  98.  99. 100. 101.\n",
      "  102. 103.]\n",
      " [ 89.  90.  91.  92.  93.  94.  95.  96.  97.  98.  99. 100. 101. 102.\n",
      "  103. 104.]\n",
      " [ 90.  91.  92.  93.  94.  95.  96.  97.  98.  99. 100. 101. 102. 103.\n",
      "  104. 105.]\n",
      " [ 91.  92.  93.  94.  95.  96.  97.  98.  99. 100. 101. 102. 103. 104.\n",
      "  105. 106.]\n",
      " [ 92.  93.  94.  95.  96.  97.  98.  99. 100. 101. 102. 103. 104. 105.\n",
      "  106. 107.]\n",
      " [ 93.  94.  95.  96.  97.  98.  99. 100. 101. 102. 103. 104. 105. 106.\n",
      "  107. 108.]\n",
      " [ 94.  95.  96.  97.  98.  99. 100. 101. 102. 103. 104. 105. 106. 107.\n",
      "  108. 109.]\n",
      " [ 95.  96.  97.  98.  99. 100. 101. 102. 103. 104. 105. 106. 107. 108.\n",
      "  109. 110.]]\n"
     ]
    }
   ],
   "source": [
    "with tf.Session() as sess:\n",
    "    sess.run(iterator.initializer, feed_dict={freq_placeholder: frequencies, labels_placeholder: labels})\n",
    "    for i in range(3):\n",
    "        print(sess.run(inputs))"
   ]
  },
  {
   "cell_type": "markdown",
   "metadata": {},
   "source": [
    "## model parameters constants.\n",
    "<font color='red'>Change parameters here for model tuning.</font>"
   ]
  },
  {
   "cell_type": "code",
   "execution_count": 96,
   "metadata": {},
   "outputs": [],
   "source": [
    "hidden_layers = 32\n",
    "number_layers = 2\n",
    "dropout = 0.0"
   ]
  },
  {
   "cell_type": "markdown",
   "metadata": {},
   "source": [
    "## Model initial state."
   ]
  },
  {
   "cell_type": "code",
   "execution_count": 95,
   "metadata": {},
   "outputs": [],
   "source": [
    "init_state = tf.placeholder(tf.float32, [number_layers, 2, batch_size, hidden_layers])\n",
    "state_per_layer_list = tf.unstack(init_state, axis=0)\n",
    "rnn_state_tuples = tuple([tf.nn.rnn_cell.LSTMStateTuple(state[0], state[1]) for state in state_per_layer_list])"
   ]
  },
  {
   "cell_type": "markdown",
   "metadata": {},
   "source": [
    "## Model"
   ]
  },
  {
   "cell_type": "code",
   "execution_count": null,
   "metadata": {},
   "outputs": [],
   "source": [
    "cell = tf.contrib.rnn.LSTMCell(hidden_size, forget_bias=1.0)\n",
    "if dropout != '0.0':\n",
    "    cell = tf.nn.rnn_cell.DropoutWrapper(cell, output_keep_prob=dropout)\n",
    "    \n",
    "if num_layers > 1:\n",
    "    cell_list = [cell for _ in range(num_layers)]\n",
    "    cell = tf.nn.rnn_cell.MultiRNNCell(cell_list, state_is_tuple=True)\n",
    "    \n",
    "output, state = tf.nn.dynamic_rnn(cell, inputs, dtype=tf.float32, initial_state=rnn_tuple_state)\n",
    "\n",
    "# flatten the rnn output to feed into a softmax layer.\n",
    "output = tf.reshape(output, [-1, hidden_size])\n",
    "\n",
    "# setup the softmax layer.\n",
    "softmax_w = tf.Variable(tf.random_uniform([hidden_size, 1], -init_scale, init_scale))\n",
    "softmax_b = tf.Variable(tf.random_uniform([1], -init_scale, init_scale))\n",
    "logits = tf.nn.xw_plus_b(output, softmax_w, softmax_b)"
   ]
  }
 ],
 "metadata": {
  "kernelspec": {
   "display_name": "Python 3",
   "language": "python",
   "name": "python3"
  },
  "language_info": {
   "codemirror_mode": {
    "name": "ipython",
    "version": 3
   },
   "file_extension": ".py",
   "mimetype": "text/x-python",
   "name": "python",
   "nbconvert_exporter": "python",
   "pygments_lexer": "ipython3",
   "version": "3.6.4"
  }
 },
 "nbformat": 4,
 "nbformat_minor": 2
}
