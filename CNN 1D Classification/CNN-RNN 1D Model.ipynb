{
 "cells": [
  {
   "cell_type": "code",
   "execution_count": 1,
   "metadata": {},
   "outputs": [],
   "source": [
    "import tensorflow as tf\n",
    "from tensorflow import keras\n",
    "import numpy as np\n",
    "import matplotlib.pyplot as plt"
   ]
  },
  {
   "cell_type": "code",
   "execution_count": 2,
   "metadata": {},
   "outputs": [],
   "source": [
    "def plot(graph, label=None):\n",
    "    plt.plot(graph)\n",
    "    if label is not None:\n",
    "        plt.xlabel(label)\n",
    "    axes = plt.gca()\n",
    "#     axes.set_ylim(0, 8)\n",
    "    plt.show()"
   ]
  },
  {
   "cell_type": "code",
   "execution_count": 3,
   "metadata": {},
   "outputs": [],
   "source": [
    "# straight line equation.\n",
    "def generate_straight_line(m=0, c=1, start=0, stop=50, increment=1):\n",
    "    straight_line = list()\n",
    "    for x in range(start, stop, increment):\n",
    "        straight_line.append((m*x) + c)\n",
    "\n",
    "    return np.array(straight_line)"
   ]
  },
  {
   "cell_type": "code",
   "execution_count": 4,
   "metadata": {},
   "outputs": [
    {
     "name": "stdout",
     "output_type": "stream",
     "text": [
      "334\n"
     ]
    }
   ],
   "source": [
    "# generate 30 straight lines with different slopes.\n",
    "lines = []\n",
    "line = generate_straight_line()\n",
    "for _ in range(334):\n",
    "    scaling_factor = np.random.randint(1, 5)\n",
    "    scaled_line = scaling_factor * line\n",
    "    rotation_factor = np.random.randint(10, 41)\n",
    "    scaled_line = np.roll(scaled_line, rotation_factor)\n",
    "    scaled_line[:rotation_factor] = 0\n",
    "    lines.append(scaled_line)\n",
    "        \n",
    "print(len(lines))"
   ]
  },
  {
   "cell_type": "code",
   "execution_count": 5,
   "metadata": {},
   "outputs": [],
   "source": [
    "# for line in lines:\n",
    "#     plot(line)"
   ]
  },
  {
   "cell_type": "code",
   "execution_count": 6,
   "metadata": {},
   "outputs": [],
   "source": [
    "theta = np.linspace(0, 2*np.pi, 200)\n",
    "b = 1 * np.sin(theta)"
   ]
  },
  {
   "cell_type": "code",
   "execution_count": 7,
   "metadata": {},
   "outputs": [],
   "source": [
    "# plot(b)"
   ]
  },
  {
   "cell_type": "code",
   "execution_count": 8,
   "metadata": {},
   "outputs": [],
   "source": [
    "# plot(b[:50])"
   ]
  },
  {
   "cell_type": "code",
   "execution_count": 9,
   "metadata": {},
   "outputs": [],
   "source": [
    "# plot(b[51:101])"
   ]
  },
  {
   "cell_type": "code",
   "execution_count": 10,
   "metadata": {},
   "outputs": [
    {
     "name": "stdout",
     "output_type": "stream",
     "text": [
      "334\n"
     ]
    }
   ],
   "source": [
    "# generate 30 straight lines with different slopes.\n",
    "circles_up = []\n",
    "circle = b[:50]\n",
    "for _ in range(334):\n",
    "    scaling_factor = np.random.randint(1, 5)\n",
    "    scaled_circle = scaling_factor * circle\n",
    "    rotation_factor = np.random.randint(10, 41)\n",
    "    scaled_circle = np.roll(scaled_circle, rotation_factor)\n",
    "    scaled_circle[:rotation_factor] = 0\n",
    "    circles_up.append(scaled_circle)\n",
    "        \n",
    "print(len(circles_up))"
   ]
  },
  {
   "cell_type": "code",
   "execution_count": 11,
   "metadata": {},
   "outputs": [],
   "source": [
    "# for circle in circles_up:\n",
    "#     plot(circle)"
   ]
  },
  {
   "cell_type": "code",
   "execution_count": 12,
   "metadata": {},
   "outputs": [
    {
     "name": "stdout",
     "output_type": "stream",
     "text": [
      "334\n"
     ]
    }
   ],
   "source": [
    "# generate 30 straight lines with different slopes.\n",
    "circles_down = []\n",
    "circle = b[51:101]\n",
    "for _ in range(334):\n",
    "    scaling_factor = np.random.randint(1, 5)\n",
    "    scaled_circle = scaling_factor * circle\n",
    "    rotation_factor = np.random.randint(10, 41)\n",
    "    scaled_circle = np.roll(scaled_circle, rotation_factor)\n",
    "    scaled_circle[:rotation_factor] = 0\n",
    "    circles_down.append(scaled_circle)\n",
    "        \n",
    "print(len(circles_down))"
   ]
  },
  {
   "cell_type": "code",
   "execution_count": 13,
   "metadata": {},
   "outputs": [
    {
     "data": {
      "text/plain": [
       "list"
      ]
     },
     "execution_count": 13,
     "metadata": {},
     "output_type": "execute_result"
    }
   ],
   "source": [
    "type(circles_down)"
   ]
  },
  {
   "cell_type": "code",
   "execution_count": 14,
   "metadata": {},
   "outputs": [
    {
     "data": {
      "text/plain": [
       "numpy.ndarray"
      ]
     },
     "execution_count": 14,
     "metadata": {},
     "output_type": "execute_result"
    }
   ],
   "source": [
    "type(circles_down[0])"
   ]
  },
  {
   "cell_type": "markdown",
   "metadata": {},
   "source": [
    "## generating the training and testing data."
   ]
  },
  {
   "cell_type": "code",
   "execution_count": 15,
   "metadata": {},
   "outputs": [],
   "source": [
    "x = list()\n",
    "x.extend(lines)\n",
    "x.extend(circles_up)\n",
    "x.extend(circles_down)"
   ]
  },
  {
   "cell_type": "markdown",
   "metadata": {},
   "source": [
    "## convert 2d array into numpy array with dimensions (None, 50, 1)."
   ]
  },
  {
   "cell_type": "code",
   "execution_count": 16,
   "metadata": {},
   "outputs": [],
   "source": [
    "# print(x)"
   ]
  },
  {
   "cell_type": "code",
   "execution_count": 17,
   "metadata": {},
   "outputs": [
    {
     "data": {
      "text/plain": [
       "(50,)"
      ]
     },
     "execution_count": 17,
     "metadata": {},
     "output_type": "execute_result"
    }
   ],
   "source": [
    "x[0].shape"
   ]
  },
  {
   "cell_type": "code",
   "execution_count": 20,
   "metadata": {},
   "outputs": [
    {
     "name": "stdout",
     "output_type": "stream",
     "text": [
      "[0.         0.         0.         0.         0.         0.\n",
      " 0.         0.         0.         0.         0.         0.\n",
      " 0.1262742  0.25242253 0.37831923 0.50383882 0.62885617 0.75324667\n",
      " 0.87688631 0.99965185 1.12142092 1.24207213 1.36148521 1.47954114\n",
      " 1.59612223 1.71111227 1.82439664 1.9358624  2.04539846 2.15289562\n",
      " 2.25824673 2.36134677 2.46209296 2.56038489 2.65612457 2.74921657\n",
      " 2.83956809 2.92708907 3.01169226 3.09329332 3.17181093 3.24716681\n",
      " 3.31928584 3.38809614 3.4535291  3.51551952 3.57400558 3.628929\n",
      " 3.68023503 3.72787252]\n"
     ]
    }
   ],
   "source": [
    "print(x[335])"
   ]
  },
  {
   "cell_type": "code",
   "execution_count": 21,
   "metadata": {},
   "outputs": [],
   "source": [
    "x_temp = x"
   ]
  },
  {
   "cell_type": "code",
   "execution_count": 22,
   "metadata": {},
   "outputs": [],
   "source": [
    "for i in range(len(x_temp)):\n",
    "    x_temp[i] = np.reshape(x_temp[i], (50,1))"
   ]
  },
  {
   "cell_type": "code",
   "execution_count": null,
   "metadata": {},
   "outputs": [],
   "source": [
    "# x[0].shape"
   ]
  },
  {
   "cell_type": "code",
   "execution_count": null,
   "metadata": {},
   "outputs": [],
   "source": [
    "# x_np = np.zeros((99, 50), dtype=np.float32)"
   ]
  },
  {
   "cell_type": "code",
   "execution_count": null,
   "metadata": {},
   "outputs": [],
   "source": [
    "# print(x_np)"
   ]
  },
  {
   "cell_type": "code",
   "execution_count": null,
   "metadata": {},
   "outputs": [],
   "source": [
    "# x_np.shape"
   ]
  },
  {
   "cell_type": "code",
   "execution_count": null,
   "metadata": {},
   "outputs": [],
   "source": [
    "# x_np[0].shape"
   ]
  },
  {
   "cell_type": "code",
   "execution_count": null,
   "metadata": {},
   "outputs": [],
   "source": [
    "# x_np[0, :].shape"
   ]
  },
  {
   "cell_type": "code",
   "execution_count": 23,
   "metadata": {},
   "outputs": [],
   "source": [
    "for index in range(1002):\n",
    "    if x[index].shape != x[0].shape:\n",
    "        print(\"mismatch \", index)"
   ]
  },
  {
   "cell_type": "code",
   "execution_count": null,
   "metadata": {},
   "outputs": [],
   "source": [
    "# for index in range(99):\n",
    "# #     print(index)\n",
    "#     x_np[index, :] = x[index]"
   ]
  },
  {
   "cell_type": "code",
   "execution_count": null,
   "metadata": {},
   "outputs": [],
   "source": [
    "# x_np.shape"
   ]
  },
  {
   "cell_type": "code",
   "execution_count": null,
   "metadata": {},
   "outputs": [],
   "source": [
    "# x_np = np.reshape(x_np, (99, 50, 1))"
   ]
  },
  {
   "cell_type": "code",
   "execution_count": null,
   "metadata": {},
   "outputs": [],
   "source": [
    "# len(x_np)"
   ]
  },
  {
   "cell_type": "code",
   "execution_count": null,
   "metadata": {},
   "outputs": [],
   "source": [
    "# plot(x[668], y[668])"
   ]
  },
  {
   "cell_type": "code",
   "execution_count": 24,
   "metadata": {},
   "outputs": [],
   "source": [
    "classes = ['lines', 'up', 'down']\n",
    "y = list()\n",
    "position = 0\n",
    "for index in range(len(x)):\n",
    "    y.append(classes[position])\n",
    "    if index == 333:\n",
    "        position += 1\n",
    "    elif index == 667:\n",
    "        position += 1"
   ]
  },
  {
   "cell_type": "code",
   "execution_count": 25,
   "metadata": {},
   "outputs": [],
   "source": [
    "# checking for validation.\n",
    "for index, value in enumerate(y):\n",
    "    if index >= 0 and index < 334:\n",
    "        if value != 'lines':\n",
    "            print('error at index', index)\n",
    "    elif index >= 334 and index < 668:\n",
    "        if value != 'up':\n",
    "            print('error at index', index)\n",
    "    else:\n",
    "        if value != 'down':\n",
    "            print('error at index', index)"
   ]
  },
  {
   "cell_type": "code",
   "execution_count": 26,
   "metadata": {},
   "outputs": [],
   "source": [
    "x_preshuffle = x\n",
    "y_preshuffle = y"
   ]
  },
  {
   "cell_type": "code",
   "execution_count": 27,
   "metadata": {},
   "outputs": [],
   "source": [
    "# for reinitializing x and y.\n",
    "reinitialize = False\n",
    "if reinitialize:\n",
    "    x = x_preshuffle\n",
    "    y = y_preshuffle"
   ]
  },
  {
   "cell_type": "markdown",
   "metadata": {},
   "source": [
    "## numpy random shuffling didnt work."
   ]
  },
  {
   "cell_type": "code",
   "execution_count": 28,
   "metadata": {},
   "outputs": [],
   "source": [
    "# shuffling the array.\n",
    "# random_state = np.random.get_state()\n",
    "# np.random.shuffle(x)\n",
    "# np.random.set_state(random_state)\n",
    "# np.random.shuffle(y)"
   ]
  },
  {
   "cell_type": "markdown",
   "metadata": {},
   "source": [
    "## testing shuffling with python random."
   ]
  },
  {
   "cell_type": "code",
   "execution_count": 29,
   "metadata": {},
   "outputs": [],
   "source": [
    "import random\n",
    "\n",
    "combined_lists = list(zip(x, y))\n",
    "random.shuffle(combined_lists)\n",
    "\n",
    "x[:], y[:] = zip(*combined_lists)"
   ]
  },
  {
   "cell_type": "code",
   "execution_count": 30,
   "metadata": {},
   "outputs": [],
   "source": [
    "x_plot = x\n",
    "y_plot = y"
   ]
  },
  {
   "cell_type": "code",
   "execution_count": 31,
   "metadata": {},
   "outputs": [
    {
     "data": {
      "image/png": "[encoded data removed]",
      "text/plain": [
       "<Figure size 432x288 with 1 Axes>"
      ]
     },
     "metadata": {},
     "output_type": "display_data"
    }
   ],
   "source": [
    "plot(x_plot[2], y_plot[2])"
   ]
  },
  {
   "cell_type": "code",
   "execution_count": 32,
   "metadata": {},
   "outputs": [],
   "source": [
    "# for index in range(99):\n",
    "#     plot(x[index], y[index])"
   ]
  },
  {
   "cell_type": "code",
   "execution_count": 33,
   "metadata": {},
   "outputs": [
    {
     "data": {
      "text/plain": [
       "1002"
      ]
     },
     "execution_count": 33,
     "metadata": {},
     "output_type": "execute_result"
    }
   ],
   "source": [
    "len(x)"
   ]
  },
  {
   "cell_type": "code",
   "execution_count": 34,
   "metadata": {},
   "outputs": [
    {
     "data": {
      "text/plain": [
       "(50, 1)"
      ]
     },
     "execution_count": 34,
     "metadata": {},
     "output_type": "execute_result"
    }
   ],
   "source": [
    "x[0].shape"
   ]
  },
  {
   "cell_type": "code",
   "execution_count": 35,
   "metadata": {},
   "outputs": [
    {
     "name": "stdout",
     "output_type": "stream",
     "text": [
      "{'lines', 'up', 'down'}\n"
     ]
    }
   ],
   "source": [
    "print(set(y))"
   ]
  },
  {
   "cell_type": "code",
   "execution_count": 36,
   "metadata": {},
   "outputs": [],
   "source": [
    "def convertToNumbers(x):\n",
    "    if x == 'lines':\n",
    "        return 0\n",
    "    elif x == 'up':\n",
    "        return 1\n",
    "    elif x == 'down':\n",
    "        return 2\n",
    "    else:\n",
    "        return 3\n",
    "    \n",
    "y = [convertToNumbers(x) for x in y]"
   ]
  },
  {
   "cell_type": "code",
   "execution_count": 37,
   "metadata": {},
   "outputs": [
    {
     "name": "stdout",
     "output_type": "stream",
     "text": [
      "{0, 1, 2}\n"
     ]
    }
   ],
   "source": [
    "print(set(y))"
   ]
  },
  {
   "cell_type": "code",
   "execution_count": 38,
   "metadata": {},
   "outputs": [],
   "source": [
    "x_train, x_test = x[:900], x[900:]"
   ]
  },
  {
   "cell_type": "code",
   "execution_count": 39,
   "metadata": {},
   "outputs": [],
   "source": [
    "y_train, y_test = y[:900], y[900:]"
   ]
  },
  {
   "cell_type": "code",
   "execution_count": null,
   "metadata": {},
   "outputs": [],
   "source": [
    "print(set(y_test))"
   ]
  },
  {
   "cell_type": "code",
   "execution_count": null,
   "metadata": {},
   "outputs": [],
   "source": [
    "print(set(y_train))"
   ]
  },
  {
   "cell_type": "code",
   "execution_count": null,
   "metadata": {},
   "outputs": [],
   "source": [
    "print('training data sizes:-', len(x_train), len(y_train))\n",
    "print('test data sizes:-', len(x_test), len(y_test))"
   ]
  },
  {
   "cell_type": "code",
   "execution_count": null,
   "metadata": {},
   "outputs": [],
   "source": [
    "y_categorical_train = keras.utils.to_categorical(y_train, num_classes=3)\n",
    "y_categorical_test = keras.utils.to_categorical(y_test, num_classes=3)"
   ]
  },
  {
   "cell_type": "code",
   "execution_count": null,
   "metadata": {},
   "outputs": [],
   "source": [
    "print(type(x_train), type(x_test))\n",
    "print(type(y_train), type(y_test))"
   ]
  },
  {
   "cell_type": "code",
   "execution_count": null,
   "metadata": {},
   "outputs": [],
   "source": [
    "for x in x_train:\n",
    "    if x.shape != x_train[0].shape:\n",
    "        print('False')"
   ]
  },
  {
   "cell_type": "code",
   "execution_count": null,
   "metadata": {},
   "outputs": [],
   "source": [
    "x_train[0].shape"
   ]
  },
  {
   "cell_type": "code",
   "execution_count": null,
   "metadata": {},
   "outputs": [],
   "source": [
    "x_train_np = np.array(x_train)\n",
    "x_train_np = np.reshape(x_train_np, (900, 50, 1))"
   ]
  },
  {
   "cell_type": "code",
   "execution_count": null,
   "metadata": {},
   "outputs": [],
   "source": [
    "x_test_np = np.reshape(np.array(x_test), (102, 50, 1))"
   ]
  },
  {
   "cell_type": "markdown",
   "metadata": {},
   "source": [
    "## Training the convolution model."
   ]
  },
  {
   "cell_type": "code",
   "execution_count": null,
   "metadata": {},
   "outputs": [],
   "source": [
    "# convolution network model.\n",
    "model = keras.Sequential()\n",
    "model.add(keras.layers.Conv1D(filters=4, kernel_size=(3,), activation='relu', input_shape=(50,1)))\n",
    "model.add(keras.layers.MaxPooling1D())\n",
    "model.add(keras.layers.Flatten())\n",
    "model.add(keras.layers.Dense(32, activation='relu'))\n",
    "model.add(keras.layers.Dense(3, activation='softmax'))\n",
    "# print(model.output_shape)"
   ]
  },
  {
   "cell_type": "code",
   "execution_count": null,
   "metadata": {},
   "outputs": [],
   "source": [
    "model.compile(loss=keras.losses.categorical_crossentropy,\n",
    "             optimizer=tf.keras.optimizers.Adadelta(),\n",
    "             metrics=['accuracy'])"
   ]
  },
  {
   "cell_type": "code",
   "execution_count": null,
   "metadata": {},
   "outputs": [],
   "source": [
    "model.fit(x_train_np, y_categorical_train, epochs=500)"
   ]
  },
  {
   "cell_type": "code",
   "execution_count": null,
   "metadata": {},
   "outputs": [],
   "source": [
    "model.summary()"
   ]
  },
  {
   "cell_type": "code",
   "execution_count": null,
   "metadata": {},
   "outputs": [],
   "source": [
    "model.evaluate(x_test_np, y_categorical_test)"
   ]
  },
  {
   "cell_type": "markdown",
   "metadata": {},
   "source": [
    "## Training the RNN model.\n",
    "### Model Parameters.\n",
    "1. test window sizes in multiples of 2.\n",
    "2. need to generate test data for sequences."
   ]
  },
  {
   "cell_type": "code",
   "execution_count": null,
   "metadata": {},
   "outputs": [],
   "source": [
    "rnn_x = list()\n",
    "rnn_y = list()"
   ]
  },
  {
   "cell_type": "code",
   "execution_count": null,
   "metadata": {},
   "outputs": [],
   "source": [
    "seq1_train_example = np.array([1, 0, 0, 0, 2])\n",
    "seq2_train_example = np.array([0, 0, 0, 0, 0])\n",
    "seq3_train_example = np.array([2, 0, 1, 2, 2])"
   ]
  },
  {
   "cell_type": "code",
   "execution_count": null,
   "metadata": {},
   "outputs": [],
   "source": [
    "for index in range(99):\n",
    "    if index < 33:\n",
    "        rnn_x.append(seq1_train_example)\n",
    "        rnn_y.append(0)\n",
    "    elif index >= 33 and index < 66:\n",
    "        rnn_x.append(seq2_train_example)\n",
    "        rnn_y.append(1)\n",
    "    else:\n",
    "        rnn_x.append(seq3_train_example)\n",
    "        rnn_y.append(2)"
   ]
  },
  {
   "cell_type": "code",
   "execution_count": null,
   "metadata": {},
   "outputs": [],
   "source": [
    "import random\n",
    "\n",
    "combined_lists = list(zip(rnn_x, rnn_y))\n",
    "random.shuffle(combined_lists)\n",
    "\n",
    "rnn_x[:], rnn_y[:] = zip(*combined_lists)"
   ]
  },
  {
   "cell_type": "code",
   "execution_count": null,
   "metadata": {},
   "outputs": [],
   "source": [
    "index = 14\n",
    "print(rnn_x[index], rnn_y[index])"
   ]
  },
  {
   "cell_type": "code",
   "execution_count": null,
   "metadata": {},
   "outputs": [],
   "source": [
    "train_rnn_x = rnn_x[:90]\n",
    "train_rnn_y = rnn_y[:90]"
   ]
  },
  {
   "cell_type": "code",
   "execution_count": null,
   "metadata": {},
   "outputs": [],
   "source": [
    "test_rnn_x = rnn_x[90:]\n",
    "test_rnn_y = rnn_y[90:]"
   ]
  },
  {
   "cell_type": "code",
   "execution_count": null,
   "metadata": {},
   "outputs": [],
   "source": [
    "# check lengths of training, test datasets.\n",
    "print(len(train_rnn_x), len(train_rnn_y))\n",
    "print(len(test_rnn_x), len(test_rnn_y))"
   ]
  },
  {
   "cell_type": "code",
   "execution_count": null,
   "metadata": {},
   "outputs": [],
   "source": [
    "train_rnn_x_np = np.array(train_rnn_x)"
   ]
  },
  {
   "cell_type": "code",
   "execution_count": null,
   "metadata": {},
   "outputs": [],
   "source": [
    "train_rnn_x_np.shape"
   ]
  },
  {
   "cell_type": "code",
   "execution_count": null,
   "metadata": {},
   "outputs": [],
   "source": [
    "train_rnn_x_np = np.reshape(train_rnn_x_np, (90, 5))"
   ]
  },
  {
   "cell_type": "code",
   "execution_count": null,
   "metadata": {},
   "outputs": [],
   "source": [
    "train_rnn_y_cat = keras.utils.to_categorical(train_rnn_y, num_classes=3)"
   ]
  },
  {
   "cell_type": "code",
   "execution_count": null,
   "metadata": {},
   "outputs": [],
   "source": [
    "test_rnn_x_np = np.array(test_rnn_x)\n",
    "test_rnn_y_cat = keras.utils.to_categorical(test_rnn_y, num_classes=3)"
   ]
  },
  {
   "cell_type": "code",
   "execution_count": null,
   "metadata": {},
   "outputs": [],
   "source": [
    "# create the model.\n",
    "embedding_vector_length = 4\n",
    "rnn_model = keras.models.Sequential()\n",
    "rnn_model.add(keras.layers.Embedding(5, embedding_vector_length, input_length=5))\n",
    "rnn_model.add(keras.layers.LSTM(100))\n",
    "rnn_model.add(keras.layers.Dense(3, activation='softmax'))"
   ]
  },
  {
   "cell_type": "code",
   "execution_count": null,
   "metadata": {},
   "outputs": [],
   "source": [
    "rnn_model.compile(loss='categorical_crossentropy', optimizer=tf.keras.optimizers.Adadelta(), metrics=['accuracy'])"
   ]
  },
  {
   "cell_type": "code",
   "execution_count": null,
   "metadata": {},
   "outputs": [],
   "source": [
    "rnn_model.fit(train_rnn_x_np, train_rnn_y_cat, epochs=10)"
   ]
  },
  {
   "cell_type": "code",
   "execution_count": null,
   "metadata": {},
   "outputs": [],
   "source": [
    "rnn_model.evaluate(test_rnn_x_np, test_rnn_y_cat)"
   ]
  }
 ],
 "metadata": {
  "kernelspec": {
   "display_name": "Python 3",
   "language": "python",
   "name": "python3"
  },
  "language_info": {
   "codemirror_mode": {
    "name": "ipython",
    "version": 3
   },
   "file_extension": ".py",
   "mimetype": "text/x-python",
   "name": "python",
   "nbconvert_exporter": "python",
   "pygments_lexer": "ipython3",
   "version": "3.6.4"
  }
 },
 "nbformat": 4,
 "nbformat_minor": 2
}
