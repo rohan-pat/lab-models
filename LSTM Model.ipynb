{
 "cells": [
  {
   "cell_type": "code",
   "execution_count": 1,
   "metadata": {},
   "outputs": [],
   "source": [
    "import tensorflow as tf\n",
    "import numpy as np\n",
    "\n",
    "import matplotlib\n",
    "import matplotlib.pyplot as plt\n",
    "\n",
    "import time\n",
    "import random\n",
    "\n",
    "from tensorflow.python.framework import graph_util\n",
    "from tensorflow.python.framework import ops\n",
    "\n",
    "from pandas_ml import ConfusionMatrix"
   ]
  },
  {
   "cell_type": "markdown",
   "metadata": {},
   "source": [
    "## load all npz files from npz_files directory."
   ]
  },
  {
   "cell_type": "code",
   "execution_count": 2,
   "metadata": {},
   "outputs": [],
   "source": [
    "import os\n",
    "\n",
    "npz_files_directory_train = '/home/rohan/Desktop/label-generator/raw_files/npz-files/train'\n",
    "npz_files_directory_test = '/home/rohan/Desktop/label-generator/raw_files/npz-files/test'\n",
    "# collect all files from npz directory.\n",
    "train_files = list()\n",
    "for f in os.listdir(npz_files_directory_train):\n",
    "    train_files.append(f)\n",
    "    \n",
    "test_files = list()\n",
    "for f in os.listdir(npz_files_directory_test):\n",
    "    test_files.append(f)"
   ]
  },
  {
   "cell_type": "code",
   "execution_count": 3,
   "metadata": {},
   "outputs": [],
   "source": [
    "train_files = [file for file in train_files if file[-3:] == 'npz']\n",
    "test_files = [file for file in test_files if file[-3:] == 'npz']"
   ]
  },
  {
   "cell_type": "code",
   "execution_count": 4,
   "metadata": {},
   "outputs": [
    {
     "name": "stdout",
     "output_type": "stream",
     "text": [
      "number of train files 5\n",
      "number of test files 3\n"
     ]
    }
   ],
   "source": [
    "print('number of train files', len(train_files))\n",
    "print('number of test files', len(test_files))"
   ]
  },
  {
   "cell_type": "markdown",
   "metadata": {},
   "source": [
    "## load all numpy arrays into training data x and y.\n",
    "structure of the npz files = ['c1', 'c2', 'c3', 'Z', 'labels'].\n",
    "c1, c2, c3 => numpy array containing all class 1, 2, 3 bounding boxes respectively.\n",
    "Z => the raw PSD files.\n",
    "labels => pixel wise labels for psd files. same dimensions as the PSD files."
   ]
  },
  {
   "cell_type": "code",
   "execution_count": 5,
   "metadata": {},
   "outputs": [],
   "source": [
    "def load_data(directory, files_list):\n",
    "    training_data_x = list()\n",
    "    training_data_y = list()\n",
    "\n",
    "    count = 0\n",
    "    for file_name in files_list:\n",
    "        data1 = np.load(directory + '/' + file_name)\n",
    "        training_data_x.append(data1['Z'])\n",
    "        training_data_y.append(data1['labels'])\n",
    "        count += 1\n",
    "    print('files loaded', count)\n",
    "    return training_data_x, training_data_y "
   ]
  },
  {
   "cell_type": "code",
   "execution_count": 6,
   "metadata": {},
   "outputs": [
    {
     "name": "stdout",
     "output_type": "stream",
     "text": [
      "files loaded 5\n"
     ]
    }
   ],
   "source": [
    "training_data_x, training_data_y = load_data(npz_files_directory_train, train_files)"
   ]
  },
  {
   "cell_type": "code",
   "execution_count": 7,
   "metadata": {},
   "outputs": [
    {
     "name": "stdout",
     "output_type": "stream",
     "text": [
      "files loaded 3\n"
     ]
    }
   ],
   "source": [
    "test_data_x, test_data_y = load_data(npz_files_directory_test, test_files)"
   ]
  },
  {
   "cell_type": "code",
   "execution_count": 8,
   "metadata": {},
   "outputs": [
    {
     "name": "stdout",
     "output_type": "stream",
     "text": [
      "shape of training_data_x 5\n",
      "shape of training_data_y 5\n"
     ]
    }
   ],
   "source": [
    "print('shape of training_data_x', len(training_data_x))\n",
    "print('shape of training_data_y', len(training_data_y))"
   ]
  },
  {
   "cell_type": "code",
   "execution_count": 9,
   "metadata": {},
   "outputs": [
    {
     "name": "stdout",
     "output_type": "stream",
     "text": [
      "shape of training_data_x 3\n",
      "shape of training_data_y 3\n"
     ]
    }
   ],
   "source": [
    "print('shape of training_data_x', len(test_data_x))\n",
    "print('shape of training_data_y', len(test_data_y))"
   ]
  },
  {
   "cell_type": "code",
   "execution_count": 10,
   "metadata": {},
   "outputs": [
    {
     "name": "stdout",
     "output_type": "stream",
     "text": [
      "shape of training_data_x samples (1953, 512)\n",
      "shape of training_data_y samples (1953, 512)\n"
     ]
    }
   ],
   "source": [
    "print('shape of training_data_x samples', training_data_x[0].shape)\n",
    "print('shape of training_data_y samples', training_data_y[0].shape)"
   ]
  },
  {
   "cell_type": "markdown",
   "metadata": {},
   "source": [
    "## variable structures:-\n",
    "1. train_x contains all Z for all files.\n",
    "2. train_y contains all label for all files."
   ]
  },
  {
   "cell_type": "markdown",
   "metadata": {},
   "source": [
    "## convert training_data_x to shape (size of all timesteps, 512)"
   ]
  },
  {
   "cell_type": "code",
   "execution_count": 11,
   "metadata": {},
   "outputs": [],
   "source": [
    "def processFrequencies(freq, num_steps):\n",
    "    frequencies = np.zeros((512, num_steps), dtype=np.float32)\n",
    "    assert freq.shape[0] == 512\n",
    "    freq = np.reshape(freq, (512, 1))\n",
    "    for i in range(freq.shape[0]):\n",
    "        if freq[i:i+num_steps, 0].shape[0] == num_steps:\n",
    "            frequencies[i, :] = freq[i:i+num_steps, 0]\n",
    "        else:\n",
    "#             print(freq[i:i+num_steps, 0].shape[0])\n",
    "            frequencies[i, :] = np.pad(freq[i:i+num_steps, 0], (0, num_steps-freq[i:i+num_steps, 0].shape[0]), 'edge')\n",
    "    frequencies = np.reshape(frequencies, (512, num_steps, 1))\n",
    "    return frequencies"
   ]
  },
  {
   "cell_type": "code",
   "execution_count": 12,
   "metadata": {},
   "outputs": [],
   "source": [
    "def processLabels(labels):\n",
    "    labels = np.reshape(labels, (512, 1))\n",
    "    labels_reshaped = np.zeros((512, 4))\n",
    "    for i in range(labels.shape[0]):\n",
    "        labels_reshaped[i, labels[i, 0]] = 1\n",
    "    return labels_reshaped"
   ]
  },
  {
   "cell_type": "markdown",
   "metadata": {},
   "source": [
    "## Convert all x_train data to serial x_train data."
   ]
  },
  {
   "cell_type": "code",
   "execution_count": 13,
   "metadata": {},
   "outputs": [],
   "source": [
    "# global parameters.\n",
    "x_train, y_train, x_test, y_test = list(), list(), list(), list()\n",
    "num_steps = 8"
   ]
  },
  {
   "cell_type": "code",
   "execution_count": 14,
   "metadata": {},
   "outputs": [],
   "source": [
    "def convertToSerialList(x, y, x_copy, y_copy):\n",
    "    assert len(x) == len(y)\n",
    "    for i in range(len(x)):\n",
    "        for j in range(x[i].shape[0]):\n",
    "            x_copy.append(processFrequencies(x[i][j,:] , num_steps))\n",
    "            y_copy.append(processLabels(y[i][j,:]))"
   ]
  },
  {
   "cell_type": "code",
   "execution_count": 15,
   "metadata": {},
   "outputs": [],
   "source": [
    "convertToSerialList(training_data_x, training_data_y, x_train, y_train)"
   ]
  },
  {
   "cell_type": "code",
   "execution_count": 16,
   "metadata": {},
   "outputs": [
    {
     "name": "stdout",
     "output_type": "stream",
     "text": [
      "length of x is  9765\n",
      "length of y is  9765\n"
     ]
    }
   ],
   "source": [
    "print('length of x is ', len(x_train))\n",
    "print('length of y is ', len(y_train))"
   ]
  },
  {
   "cell_type": "code",
   "execution_count": 17,
   "metadata": {},
   "outputs": [
    {
     "name": "stdout",
     "output_type": "stream",
     "text": [
      "shape of x is  (512, 8, 1)\n",
      "shape of x is  (512, 4)\n"
     ]
    }
   ],
   "source": [
    "print('shape of x is ', x_train[0].shape)\n",
    "print('shape of x is ', y_train[0].shape)"
   ]
  },
  {
   "cell_type": "code",
   "execution_count": 18,
   "metadata": {},
   "outputs": [],
   "source": [
    "convertToSerialList(test_data_x, test_data_y, x_test, y_test)"
   ]
  },
  {
   "cell_type": "code",
   "execution_count": 19,
   "metadata": {},
   "outputs": [
    {
     "name": "stdout",
     "output_type": "stream",
     "text": [
      "length of x is  5858\n",
      "length of y is  5858\n"
     ]
    }
   ],
   "source": [
    "print('length of x is ', len(x_test))\n",
    "print('length of y is ', len(y_test))"
   ]
  },
  {
   "cell_type": "code",
   "execution_count": 20,
   "metadata": {},
   "outputs": [
    {
     "name": "stdout",
     "output_type": "stream",
     "text": [
      "shape of x is  (512, 8, 1)\n",
      "shape of x is  (512, 4)\n"
     ]
    }
   ],
   "source": [
    "print('shape of x is ', x_test[0].shape)\n",
    "print('shape of x is ', y_test[0].shape)"
   ]
  },
  {
   "cell_type": "code",
   "execution_count": 21,
   "metadata": {},
   "outputs": [],
   "source": [
    "# deleting unused files.\n",
    "del training_data_x, training_data_y, test_data_x, test_data_y"
   ]
  },
  {
   "cell_type": "markdown",
   "metadata": {},
   "source": [
    "## Creating the RNN model."
   ]
  },
  {
   "cell_type": "code",
   "execution_count": 22,
   "metadata": {},
   "outputs": [],
   "source": [
    "# RNN Global Parameter models.\n",
    "num_steps = 8\n",
    "frequency_shape = [512, num_steps, 1]\n",
    "labels_shape = [512, 4]\n",
    "\n",
    "hidden_layer_dimension = 32\n",
    "number_layers = 2\n",
    "use_dropout = False\n",
    "dropout = 0.0\n",
    "num_layers = 2\n",
    "batch_size = 128\n",
    "learning_rate = 0.001\n",
    "num_epochs = 200\n",
    "step_size = 512 // batch_size\n",
    "num_samples_train = len(x_train)\n",
    "num_samples_test = len(x_test)\n",
    "shuffled_indexed_train = [i for i in range(num_samples_train)]\n",
    "shuffled_indexed_test = [i for i in range(num_samples_test)]\n",
    "prediction_list = list()"
   ]
  },
  {
   "cell_type": "code",
   "execution_count": 23,
   "metadata": {},
   "outputs": [],
   "source": [
    "class Input:\n",
    "    def __init__(self, frequencies, labels, is_train=True):\n",
    "        \"\"\"\n",
    "        creates two run able objects -> inputs for feeding inputs and labels.\n",
    "        \"\"\"\n",
    "        self.is_train = is_train\n",
    "        self.frequencies = None\n",
    "        self.labels = None\n",
    "        self.getData()\n",
    "#         self.dataset = tf.data.Dataset.from_tensor_slices((self.frequencies, self.labels))\n",
    "#         if is_train:\n",
    "#             self.dataset = self.dataset.shuffle(buffer_size=num_samples_train)\n",
    "#         self.dataset = self.dataset.apply(tf.contrib.data.unbatch())\n",
    "#         self.dataset = self.dataset.batch(batch_size)\n",
    "#         self.dataset = self.dataset.prefetch(512 // batch_size)\n",
    "        \n",
    "#         self.iterator = self.dataset.make_initializable_iterator()\n",
    "        \n",
    "    def getOutputType(self):\n",
    "        return self.dataset.output_types\n",
    "    \n",
    "    def getOutputShape(self):\n",
    "        return self.dataset.output_shapes\n",
    "    \n",
    "    def getData(self):\n",
    "        if is_train:\n",
    "            training_x, training_y = load_data(npz_files_directory_train, train_files)\n",
    "            print('shape of training_data_x', len(training_x))\n",
    "            print('shape of training_data_y', len(training_y))\n",
    "            print('shape of training_data_x samples', training_x[0].shape)\n",
    "            print('shape of training_data_y samples', training_y[0].shape)\n",
    "            train_x, train_y = list(), list()\n",
    "            convertToSerialList(training_x, training_y, train_x, train_y)\n",
    "            self.frequencies = np.array(train_x)\n",
    "            self.labels = np.array(train_y)\n",
    "        else:\n",
    "            testing_x, testing_y = load_data(npz_files_directory_test, test_files)\n",
    "            test_x, test_y = list(), list()\n",
    "            convertToSerialList(testing_x, testing_y, test_x, test_y)\n",
    "            self.frequencies = np.array(test_x)\n",
    "            self.labels = np.array(test_y)"
   ]
  },
  {
   "cell_type": "code",
   "execution_count": 24,
   "metadata": {},
   "outputs": [],
   "source": [
    "class Model:\n",
    "    def __init__(self, inputs, output_labels):\n",
    "        self.init_state = tf.placeholder(tf.float32, [number_layers, 2, batch_size, hidden_layer_dimension])\n",
    "        state_per_layer_list = tf.unstack(self.init_state, axis=0)\n",
    "        rnn_state_tuples = tuple([tf.nn.rnn_cell.LSTMStateTuple(state[0], state[1]) for state in state_per_layer_list])\n",
    "\n",
    "        if use_dropout:\n",
    "            cell = tf.nn.rnn_cell.DropoutWrapper(cell, output_keep_prob=dropout)\n",
    "            \n",
    "        self.state = current_state = np.zeros((num_layers, 2, batch_size, hidden_layer_dimension))\n",
    "\n",
    "        if num_layers > 1:\n",
    "            cell_list = [self.createLSTMCells() for _ in range(num_layers)]\n",
    "            cell = tf.nn.rnn_cell.MultiRNNCell(cell_list, state_is_tuple=True)\n",
    "        elif num_layers == 1:\n",
    "            cell = createLSTMCells()\n",
    "\n",
    "        self.output, self.state = tf.nn.dynamic_rnn(cell, \n",
    "                                          inputs,\n",
    "                                          dtype=tf.float32, \n",
    "                                          initial_state=rnn_state_tuples)\n",
    "        \n",
    "        # extract the last output for time=num_seq from the output.\n",
    "        self.output = tf.transpose(self.output, [1, 0, 2])\n",
    "        self.output = tf.gather(self.output, int(self.output.shape[0]-1))\n",
    "        \n",
    "        # softmax layer\n",
    "        dense_layer = tf.layers.dense(self.output, units=4, activation=tf.nn.relu)\n",
    "        self.logits = tf.layers.dense(dense_layer, units=4, activation=None)\n",
    "        \n",
    "        self.cross_entropy = tf.nn.softmax_cross_entropy_with_logits_v2(labels=output_labels,\n",
    "                                                                        logits=self.logits)\n",
    "        self.loss = tf.reduce_mean(self.cross_entropy)\n",
    "        # optimizer\n",
    "        self.optimizer = tf.train.AdamOptimizer(learning_rate=learning_rate).minimize(self.loss)\n",
    "        \n",
    "        # measuring accuracy.\n",
    "        prediction = tf.nn.softmax(self.logits)\n",
    "        self.prediction_class = tf.argmax(prediction, axis=1)\n",
    "        output_labels_class = tf.argmax(output_labels, axis=1)\n",
    "        matching_prediction = tf.equal(output_labels_class, self.prediction_class)\n",
    "        self.accuracy = tf.reduce_mean(tf.cast(matching_prediction, tf.float32))\n",
    "        self.accuracy_dict = dict()\n",
    "        \n",
    "    def plotAccuracy(self):\n",
    "        lists = sorted(self.accuracy_dict.items()) # sorted by key, return a list of tuples\n",
    "        x, y = zip(*lists) # unpack a list of pairs into two tuples\n",
    "        plt.plot(x, y)\n",
    "        plt.show()\n",
    "        \n",
    "    def saveModel(self, epoch):\n",
    "        output_node_names = \"accuracy, prediction, state\"\n",
    "        output_graph_definition = graph_util.convert_variables_to_constants(\n",
    "            sess,\n",
    "            tf.get_default_graph().as_graph_def(),\n",
    "            output_node_names.split(\",\")\n",
    "        )\n",
    "        model_save_path = ('./saved_model/model_'+str(epoch)+'.pb')\n",
    "        with tf.gfile.GFile(model_save_path, \"wb\") as f:\n",
    "            f.write(output_graph_definition.SerializeToString())\n",
    "        \n",
    "    def createLSTMCells(self):\n",
    "        cell = tf.contrib.rnn.LSTMCell(hidden_layer_dimension, forget_bias=1.0)\n",
    "        return cell\n",
    "    \n",
    "    def calculateTestAccuracy(self, epoch):\n",
    "        sess.run(test_dataset.iterator.initializer)\n",
    "        \n",
    "        test_accuracy_list = list()\n",
    "        label_list = list()\n",
    "        current_state = np.zeros((num_layers, 2, batch_size, hidden_layer_dimension))\n",
    "        counter = 0\n",
    "        # looping till all values are consumed\n",
    "        while True:\n",
    "            try:\n",
    "                accuracy, prediction_class, current_state, _, _ = sess.run([m.accuracy, m.prediction_class, m.state, \n",
    "                                                                      input_data, label_data], \n",
    "                                                    feed_dict={m.init_state: current_state, handle: testing_handle})\n",
    "                test_accuracy_list.append(accuracy)\n",
    "                label_list.append(prediction_class)\n",
    "                counter += 1\n",
    "                if counter != 0 and counter % step_size == 0:\n",
    "                    current_state = np.zeros((num_layers, 2, batch_size, hidden_layer_dimension))\n",
    "            except tf.errors.OutOfRangeError:\n",
    "                break\n",
    "        print('test accuracy at epoch #', epoch, 'is ', (sum(test_accuracy_list) / len(test_accuracy_list)))\n",
    "        self.accuracy_dict[epoch] = (sum(test_accuracy_list) / len(test_accuracy_list) )\n",
    "        print(len(label_list))\n",
    "        return label_list\n",
    "    \n",
    "    def printConfusionMatrix(self, prediction):\n",
    "        prediction_np = np.array(prediction)\n",
    "        pred_np = np.zeros((num_samples_test, 512))\n",
    "        row, col = 0, 0\n",
    "        for i in range(prediction_np.shape[0]):\n",
    "            pred_np[row, col:col+batch_size] = prediction_np[i]\n",
    "            col += batch_size\n",
    "            if col == 512:\n",
    "                col = 0\n",
    "                row += 1\n",
    "        \n",
    "        y_test_np = np.argmax(y_test, axis=2)\n",
    "        y_test_np = np.reshape(y_test_np, [y_test_np.shape[0] * y_test_np.shape[1]])\n",
    "        pred_np = np.reshape(pred_np, [pred_np.shape[0] * pred_np.shape[1]])\n",
    "        cm = ConfusionMatrix(y_test_np, pred_np)\n",
    "        print(cm)"
   ]
  },
  {
   "cell_type": "code",
   "execution_count": null,
   "metadata": {},
   "outputs": [
    {
     "name": "stdout",
     "output_type": "stream",
     "text": [
      "b'\\n,/job:localhost/replica:0/task:0/device:CPU:0\\x12\\tlocalhost\\x1a\\x0b_0_Iterator \\xa4\\xd6\\xcb\\xd1\\xa6\\xeb\\xb2\\xc1\\xc7\\x01*.N10tensorflow12_GLOBAL__N_116IteratorResourceE'\n",
      "epoch # 0 started\n",
      "train set accuracy at epoch # 0 is  0.9078028993855607\n",
      "test accuracy at epoch # 0 is  0.9167117883663366\n",
      "23432\n"
     ]
    },
    {
     "name": "stderr",
     "output_type": "stream",
     "text": [
      "/home/rohan/anaconda3/envs/tensorflow-env/lib/python3.6/site-packages/pandas_ml/confusion_matrix/abstract.py:66: FutureWarning: \n",
      "Passing list-likes to .loc or [] with any missing label will raise\n",
      "KeyError in the future, you can use .reindex() as an alternative.\n",
      "\n",
      "See the documentation here:\n",
      "https://pandas.pydata.org/pandas-docs/stable/indexing.html#deprecate-loc-reindex-listlike\n",
      "  df = df.loc[idx, idx.copy()].fillna(0)  # if some columns or rows are missing\n"
     ]
    },
    {
     "name": "stdout",
     "output_type": "stream",
     "text": [
      "Predicted      0.0  1.0  2.0  3.0  __all__\n",
      "Actual                                    \n",
      "0.0        2749490    0    0    0  2749490\n",
      "1.0         153052    0    0    0   153052\n",
      "2.0          76629    0    0    0    76629\n",
      "3.0          20125    0    0    0    20125\n",
      "__all__    2999296    0    0    0  2999296\n",
      "epoch # 0 ended -  312.3646020889282\n",
      "epoch # 1 started\n",
      "epoch # 1 ended -  217.60556530952454\n",
      "epoch # 2 started\n",
      "epoch # 2 ended -  217.40476965904236\n",
      "epoch # 3 started\n",
      "epoch # 3 ended -  218.78481578826904\n",
      "epoch # 4 started\n",
      "epoch # 4 ended -  212.63600826263428\n",
      "epoch # 5 started\n",
      "epoch # 5 ended -  212.21049642562866\n",
      "epoch # 6 started\n",
      "epoch # 6 ended -  210.87747597694397\n",
      "epoch # 7 started\n",
      "epoch # 7 ended -  211.63655805587769\n",
      "epoch # 8 started\n",
      "epoch # 8 ended -  209.2229540348053\n",
      "epoch # 9 started\n",
      "epoch # 9 ended -  212.73419976234436\n",
      "epoch # 10 started\n",
      "train set accuracy at epoch # 10 is  0.9078028993855607\n",
      "test accuracy at epoch # 10 is  0.9167117883663366\n",
      "23432\n",
      "Predicted      0.0  1.0  2.0  3.0  __all__\n",
      "Actual                                    \n",
      "0.0        2749490    0    0    0  2749490\n",
      "1.0         153052    0    0    0   153052\n",
      "2.0          76629    0    0    0    76629\n",
      "3.0          20125    0    0    0    20125\n",
      "__all__    2999296    0    0    0  2999296\n",
      "epoch # 10 ended -  304.2145631313324\n",
      "epoch # 11 started\n",
      "epoch # 11 ended -  217.55040884017944\n",
      "epoch # 12 started\n",
      "epoch # 12 ended -  216.746107339859\n",
      "epoch # 13 started\n",
      "epoch # 13 ended -  211.62065434455872\n",
      "epoch # 14 started\n",
      "epoch # 14 ended -  211.75092720985413\n",
      "epoch # 15 started\n",
      "epoch # 15 ended -  210.33350944519043\n",
      "epoch # 16 started\n",
      "epoch # 16 ended -  212.84914016723633\n",
      "epoch # 17 started\n",
      "epoch # 17 ended -  211.89347887039185\n",
      "epoch # 18 started\n",
      "epoch # 18 ended -  209.22553706169128\n",
      "epoch # 19 started\n",
      "epoch # 19 ended -  209.0677614212036\n",
      "epoch # 20 started\n",
      "train set accuracy at epoch # 20 is  0.9078028993855607\n",
      "test accuracy at epoch # 20 is  0.9167117883663366\n",
      "23432\n",
      "Predicted      0.0  1.0  2.0  3.0  __all__\n",
      "Actual                                    \n",
      "0.0        2749490    0    0    0  2749490\n",
      "1.0         153052    0    0    0   153052\n",
      "2.0          76629    0    0    0    76629\n",
      "3.0          20125    0    0    0    20125\n",
      "__all__    2999296    0    0    0  2999296\n",
      "epoch # 20 ended -  286.9604685306549\n",
      "epoch # 21 started\n",
      "epoch # 21 ended -  211.3958911895752\n",
      "epoch # 22 started\n",
      "epoch # 22 ended -  211.818217754364\n",
      "epoch # 23 started\n",
      "epoch # 23 ended -  209.3690321445465\n",
      "epoch # 24 started\n",
      "epoch # 24 ended -  210.0009548664093\n",
      "epoch # 25 started\n",
      "epoch # 25 ended -  210.8309667110443\n",
      "epoch # 26 started\n",
      "epoch # 26 ended -  210.90746116638184\n",
      "epoch # 27 started\n",
      "epoch # 27 ended -  210.09043908119202\n",
      "epoch # 28 started\n",
      "epoch # 28 ended -  212.17977285385132\n",
      "epoch # 29 started\n",
      "epoch # 29 ended -  209.71226358413696\n",
      "epoch # 30 started\n",
      "train set accuracy at epoch # 30 is  0.9078028993855607\n",
      "test accuracy at epoch # 30 is  0.9167117883663366\n",
      "23432\n",
      "Predicted      0.0  1.0  2.0  3.0  __all__\n",
      "Actual                                    \n",
      "0.0        2749490    0    0    0  2749490\n",
      "1.0         153052    0    0    0   153052\n",
      "2.0          76629    0    0    0    76629\n",
      "3.0          20125    0    0    0    20125\n",
      "__all__    2999296    0    0    0  2999296\n",
      "epoch # 30 ended -  286.9057831764221\n",
      "epoch # 31 started\n",
      "epoch # 31 ended -  209.61593985557556\n",
      "epoch # 32 started\n",
      "epoch # 32 ended -  211.68947792053223\n",
      "epoch # 33 started\n",
      "epoch # 33 ended -  210.45245003700256\n",
      "epoch # 34 started\n",
      "epoch # 34 ended -  254.20559692382812\n",
      "epoch # 35 started\n",
      "epoch # 35 ended -  212.63856649398804\n",
      "epoch # 36 started\n",
      "epoch # 36 ended -  209.77811121940613\n",
      "epoch # 37 started\n",
      "epoch # 37 ended -  210.5810248851776\n",
      "epoch # 38 started\n",
      "epoch # 38 ended -  212.29017281532288\n",
      "epoch # 39 started\n"
     ]
    }
   ],
   "source": [
    "cell_start_time = time.time()\n",
    "\n",
    "# creating training and testing dataset.\n",
    "train_dataset = Input(np.array(x_train), np.array(y_train))\n",
    "test_dataset = Input(np.array(x_test), np.array(y_test), is_train=False)\n",
    "handle = tf.placeholder(tf.string, [])\n",
    "iterator = tf.data.Iterator.from_string_handle(handle, \n",
    "                                               train_dataset.dataset.output_types,\n",
    "                                               train_dataset.dataset.output_shapes)\n",
    "input_data, label_data = iterator.get_next()\n",
    "\n",
    "# test_input = Input(is_test=True)\n",
    "m = Model(input_data, label_data)\n",
    "prediction = None\n",
    "with tf.Session() as sess:\n",
    "    sess.run(tf.global_variables_initializer())\n",
    "    saver = tf.train.Saver()\n",
    "    counter = 0\n",
    "    \n",
    "    training_handle = sess.run(train_dataset.iterator.string_handle())\n",
    "#     print(training_handle)\n",
    "#     print(training_handle.shape)\n",
    "    testing_handle = sess.run(test_dataset.iterator.string_handle())\n",
    "    \n",
    "    for epoch in range(num_epochs):\n",
    "        print('epoch #', epoch, 'started')\n",
    "        \n",
    "        # variables.\n",
    "        epoch_time = time.time()\n",
    "        counter = 0\n",
    "        current_state = np.zeros((num_layers, 2, batch_size, hidden_layer_dimension))\n",
    "        train_accuracy_list = list()\n",
    "        \n",
    "        # loading the dataset\n",
    "        sess.run(train_dataset.iterator.initializer)\n",
    "        \n",
    "        # looping till all values are consumed\n",
    "        while True:\n",
    "            try:\n",
    "                if epoch % 10 == 0:\n",
    "                    parameter1, accuracy, current_state, _, _ = sess.run([m.optimizer, m.accuracy, m.state, \n",
    "                                                                    input_data, label_data], \n",
    "                                                                   feed_dict={m.init_state: current_state, \n",
    "                                                                              handle: training_handle})\n",
    "                    train_accuracy_list.append(accuracy)\n",
    "                    counter += 1\n",
    "                    if counter != 0 and counter % step_size == 0:\n",
    "                        current_state = np.zeros((num_layers, 2, batch_size, hidden_layer_dimension))   \n",
    "                else:\n",
    "                    parameter1, current_state, _, _ = sess.run([m.optimizer, m.state, input_data, label_data], \n",
    "                                                             feed_dict={m.init_state: current_state, \n",
    "                                                                        handle: training_handle})\n",
    "                    counter += 1\n",
    "                    if counter != 0 and counter % step_size == 0:\n",
    "                        current_state = np.zeros((num_layers, 2, batch_size, hidden_layer_dimension))\n",
    "            except tf.errors.OutOfRangeError:\n",
    "                break\n",
    "            \n",
    "        # after training, if epoch number is multiple of 10.\n",
    "        if epoch % 10 == 0:\n",
    "            print('train set accuracy at epoch #', epoch, 'is ', (sum(train_accuracy_list) / len(train_accuracy_list)))\n",
    "            saver.save(sess, './checkpoints/model_checkpoint_'+str(epoch))\n",
    "            prediction = m.calculateTestAccuracy(epoch)\n",
    "            m.printConfusionMatrix(prediction)\n",
    "        end_time = time.time()\n",
    "        print('epoch #', epoch, 'ended - ',  end_time - epoch_time)\n",
    "    saver.save(sess, './checkpoints/model_checkpoint_final')\n",
    "    prediction = m.calculateTestAccuracy(epoch)\n",
    "    m.printConfusionMatrix(prediction)\n",
    "#     m.saveModel(epoch)\n",
    "cell_end_time = time.time()\n",
    "print('total time to train the network is ', cell_end_time - cell_start_time)"
   ]
  },
  {
   "cell_type": "code",
   "execution_count": null,
   "metadata": {},
   "outputs": [],
   "source": [
    "m.printConfusionMatrix(prediction)"
   ]
  },
  {
   "cell_type": "code",
   "execution_count": null,
   "metadata": {},
   "outputs": [],
   "source": [
    "m.plotAccuracy()"
   ]
  },
  {
   "cell_type": "markdown",
   "metadata": {},
   "source": [
    "Predicted      0.0     1.0    2.0    3.0  __all__\n",
    "Actual                                           \n",
    "0.0        2591457  122997  23270  11766  2749490\n",
    "1.0         103267   45613   2025   2147   153052\n",
    "2.0          60231    4473   9225   2700    76629\n",
    "3.0          14268    2793   1423   1641    20125\n",
    "__all__    2769223  175876  35943  18254  2999296"
   ]
  },
  {
   "cell_type": "code",
   "execution_count": null,
   "metadata": {},
   "outputs": [],
   "source": []
  }
 ],
 "metadata": {
  "kernelspec": {
   "display_name": "Python 3",
   "language": "python",
   "name": "python3"
  },
  "language_info": {
   "codemirror_mode": {
    "name": "ipython",
    "version": 3
   },
   "file_extension": ".py",
   "mimetype": "text/x-python",
   "name": "python",
   "nbconvert_exporter": "python",
   "pygments_lexer": "ipython3",
   "version": "3.6.6"
  }
 },
 "nbformat": 4,
 "nbformat_minor": 2
}
