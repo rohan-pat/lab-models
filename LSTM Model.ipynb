{
 "cells": [
  {
   "cell_type": "code",
   "execution_count": 1,
   "metadata": {},
   "outputs": [],
   "source": [
    "import tensorflow as tf\n",
    "import numpy as np\n",
    "import matplotlib\n",
    "import matplotlib.pyplot as plt\n",
    "\n",
    "import time\n",
    "import random"
   ]
  },
  {
   "cell_type": "markdown",
   "metadata": {},
   "source": [
    "## load all npz files from npz_files directory."
   ]
  },
  {
   "cell_type": "code",
   "execution_count": 2,
   "metadata": {},
   "outputs": [],
   "source": [
    "import os\n",
    "\n",
    "npz_files_directory_train = '/home/rohan/Desktop/label-generator/raw_files/npz-files/train'\n",
    "npz_files_directory_test = '/home/rohan/Desktop/label-generator/raw_files/npz-files/test'\n",
    "# collect all files from npz directory.\n",
    "train_files = list()\n",
    "for f in os.listdir(npz_files_directory_train):\n",
    "    train_files.append(f)\n",
    "    \n",
    "test_files = list()\n",
    "for f in os.listdir(npz_files_directory_test):\n",
    "    test_files.append(f)"
   ]
  },
  {
   "cell_type": "code",
   "execution_count": 3,
   "metadata": {},
   "outputs": [],
   "source": [
    "train_files = [file for file in train_files if file[-3:] == 'npz']\n",
    "test_files = [file for file in test_files if file[-3:] == 'npz']"
   ]
  },
  {
   "cell_type": "code",
   "execution_count": 4,
   "metadata": {},
   "outputs": [
    {
     "name": "stdout",
     "output_type": "stream",
     "text": [
      "number of train files 10\n",
      "number of test files 7\n"
     ]
    }
   ],
   "source": [
    "print('number of train files', len(train_files))\n",
    "print('number of test files', len(test_files))"
   ]
  },
  {
   "cell_type": "markdown",
   "metadata": {},
   "source": [
    "## load all numpy arrays into training data x and y.\n",
    "structure of the npz files = ['c1', 'c2', 'c3', 'Z', 'labels'].\n",
    "c1, c2, c3 => numpy array containing all class 1, 2, 3 bounding boxes respectively.\n",
    "Z => the raw PSD files.\n",
    "labels => pixel wise labels for psd files. same dimensions as the PSD files."
   ]
  },
  {
   "cell_type": "code",
   "execution_count": 5,
   "metadata": {},
   "outputs": [],
   "source": [
    "def load_data(directory, files_list):\n",
    "    training_data_x = list()\n",
    "    training_data_y = list()\n",
    "\n",
    "    count = 0\n",
    "    for file_name in files_list:\n",
    "        data1 = np.load(directory + '/' + file_name)\n",
    "        training_data_x.append(data1['Z'])\n",
    "        training_data_y.append(data1['labels'])\n",
    "        count += 1\n",
    "    print('files loaded', count)\n",
    "    return training_data_x, training_data_y "
   ]
  },
  {
   "cell_type": "code",
   "execution_count": 6,
   "metadata": {},
   "outputs": [
    {
     "name": "stdout",
     "output_type": "stream",
     "text": [
      "files loaded 10\n"
     ]
    }
   ],
   "source": [
    "training_data_x, training_data_y = load_data(npz_files_directory_train, train_files)"
   ]
  },
  {
   "cell_type": "code",
   "execution_count": 7,
   "metadata": {},
   "outputs": [
    {
     "name": "stdout",
     "output_type": "stream",
     "text": [
      "files loaded 7\n"
     ]
    }
   ],
   "source": [
    "test_data_x, test_data_y = load_data(npz_files_directory_test, test_files)"
   ]
  },
  {
   "cell_type": "code",
   "execution_count": 8,
   "metadata": {},
   "outputs": [
    {
     "name": "stdout",
     "output_type": "stream",
     "text": [
      "shape of training_data_x 10\n",
      "shape of training_data_y 10\n"
     ]
    }
   ],
   "source": [
    "print('shape of training_data_x', len(training_data_x))\n",
    "print('shape of training_data_y', len(training_data_y))"
   ]
  },
  {
   "cell_type": "code",
   "execution_count": 9,
   "metadata": {},
   "outputs": [
    {
     "name": "stdout",
     "output_type": "stream",
     "text": [
      "shape of training_data_x 7\n",
      "shape of training_data_y 7\n"
     ]
    }
   ],
   "source": [
    "print('shape of training_data_x', len(test_data_x))\n",
    "print('shape of training_data_y', len(test_data_y))"
   ]
  },
  {
   "cell_type": "code",
   "execution_count": 10,
   "metadata": {},
   "outputs": [
    {
     "name": "stdout",
     "output_type": "stream",
     "text": [
      "shape of training_data_x samples (1953, 512)\n",
      "shape of training_data_y samples (1953, 512)\n"
     ]
    }
   ],
   "source": [
    "print('shape of training_data_x samples', training_data_x[0].shape)\n",
    "print('shape of training_data_y samples', training_data_y[0].shape)"
   ]
  },
  {
   "cell_type": "markdown",
   "metadata": {},
   "source": [
    "## variable structures:-\n",
    "1. train_x contains all Z for all files.\n",
    "2. train_y contains all label for all files."
   ]
  },
  {
   "cell_type": "markdown",
   "metadata": {},
   "source": [
    "## convert training_data_x to shape (size of all timesteps, 512)"
   ]
  },
  {
   "cell_type": "code",
   "execution_count": 11,
   "metadata": {},
   "outputs": [],
   "source": [
    "def processFrequencies(freq, num_steps):\n",
    "    frequencies = np.zeros((512, 16), dtype=np.float32)\n",
    "    assert freq.shape[0] == 512\n",
    "    freq = np.reshape(freq, (512, 1))\n",
    "    for i in range(freq.shape[0]):\n",
    "        if freq[i:i+num_steps, 0].shape[0] == num_steps:\n",
    "            frequencies[i, :] = freq[i:i+num_steps, 0]\n",
    "        else:\n",
    "#             print(freq[i:i+num_steps, 0].shape[0])\n",
    "            frequencies[i, :] = np.pad(freq[i:i+num_steps, 0], (0, 16-freq[i:i+num_steps, 0].shape[0]), 'edge')\n",
    "    frequencies = np.reshape(frequencies, (512, 16, 1))\n",
    "    return frequencies"
   ]
  },
  {
   "cell_type": "code",
   "execution_count": 12,
   "metadata": {},
   "outputs": [],
   "source": [
    "def processLabels(labels):\n",
    "    labels = np.reshape(labels, (512, 1))\n",
    "    labels_reshaped = np.zeros((512, 4))\n",
    "    for i in range(labels.shape[0]):\n",
    "        labels_reshaped[i, labels[i, 0]] = 1\n",
    "    return labels_reshaped"
   ]
  },
  {
   "cell_type": "markdown",
   "metadata": {},
   "source": [
    "## Convert all x_train data to serial x_train data."
   ]
  },
  {
   "cell_type": "code",
   "execution_count": 13,
   "metadata": {},
   "outputs": [],
   "source": [
    "# global parameters.\n",
    "x_train, y_train, x_test, y_test = list(), list(), list(), list()\n",
    "num_steps = 16"
   ]
  },
  {
   "cell_type": "code",
   "execution_count": 14,
   "metadata": {},
   "outputs": [],
   "source": [
    "def convertToSerialList(x, y, x_copy, y_copy):\n",
    "    assert len(x) == len(y)\n",
    "    for i in range(len(x)):\n",
    "        for j in range(x[i].shape[0]):\n",
    "            x_copy.append(processFrequencies(x[i][j,:] , num_steps))\n",
    "            y_copy.append(processLabels(y[i][j,:]))"
   ]
  },
  {
   "cell_type": "code",
   "execution_count": 15,
   "metadata": {},
   "outputs": [],
   "source": [
    "convertToSerialList(training_data_x, training_data_y, x_train, y_train)"
   ]
  },
  {
   "cell_type": "code",
   "execution_count": 16,
   "metadata": {},
   "outputs": [
    {
     "name": "stdout",
     "output_type": "stream",
     "text": [
      "length of x is  19531\n",
      "length of y is  19531\n"
     ]
    }
   ],
   "source": [
    "print('length of x is ', len(x_train))\n",
    "print('length of y is ', len(y_train))"
   ]
  },
  {
   "cell_type": "code",
   "execution_count": 17,
   "metadata": {},
   "outputs": [
    {
     "name": "stdout",
     "output_type": "stream",
     "text": [
      "shape of x is  (512, 16, 1)\n",
      "shape of x is  (512, 4)\n"
     ]
    }
   ],
   "source": [
    "print('shape of x is ', x_train[0].shape)\n",
    "print('shape of x is ', y_train[0].shape)"
   ]
  },
  {
   "cell_type": "code",
   "execution_count": 18,
   "metadata": {},
   "outputs": [],
   "source": [
    "convertToSerialList(test_data_x, test_data_y, x_test, y_test)"
   ]
  },
  {
   "cell_type": "code",
   "execution_count": 19,
   "metadata": {},
   "outputs": [
    {
     "name": "stdout",
     "output_type": "stream",
     "text": [
      "length of x is  13672\n",
      "length of y is  13672\n"
     ]
    }
   ],
   "source": [
    "print('length of x is ', len(x_test))\n",
    "print('length of y is ', len(y_test))"
   ]
  },
  {
   "cell_type": "code",
   "execution_count": 20,
   "metadata": {},
   "outputs": [
    {
     "name": "stdout",
     "output_type": "stream",
     "text": [
      "shape of x is  (512, 16, 1)\n",
      "shape of x is  (512, 4)\n"
     ]
    }
   ],
   "source": [
    "print('shape of x is ', x_test[0].shape)\n",
    "print('shape of x is ', y_test[0].shape)"
   ]
  },
  {
   "cell_type": "markdown",
   "metadata": {},
   "source": [
    "## Creating the RNN model."
   ]
  },
  {
   "cell_type": "code",
   "execution_count": 21,
   "metadata": {},
   "outputs": [],
   "source": [
    "# RNN Global Parameter models.\n",
    "num_steps = 16\n",
    "frequency_shape = [512, num_steps, 1]\n",
    "labels_shape = [512, 4]\n",
    "\n",
    "hidden_layer_dimension = 32\n",
    "number_layers = 2\n",
    "use_dropout = False\n",
    "dropout = 0.0\n",
    "num_layers = 2\n",
    "batch_size = 1\n",
    "learning_rate = 0.001\n",
    "num_epochs = 10\n",
    "step_size = 512 // batch_size\n",
    "num_samples_train = len(x_train)\n",
    "num_samples_test = len(x_test)\n",
    "shuffled_indexed_train = [i for i in range(num_samples_train)]\n",
    "shuffled_indexed_test = [i for i in range(num_samples_test)]"
   ]
  },
  {
   "cell_type": "code",
   "execution_count": 22,
   "metadata": {},
   "outputs": [],
   "source": [
    "class Input:\n",
    "    def __init__(self):\n",
    "        \"\"\"\n",
    "        creates two run able objects -> inputs for feeding inputs and labels.\n",
    "        \"\"\"\n",
    "        self.freq_placeholder = tf.placeholder(tf.float32, frequency_shape)\n",
    "        self.labels_placeholder = tf.placeholder(tf.float32, labels_shape)\n",
    "        \n",
    "        self.dataset = tf.data.Dataset.from_tensor_slices((self.freq_placeholder, self.labels_placeholder))\n",
    "        self.dataset = self.dataset.batch(batch_size)\n",
    "        self.dataset = self.dataset.prefetch(16)\n",
    "        \n",
    "        self.iterator = self.dataset.make_initializable_iterator()\n",
    "        self.inputs, self.output_labels = self.iterator.get_next()"
   ]
  },
  {
   "cell_type": "code",
   "execution_count": 23,
   "metadata": {},
   "outputs": [],
   "source": [
    "class Model:\n",
    "    def __init__(self, inputs, output_labels):\n",
    "        self.init_state = tf.placeholder(tf.float32, [number_layers, 2, batch_size, hidden_layer_dimension])\n",
    "        state_per_layer_list = tf.unstack(self.init_state, axis=0)\n",
    "        rnn_state_tuples = tuple([tf.nn.rnn_cell.LSTMStateTuple(state[0], state[1]) for state in state_per_layer_list])\n",
    "\n",
    "        if use_dropout:\n",
    "            cell = tf.nn.rnn_cell.DropoutWrapper(cell, output_keep_prob=dropout)\n",
    "            \n",
    "        self.state = current_state = np.zeros((num_layers, 2, batch_size, hidden_layer_dimension))\n",
    "\n",
    "        if num_layers > 1:\n",
    "            cell_list = [self.createLSTMCells() for _ in range(num_layers)]\n",
    "            cell = tf.nn.rnn_cell.MultiRNNCell(cell_list, state_is_tuple=True)\n",
    "        elif num_layers == 1:\n",
    "            cell = createLSTMCells()\n",
    "\n",
    "        self.output, self.state = tf.nn.dynamic_rnn(cell, \n",
    "                                          inputs,\n",
    "                                          dtype=tf.float32, \n",
    "                                          initial_state=rnn_state_tuples)\n",
    "        \n",
    "        # extract the last output for time=num_seq from the output.\n",
    "        self.output = tf.transpose(self.output, [1, 0, 2])\n",
    "        self.output = tf.gather(self.output, int(self.output.shape[0]-1))\n",
    "        \n",
    "        # softmax layer\n",
    "        weight = tf.Variable(tf.truncated_normal([hidden_layer_dimension, 4], stddev=0.01))\n",
    "        bias = tf.Variable(tf.constant(0.1, shape=[4]))\n",
    "        self.logits = tf.nn.softmax(tf.matmul(self.output, weight) + bias)\n",
    "        cross_entropy = -tf.reduce_sum(output_labels * tf.log(self.logits))\n",
    "        \n",
    "        optimizer = tf.train.RMSPropOptimizer(learning_rate)\n",
    "        self.optimizer = optimizer.minimize(cross_entropy)\n",
    "        \n",
    "        # calculate accuracy every 10 epochs.\n",
    "        self.acc, self.accuracy_ops = tf.metrics.accuracy(labels=tf.argmax(output_labels, 1),\n",
    "                                            predictions=tf.argmax(self.logits, 1)\n",
    "                                           )\n",
    "        \n",
    "    def createLSTMCells(self):\n",
    "        cell = tf.contrib.rnn.LSTMCell(hidden_layer_dimension, forget_bias=1.0)\n",
    "        return cell"
   ]
  },
  {
   "cell_type": "code",
   "execution_count": null,
   "metadata": {},
   "outputs": [
    {
     "name": "stdout",
     "output_type": "stream",
     "text": [
      "epoch # 0 started\n"
     ]
    }
   ],
   "source": [
    "with tf.Session() as sess:\n",
    "    i = Input()\n",
    "    m = Model(i.inputs, i.output_labels)\n",
    "    sess.run(tf.local_variables_initializer())\n",
    "    sess.run(tf.global_variables_initializer())\n",
    "    current_state = np.zeros((num_layers, 2, batch_size, hidden_layer_dimension))\n",
    "    for epoch in range(1):\n",
    "        start_time = time.time()\n",
    "        print('epoch #', epoch, 'started')\n",
    "        accuracy = 0\n",
    "        random.shuffle(shuffled_indexed_train)\n",
    "        for sample_index in shuffled_indexed_train:\n",
    "            sess.run(i.iterator.initializer, feed_dict={i.freq_placeholder: x_train[sample_index], \n",
    "                                                        i.labels_placeholder: y_train[sample_index]})\n",
    "            parameter1 = 0\n",
    "            for step in range(step_size):\n",
    "                parameter1, softmax_op, current_state = sess.run([m.accuracy_ops, m.optimizer, m.state], \n",
    "                                                        feed_dict={m.init_state: current_state})\n",
    "        if epoch % 50 == 0: \n",
    "            accuracy = 0\n",
    "            for sample_index in shuffled_indexed_test:\n",
    "                sess.run(i.iterator.initializer, feed_dict={i.freq_placeholder: x_test[sample_index], \n",
    "                                                        i.labels_placeholder: y_test[sample_index]})\n",
    "                for step in range(step_size):\n",
    "                    accuracy, current_state = sess.run([m.accuracy_ops, m.state], \n",
    "                                                        feed_dict={m.init_state: current_state})\n",
    "            print('test accuracy at epoch #', epoch)\n",
    "        end_time = time.time()\n",
    "        print('epoch #', epoch, 'ended - ',  end_time - start_time)"
   ]
  },
  {
   "cell_type": "code",
   "execution_count": null,
   "metadata": {},
   "outputs": [],
   "source": []
  }
 ],
 "metadata": {
  "kernelspec": {
   "display_name": "Python 3",
   "language": "python",
   "name": "python3"
  },
  "language_info": {
   "codemirror_mode": {
    "name": "ipython",
    "version": 3
   },
   "file_extension": ".py",
   "mimetype": "text/x-python",
   "name": "python",
   "nbconvert_exporter": "python",
   "pygments_lexer": "ipython3",
   "version": "3.6.6"
  }
 },
 "nbformat": 4,
 "nbformat_minor": 2
}
