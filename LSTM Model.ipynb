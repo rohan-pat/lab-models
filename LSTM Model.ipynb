{
 "cells": [
  {
   "cell_type": "code",
   "execution_count": 1,
   "metadata": {},
   "outputs": [],
   "source": [
    "import tensorflow as tf\n",
    "import numpy as np\n",
    "import matplotlib\n",
    "import matplotlib.pyplot as plt\n",
    "\n",
    "import time\n",
    "import random\n",
    "\n",
    "from tensorflow.python.framework import graph_util\n",
    "from tensorflow.python.framework import ops"
   ]
  },
  {
   "cell_type": "markdown",
   "metadata": {},
   "source": [
    "## load all npz files from npz_files directory."
   ]
  },
  {
   "cell_type": "code",
   "execution_count": 2,
   "metadata": {},
   "outputs": [],
   "source": [
    "import os\n",
    "\n",
    "npz_files_directory_train = '/home/rohan/Desktop/label-generator/raw_files/npz-files/train'\n",
    "npz_files_directory_test = '/home/rohan/Desktop/label-generator/raw_files/npz-files/test'\n",
    "# collect all files from npz directory.\n",
    "train_files = list()\n",
    "for f in os.listdir(npz_files_directory_train):\n",
    "    train_files.append(f)\n",
    "    \n",
    "test_files = list()\n",
    "for f in os.listdir(npz_files_directory_test):\n",
    "    test_files.append(f)"
   ]
  },
  {
   "cell_type": "code",
   "execution_count": 3,
   "metadata": {},
   "outputs": [],
   "source": [
    "train_files = [file for file in train_files if file[-3:] == 'npz']\n",
    "test_files = [file for file in test_files if file[-3:] == 'npz']"
   ]
  },
  {
   "cell_type": "code",
   "execution_count": 4,
   "metadata": {},
   "outputs": [
    {
     "name": "stdout",
     "output_type": "stream",
     "text": [
      "number of train files 2\n",
      "number of test files 7\n"
     ]
    }
   ],
   "source": [
    "print('number of train files', len(train_files))\n",
    "print('number of test files', len(test_files))"
   ]
  },
  {
   "cell_type": "markdown",
   "metadata": {},
   "source": [
    "## load all numpy arrays into training data x and y.\n",
    "structure of the npz files = ['c1', 'c2', 'c3', 'Z', 'labels'].\n",
    "c1, c2, c3 => numpy array containing all class 1, 2, 3 bounding boxes respectively.\n",
    "Z => the raw PSD files.\n",
    "labels => pixel wise labels for psd files. same dimensions as the PSD files."
   ]
  },
  {
   "cell_type": "code",
   "execution_count": 5,
   "metadata": {},
   "outputs": [],
   "source": [
    "def load_data(directory, files_list):\n",
    "    training_data_x = list()\n",
    "    training_data_y = list()\n",
    "\n",
    "    count = 0\n",
    "    for file_name in files_list:\n",
    "        data1 = np.load(directory + '/' + file_name)\n",
    "        training_data_x.append(data1['Z'])\n",
    "        training_data_y.append(data1['labels'])\n",
    "        count += 1\n",
    "    print('files loaded', count)\n",
    "    return training_data_x, training_data_y "
   ]
  },
  {
   "cell_type": "code",
   "execution_count": 6,
   "metadata": {},
   "outputs": [
    {
     "name": "stdout",
     "output_type": "stream",
     "text": [
      "files loaded 2\n"
     ]
    }
   ],
   "source": [
    "training_data_x, training_data_y = load_data(npz_files_directory_train, train_files)"
   ]
  },
  {
   "cell_type": "code",
   "execution_count": 7,
   "metadata": {},
   "outputs": [
    {
     "name": "stdout",
     "output_type": "stream",
     "text": [
      "files loaded 7\n"
     ]
    }
   ],
   "source": [
    "test_data_x, test_data_y = load_data(npz_files_directory_test, test_files)"
   ]
  },
  {
   "cell_type": "code",
   "execution_count": 8,
   "metadata": {},
   "outputs": [
    {
     "name": "stdout",
     "output_type": "stream",
     "text": [
      "shape of training_data_x 2\n",
      "shape of training_data_y 2\n"
     ]
    }
   ],
   "source": [
    "print('shape of training_data_x', len(training_data_x))\n",
    "print('shape of training_data_y', len(training_data_y))"
   ]
  },
  {
   "cell_type": "code",
   "execution_count": 9,
   "metadata": {},
   "outputs": [
    {
     "name": "stdout",
     "output_type": "stream",
     "text": [
      "shape of training_data_x 7\n",
      "shape of training_data_y 7\n"
     ]
    }
   ],
   "source": [
    "print('shape of training_data_x', len(test_data_x))\n",
    "print('shape of training_data_y', len(test_data_y))"
   ]
  },
  {
   "cell_type": "code",
   "execution_count": 10,
   "metadata": {},
   "outputs": [
    {
     "name": "stdout",
     "output_type": "stream",
     "text": [
      "shape of training_data_x samples (1953, 512)\n",
      "shape of training_data_y samples (1953, 512)\n"
     ]
    }
   ],
   "source": [
    "print('shape of training_data_x samples', training_data_x[0].shape)\n",
    "print('shape of training_data_y samples', training_data_y[0].shape)"
   ]
  },
  {
   "cell_type": "markdown",
   "metadata": {},
   "source": [
    "## variable structures:-\n",
    "1. train_x contains all Z for all files.\n",
    "2. train_y contains all label for all files."
   ]
  },
  {
   "cell_type": "markdown",
   "metadata": {},
   "source": [
    "## convert training_data_x to shape (size of all timesteps, 512)"
   ]
  },
  {
   "cell_type": "code",
   "execution_count": 11,
   "metadata": {},
   "outputs": [],
   "source": [
    "def processFrequencies(freq, num_steps):\n",
    "    frequencies = np.zeros((512, 16), dtype=np.float32)\n",
    "    assert freq.shape[0] == 512\n",
    "    freq = np.reshape(freq, (512, 1))\n",
    "    for i in range(freq.shape[0]):\n",
    "        if freq[i:i+num_steps, 0].shape[0] == num_steps:\n",
    "            frequencies[i, :] = freq[i:i+num_steps, 0]\n",
    "        else:\n",
    "#             print(freq[i:i+num_steps, 0].shape[0])\n",
    "            frequencies[i, :] = np.pad(freq[i:i+num_steps, 0], (0, 16-freq[i:i+num_steps, 0].shape[0]), 'edge')\n",
    "    frequencies = np.reshape(frequencies, (512, 16, 1))\n",
    "    return frequencies"
   ]
  },
  {
   "cell_type": "code",
   "execution_count": 12,
   "metadata": {},
   "outputs": [],
   "source": [
    "def processLabels(labels):\n",
    "    labels = np.reshape(labels, (512, 1))\n",
    "    labels_reshaped = np.zeros((512, 4))\n",
    "    for i in range(labels.shape[0]):\n",
    "        labels_reshaped[i, labels[i, 0]] = 1\n",
    "    return labels_reshaped"
   ]
  },
  {
   "cell_type": "markdown",
   "metadata": {},
   "source": [
    "## Convert all x_train data to serial x_train data."
   ]
  },
  {
   "cell_type": "code",
   "execution_count": 13,
   "metadata": {},
   "outputs": [],
   "source": [
    "# global parameters.\n",
    "x_train, y_train, x_test, y_test = list(), list(), list(), list()\n",
    "num_steps = 16"
   ]
  },
  {
   "cell_type": "code",
   "execution_count": 14,
   "metadata": {},
   "outputs": [],
   "source": [
    "def convertToSerialList(x, y, x_copy, y_copy):\n",
    "    assert len(x) == len(y)\n",
    "    for i in range(len(x)):\n",
    "        for j in range(x[i].shape[0]):\n",
    "            x_copy.append(processFrequencies(x[i][j,:] , num_steps))\n",
    "            y_copy.append(processLabels(y[i][j,:]))"
   ]
  },
  {
   "cell_type": "code",
   "execution_count": 15,
   "metadata": {},
   "outputs": [],
   "source": [
    "convertToSerialList(training_data_x, training_data_y, x_train, y_train)"
   ]
  },
  {
   "cell_type": "code",
   "execution_count": 16,
   "metadata": {},
   "outputs": [
    {
     "name": "stdout",
     "output_type": "stream",
     "text": [
      "length of x is  3907\n",
      "length of y is  3907\n"
     ]
    }
   ],
   "source": [
    "print('length of x is ', len(x_train))\n",
    "print('length of y is ', len(y_train))"
   ]
  },
  {
   "cell_type": "code",
   "execution_count": 17,
   "metadata": {},
   "outputs": [
    {
     "name": "stdout",
     "output_type": "stream",
     "text": [
      "shape of x is  (512, 16, 1)\n",
      "shape of x is  (512, 4)\n"
     ]
    }
   ],
   "source": [
    "print('shape of x is ', x_train[0].shape)\n",
    "print('shape of x is ', y_train[0].shape)"
   ]
  },
  {
   "cell_type": "code",
   "execution_count": 18,
   "metadata": {},
   "outputs": [],
   "source": [
    "convertToSerialList(test_data_x, test_data_y, x_test, y_test)"
   ]
  },
  {
   "cell_type": "code",
   "execution_count": 19,
   "metadata": {},
   "outputs": [
    {
     "name": "stdout",
     "output_type": "stream",
     "text": [
      "length of x is  13672\n",
      "length of y is  13672\n"
     ]
    }
   ],
   "source": [
    "print('length of x is ', len(x_test))\n",
    "print('length of y is ', len(y_test))"
   ]
  },
  {
   "cell_type": "code",
   "execution_count": 20,
   "metadata": {},
   "outputs": [
    {
     "name": "stdout",
     "output_type": "stream",
     "text": [
      "shape of x is  (512, 16, 1)\n",
      "shape of x is  (512, 4)\n"
     ]
    }
   ],
   "source": [
    "print('shape of x is ', x_test[0].shape)\n",
    "print('shape of x is ', y_test[0].shape)"
   ]
  },
  {
   "cell_type": "markdown",
   "metadata": {},
   "source": [
    "## Creating the RNN model."
   ]
  },
  {
   "cell_type": "code",
   "execution_count": 21,
   "metadata": {},
   "outputs": [],
   "source": [
    "# RNN Global Parameter models.\n",
    "num_steps = 16\n",
    "frequency_shape = [512, num_steps, 1]\n",
    "labels_shape = [512, 4]\n",
    "\n",
    "hidden_layer_dimension = 32\n",
    "number_layers = 2\n",
    "use_dropout = False\n",
    "dropout = 0.0\n",
    "num_layers = 2\n",
    "batch_size = 256\n",
    "learning_rate = 0.001\n",
    "num_epochs = 11\n",
    "step_size = 512 // batch_size\n",
    "num_samples_train = len(x_train)\n",
    "num_samples_test = len(x_test)\n",
    "shuffled_indexed_train = [i for i in range(num_samples_train)]\n",
    "shuffled_indexed_test = [i for i in range(num_samples_test)]\n",
    "prediction_list = list()"
   ]
  },
  {
   "cell_type": "code",
   "execution_count": 22,
   "metadata": {},
   "outputs": [],
   "source": [
    "class Input:\n",
    "    def __init__(self, is_test=False):\n",
    "        \"\"\"\n",
    "        creates two run able objects -> inputs for feeding inputs and labels.\n",
    "        \"\"\"\n",
    "        self.freq_placeholder = tf.placeholder(tf.float32, [None, \n",
    "                                                            frequency_shape[0], frequency_shape[1], frequency_shape[2]],\n",
    "                                              name='input_frequency')\n",
    "        self.labels_placeholder = tf.placeholder(tf.float32, [None, labels_shape[0], labels_shape[1]])\n",
    "        \n",
    "        self.dataset = tf.data.Dataset.from_tensor_slices((self.freq_placeholder, self.labels_placeholder))\n",
    "        if not is_test:\n",
    "            self.dataset = self.dataset.shuffle(buffer_size=num_samples_train)\n",
    "        self.dataset = self.dataset.apply(tf.contrib.data.unbatch())\n",
    "        self.dataset = self.dataset.batch(batch_size)\n",
    "        self.dataset = self.dataset.prefetch(512 // batch_size)\n",
    "        \n",
    "        self.iterator = self.dataset.make_initializable_iterator()\n",
    "        self.inputs, self.output_labels = self.iterator.get_next()"
   ]
  },
  {
   "cell_type": "code",
   "execution_count": 23,
   "metadata": {},
   "outputs": [],
   "source": [
    "class Model:\n",
    "    def __init__(self, inputs, output_labels):\n",
    "        self.init_state = tf.placeholder(tf.float32, [number_layers, 2, batch_size, hidden_layer_dimension])\n",
    "        state_per_layer_list = tf.unstack(self.init_state, axis=0)\n",
    "        rnn_state_tuples = tuple([tf.nn.rnn_cell.LSTMStateTuple(state[0], state[1]) for state in state_per_layer_list])\n",
    "\n",
    "        if use_dropout:\n",
    "            cell = tf.nn.rnn_cell.DropoutWrapper(cell, output_keep_prob=dropout)\n",
    "            \n",
    "        self.state = current_state = np.zeros((num_layers, 2, batch_size, hidden_layer_dimension))\n",
    "\n",
    "        if num_layers > 1:\n",
    "            cell_list = [self.createLSTMCells() for _ in range(num_layers)]\n",
    "            cell = tf.nn.rnn_cell.MultiRNNCell(cell_list, state_is_tuple=True)\n",
    "        elif num_layers == 1:\n",
    "            cell = createLSTMCells()\n",
    "\n",
    "        self.output, self.state = tf.nn.dynamic_rnn(cell, \n",
    "                                          inputs,\n",
    "                                          dtype=tf.float32, \n",
    "                                          initial_state=rnn_state_tuples)\n",
    "        \n",
    "        # extract the last output for time=num_seq from the output.\n",
    "        self.output = tf.transpose(self.output, [1, 0, 2])\n",
    "        self.output = tf.gather(self.output, int(self.output.shape[0]-1))\n",
    "        \n",
    "        # softmax layer\n",
    "        dense_layer = tf.layers.dense(self.output, units=4, activation=tf.nn.relu)\n",
    "        self.logits = tf.layers.dense(dense_layer, units=4, activation=None)\n",
    "        \n",
    "        self.cross_entropy = tf.nn.softmax_cross_entropy_with_logits_v2(labels=output_labels,\n",
    "                                                                        logits=self.logits)\n",
    "        self.loss = tf.reduce_mean(self.cross_entropy)\n",
    "        # optimizer\n",
    "        self.optimizer = tf.train.AdamOptimizer(learning_rate=learning_rate).minimize(self.loss)\n",
    "        \n",
    "        # measuring accuracy.\n",
    "        prediction = tf.nn.softmax(self.logits)\n",
    "        self.prediction_class = tf.argmax(prediction, axis=1)\n",
    "        output_labels_class = tf.argmax(output_labels, axis=1)\n",
    "        matching_prediction = tf.equal(output_labels_class, self.prediction_class)\n",
    "        self.accuracy = tf.reduce_mean(tf.cast(matching_prediction, tf.float32))\n",
    "        self.accuracy_dict = dict()\n",
    "        \n",
    "    def plotAccuracy(self):\n",
    "        lists = sorted(self.accuracy_dict.items()) # sorted by key, return a list of tuples\n",
    "        x, y = zip(*lists) # unpack a list of pairs into two tuples\n",
    "        plt.plot(x, y)\n",
    "        plt.show()\n",
    "        \n",
    "    def saveModel(self, epoch):\n",
    "        output_node_names = \"accuracy, prediction, state\"\n",
    "        output_graph_definition = graph_util.convert_variables_to_constants(\n",
    "            sess,\n",
    "            tf.get_default_graph().as_graph_def(),\n",
    "            output_node_names.split(\",\")\n",
    "        )\n",
    "        model_save_path = ('./saved_model/model_'+str(epoch)+'.pb')\n",
    "        with tf.gfile.GFile(model_save_path, \"wb\") as f:\n",
    "            f.write(output_graph_definition.SerializeToString())\n",
    "        \n",
    "    def createLSTMCells(self):\n",
    "        cell = tf.contrib.rnn.LSTMCell(hidden_layer_dimension, forget_bias=1.0)\n",
    "        return cell\n",
    "    \n",
    "    def calculateTestAccuracy(self, epoch, test_input):\n",
    "        sess.run(test_input.iterator.initializer, feed_dict={test_input.freq_placeholder: x_test, \n",
    "                                                    test_input.labels_placeholder: y_test})\n",
    "        \n",
    "        test_accuracy_list = list()\n",
    "        label_list = list()\n",
    "        current_state = np.zeros((num_layers, 2, batch_size, hidden_layer_dimension))\n",
    "        counter = 0\n",
    "        # looping till all values are consumed\n",
    "        while True:\n",
    "            try:\n",
    "                accuracy, prediction_class, current_state = sess.run([m.accuracy, m.prediction_class, m.state], \n",
    "                                                    feed_dict={m.init_state: current_state})\n",
    "                test_accuracy_list.append(accuracy)\n",
    "                label_list.append(prediction_class)\n",
    "                counter += 1\n",
    "                if counter != 0 and counter % step_size == 0:\n",
    "                    current_state = np.zeros((num_layers, 2, batch_size, hidden_layer_dimension))\n",
    "            except tf.errors.OutOfRangeError:\n",
    "                break\n",
    "        print('test accuracy at epoch #', epoch, 'is ', (sum(test_accuracy_list) / len(test_accuracy_list)))\n",
    "        self.accuracy_dict[epoch] = (sum(test_accuracy_list) / len(test_accuracy_list) )\n",
    "        print(len(label_list))\n",
    "        return label_list"
   ]
  },
  {
   "cell_type": "code",
   "execution_count": 24,
   "metadata": {},
   "outputs": [
    {
     "name": "stdout",
     "output_type": "stream",
     "text": [
      "epoch # 0 started\n"
     ]
    },
    {
     "ename": "ZeroDivisionError",
     "evalue": "division by zero",
     "output_type": "error",
     "traceback": [
      "\u001b[0;31m---------------------------------------------------------------------------\u001b[0m",
      "\u001b[0;31mZeroDivisionError\u001b[0m                         Traceback (most recent call last)",
      "\u001b[0;32m<ipython-input-24-e0959444cff8>\u001b[0m in \u001b[0;36m<module>\u001b[0;34m()\u001b[0m\n\u001b[1;32m     40\u001b[0m                 \u001b[0;32mbreak\u001b[0m\u001b[0;34m\u001b[0m\u001b[0m\n\u001b[1;32m     41\u001b[0m \u001b[0;34m\u001b[0m\u001b[0m\n\u001b[0;32m---> 42\u001b[0;31m         \u001b[0mm\u001b[0m\u001b[0;34m.\u001b[0m\u001b[0mcalculateTestAccuracy\u001b[0m\u001b[0;34m(\u001b[0m\u001b[0mepoch\u001b[0m\u001b[0;34m,\u001b[0m \u001b[0mtest_input\u001b[0m\u001b[0;34m)\u001b[0m\u001b[0;34m\u001b[0m\u001b[0m\n\u001b[0m\u001b[1;32m     43\u001b[0m         \u001b[0;31m# after training, if epoch number is multiple of 10, check if\u001b[0m\u001b[0;34m\u001b[0m\u001b[0;34m\u001b[0m\u001b[0m\n\u001b[1;32m     44\u001b[0m         \u001b[0;32mif\u001b[0m \u001b[0mepoch\u001b[0m \u001b[0;34m!=\u001b[0m \u001b[0;36m0\u001b[0m \u001b[0;32mand\u001b[0m \u001b[0mepoch\u001b[0m \u001b[0;34m%\u001b[0m \u001b[0;36m10\u001b[0m \u001b[0;34m==\u001b[0m \u001b[0;36m0\u001b[0m\u001b[0;34m:\u001b[0m\u001b[0;34m\u001b[0m\u001b[0m\n",
      "\u001b[0;32m<ipython-input-23-fcd067812191>\u001b[0m in \u001b[0;36mcalculateTestAccuracy\u001b[0;34m(self, epoch, test_input)\u001b[0m\n\u001b[1;32m     84\u001b[0m             \u001b[0;32mexcept\u001b[0m \u001b[0mtf\u001b[0m\u001b[0;34m.\u001b[0m\u001b[0merrors\u001b[0m\u001b[0;34m.\u001b[0m\u001b[0mOutOfRangeError\u001b[0m\u001b[0;34m:\u001b[0m\u001b[0;34m\u001b[0m\u001b[0m\n\u001b[1;32m     85\u001b[0m                 \u001b[0;32mbreak\u001b[0m\u001b[0;34m\u001b[0m\u001b[0m\n\u001b[0;32m---> 86\u001b[0;31m         \u001b[0mprint\u001b[0m\u001b[0;34m(\u001b[0m\u001b[0;34m'test accuracy at epoch #'\u001b[0m\u001b[0;34m,\u001b[0m \u001b[0mepoch\u001b[0m\u001b[0;34m,\u001b[0m \u001b[0;34m'is '\u001b[0m\u001b[0;34m,\u001b[0m \u001b[0;34m(\u001b[0m\u001b[0msum\u001b[0m\u001b[0;34m(\u001b[0m\u001b[0mtest_accuracy_list\u001b[0m\u001b[0;34m)\u001b[0m \u001b[0;34m/\u001b[0m \u001b[0mlen\u001b[0m\u001b[0;34m(\u001b[0m\u001b[0mtest_accuracy_list\u001b[0m\u001b[0;34m)\u001b[0m\u001b[0;34m)\u001b[0m\u001b[0;34m)\u001b[0m\u001b[0;34m\u001b[0m\u001b[0m\n\u001b[0m\u001b[1;32m     87\u001b[0m         \u001b[0mself\u001b[0m\u001b[0;34m.\u001b[0m\u001b[0maccuracy_dict\u001b[0m\u001b[0;34m[\u001b[0m\u001b[0mepoch\u001b[0m\u001b[0;34m]\u001b[0m \u001b[0;34m=\u001b[0m \u001b[0;34m(\u001b[0m\u001b[0msum\u001b[0m\u001b[0;34m(\u001b[0m\u001b[0mtest_accuracy_list\u001b[0m\u001b[0;34m)\u001b[0m \u001b[0;34m/\u001b[0m \u001b[0mlen\u001b[0m\u001b[0;34m(\u001b[0m\u001b[0mtest_accuracy_list\u001b[0m\u001b[0;34m)\u001b[0m \u001b[0;34m)\u001b[0m\u001b[0;34m\u001b[0m\u001b[0m\n\u001b[1;32m     88\u001b[0m         \u001b[0mprint\u001b[0m\u001b[0;34m(\u001b[0m\u001b[0mlen\u001b[0m\u001b[0;34m(\u001b[0m\u001b[0mlabel_list\u001b[0m\u001b[0;34m)\u001b[0m\u001b[0;34m)\u001b[0m\u001b[0;34m\u001b[0m\u001b[0m\n",
      "\u001b[0;31mZeroDivisionError\u001b[0m: division by zero"
     ]
    }
   ],
   "source": [
    "cell_start_time = time.time()\n",
    "train_input = Input()\n",
    "test_input = Input(is_test=True)\n",
    "m = Model(train_input.inputs, train_input.output_labels)\n",
    "prediction = None\n",
    "with tf.Session() as sess:\n",
    "    sess.run(tf.global_variables_initializer())\n",
    "    saver = tf.train.Saver()\n",
    "    counter = 0\n",
    "    \n",
    "    handle = tf.placeholder(tf.string, shape=[])\n",
    "    iterator = tf.data.Iterator.from_string_handle(handle, \n",
    "                                                   train_input.dataset.output_types, \n",
    "                                                   train_input.dataset.output_shapes)\n",
    "\n",
    "    for epoch in range(num_epochs):\n",
    "        print('epoch #', epoch, 'started')\n",
    "        \n",
    "        # variables.\n",
    "        epoch_time = time.time()\n",
    "        counter = 0\n",
    "        current_state = np.zeros((num_layers, 2, batch_size, hidden_layer_dimension))\n",
    "        train_accuracy_list = list()\n",
    "        \n",
    "        # loading the dataset\n",
    "        sess.run(train_input.iterator.initializer, feed_dict={train_input.freq_placeholder: x_train, \n",
    "                                                        train_input.labels_placeholder: y_train})\n",
    "        \n",
    "        # looping till all values are consumed\n",
    "        while True:\n",
    "            try:\n",
    "                if epoch % 10 == 0:\n",
    "                    parameter1, accuracy, current_state = sess.run([m.optimizer, m.accuracy, m.state], \n",
    "                                                                   feed_dict={m.init_state: current_state})\n",
    "                    train_accuracy_list.append(accuracy)\n",
    "                    counter += 1\n",
    "                    if counter != 0 and counter % step_size == 0:\n",
    "                        current_state = np.zeros((num_layers, 2, batch_size, hidden_layer_dimension))   \n",
    "                else:\n",
    "                    parameter1, current_state = sess.run([m.optimizer, m.state], \n",
    "                                                             feed_dict={m.init_state: current_state})\n",
    "                    counter += 1\n",
    "                    if counter != 0 and counter % step_size == 0:\n",
    "                        current_state = np.zeros((num_layers, 2, batch_size, hidden_layer_dimension))\n",
    "            except tf.errors.OutOfRangeError:\n",
    "                break\n",
    "            \n",
    "        m.calculateTestAccuracy(epoch, test_input)\n",
    "        # after training, if epoch number is multiple of 10, check if \n",
    "        if epoch != 0 and epoch % 10 == 0:\n",
    "            print('train set accuracy at epoch #', epoch, 'is ', (sum(train_accuracy_list) / len(train_accuracy_list)))\n",
    "            m.calculateTestAccuracy(epoch, test_input)\n",
    "            saver.save(sess, './checkpoints/model_checkpoint_'+str(epoch))\n",
    "            \n",
    "        end_time = time.time()\n",
    "        print('epoch #', epoch, 'ended - ',  end_time - epoch_time)\n",
    "    saver.save(sess, './checkpoints/model_checkpoint_final')\n",
    "    prediction = m.calculateTestAccuracy(epoch, test_input)\n",
    "    m.saveModel(epoch)\n",
    "cell_end_time = time.time()\n",
    "print('total time to train the network is ', cell_end_time - cell_start_time)"
   ]
  },
  {
   "cell_type": "code",
   "execution_count": null,
   "metadata": {},
   "outputs": [],
   "source": [
    "prediction_np = np.array(prediction)"
   ]
  },
  {
   "cell_type": "code",
   "execution_count": null,
   "metadata": {},
   "outputs": [],
   "source": [
    "prediction_np.shape"
   ]
  },
  {
   "cell_type": "markdown",
   "metadata": {},
   "source": [
    "## reshaping predicted output to y_test format."
   ]
  },
  {
   "cell_type": "code",
   "execution_count": null,
   "metadata": {},
   "outputs": [],
   "source": [
    "pred_np = np.zeros((num_samples_test, 512))\n",
    "row, col = 0, 0\n",
    "for i in range(prediction_np.shape[0]):\n",
    "    pred_np[row, col:col+256] = prediction_np[i]\n",
    "    col += 256\n",
    "    if col == 512:\n",
    "        col = 0\n",
    "        row += 1"
   ]
  },
  {
   "cell_type": "code",
   "execution_count": null,
   "metadata": {},
   "outputs": [],
   "source": [
    "pred_np.shape"
   ]
  },
  {
   "cell_type": "code",
   "execution_count": null,
   "metadata": {},
   "outputs": [],
   "source": [
    "y_test_np = np.argmax(y_test, axis=2)"
   ]
  },
  {
   "cell_type": "code",
   "execution_count": null,
   "metadata": {},
   "outputs": [],
   "source": [
    "y_test_np.shape"
   ]
  },
  {
   "cell_type": "code",
   "execution_count": null,
   "metadata": {},
   "outputs": [],
   "source": [
    "y_test_np = np.reshape(y_test_np, [y_test_np.shape[0] * y_test_np.shape[1]])\n",
    "pred_np = np.reshape(pred_np, [pred_np.shape[0] * pred_np.shape[1]])"
   ]
  },
  {
   "cell_type": "code",
   "execution_count": null,
   "metadata": {},
   "outputs": [],
   "source": [
    "assert y_test_np.shape == pred_np.shape"
   ]
  },
  {
   "cell_type": "code",
   "execution_count": null,
   "metadata": {},
   "outputs": [],
   "source": [
    "from pandas_ml import ConfusionMatrix\n",
    "\n",
    "cm = ConfusionMatrix(y_test_np, pred_np)\n",
    "print(cm)"
   ]
  },
  {
   "cell_type": "code",
   "execution_count": null,
   "metadata": {},
   "outputs": [],
   "source": [
    "m.plotAccuracy()"
   ]
  },
  {
   "cell_type": "markdown",
   "metadata": {},
   "source": [
    "## Write model to .pb file."
   ]
  },
  {
   "cell_type": "code",
   "execution_count": null,
   "metadata": {},
   "outputs": [],
   "source": []
  },
  {
   "cell_type": "code",
   "execution_count": null,
   "metadata": {},
   "outputs": [],
   "source": []
  }
 ],
 "metadata": {
  "kernelspec": {
   "display_name": "Python 3",
   "language": "python",
   "name": "python3"
  },
  "language_info": {
   "codemirror_mode": {
    "name": "ipython",
    "version": 3
   },
   "file_extension": ".py",
   "mimetype": "text/x-python",
   "name": "python",
   "nbconvert_exporter": "python",
   "pygments_lexer": "ipython3",
   "version": "3.6.6"
  }
 },
 "nbformat": 4,
 "nbformat_minor": 2
}
