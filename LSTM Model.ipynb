{
 "cells": [
  {
   "cell_type": "code",
   "execution_count": 1,
   "metadata": {},
   "outputs": [],
   "source": [
    "import tensorflow as tf\n",
    "import numpy as np\n",
    "\n",
    "import matplotlib\n",
    "import matplotlib.pyplot as plt\n",
    "\n",
    "import time\n",
    "import random\n",
    "\n",
    "from tensorflow.python.framework import graph_util\n",
    "from tensorflow.python.framework import ops\n",
    "\n",
    "from pandas_ml import ConfusionMatrix"
   ]
  },
  {
   "cell_type": "markdown",
   "metadata": {},
   "source": [
    "## load all npz files from npz_files directory."
   ]
  },
  {
   "cell_type": "code",
   "execution_count": 2,
   "metadata": {},
   "outputs": [],
   "source": [
    "import os\n",
    "\n",
    "npz_files_directory_train = '/home/rohan/Desktop/label-generator/raw_files/npz-files/train'\n",
    "npz_files_directory_test = '/home/rohan/Desktop/label-generator/raw_files/npz-files/test'\n",
    "# collect all files from npz directory.\n",
    "train_files = list()\n",
    "for f in os.listdir(npz_files_directory_train):\n",
    "    train_files.append(f)\n",
    "    \n",
    "test_files = list()\n",
    "for f in os.listdir(npz_files_directory_test):\n",
    "    test_files.append(f)"
   ]
  },
  {
   "cell_type": "code",
   "execution_count": 3,
   "metadata": {},
   "outputs": [],
   "source": [
    "train_files = [file for file in train_files if file[-3:] == 'npz']\n",
    "test_files = [file for file in test_files if file[-3:] == 'npz']"
   ]
  },
  {
   "cell_type": "code",
   "execution_count": 4,
   "metadata": {},
   "outputs": [
    {
     "name": "stdout",
     "output_type": "stream",
     "text": [
      "number of train files 5\n",
      "number of test files 3\n"
     ]
    }
   ],
   "source": [
    "print('number of train files', len(train_files))\n",
    "print('number of test files', len(test_files))"
   ]
  },
  {
   "cell_type": "markdown",
   "metadata": {},
   "source": [
    "## load all numpy arrays into training data x and y.\n",
    "structure of the npz files = ['c1', 'c2', 'c3', 'Z', 'labels'].\n",
    "c1, c2, c3 => numpy array containing all class 1, 2, 3 bounding boxes respectively.\n",
    "Z => the raw PSD files.\n",
    "labels => pixel wise labels for psd files. same dimensions as the PSD files."
   ]
  },
  {
   "cell_type": "code",
   "execution_count": 5,
   "metadata": {},
   "outputs": [],
   "source": [
    "def load_data(directory, files_list):\n",
    "    training_data_x = list()\n",
    "    training_data_y = list()\n",
    "\n",
    "    count = 0\n",
    "    for file_name in files_list:\n",
    "        data1 = np.load(directory + '/' + file_name)\n",
    "        training_data_x.append(data1['Z'])\n",
    "        training_data_y.append(data1['labels'])\n",
    "        count += 1\n",
    "    print('files loaded', count)\n",
    "    return training_data_x, training_data_y "
   ]
  },
  {
   "cell_type": "code",
   "execution_count": 6,
   "metadata": {},
   "outputs": [
    {
     "name": "stdout",
     "output_type": "stream",
     "text": [
      "files loaded 5\n"
     ]
    }
   ],
   "source": [
    "training_data_x, training_data_y = load_data(npz_files_directory_train, train_files)"
   ]
  },
  {
   "cell_type": "code",
   "execution_count": 7,
   "metadata": {},
   "outputs": [
    {
     "name": "stdout",
     "output_type": "stream",
     "text": [
      "files loaded 3\n"
     ]
    }
   ],
   "source": [
    "test_data_x, test_data_y = load_data(npz_files_directory_test, test_files)"
   ]
  },
  {
   "cell_type": "code",
   "execution_count": 8,
   "metadata": {},
   "outputs": [
    {
     "name": "stdout",
     "output_type": "stream",
     "text": [
      "shape of training_data_x 5\n",
      "shape of training_data_y 5\n"
     ]
    }
   ],
   "source": [
    "print('shape of training_data_x', len(training_data_x))\n",
    "print('shape of training_data_y', len(training_data_y))"
   ]
  },
  {
   "cell_type": "code",
   "execution_count": 9,
   "metadata": {},
   "outputs": [
    {
     "name": "stdout",
     "output_type": "stream",
     "text": [
      "shape of training_data_x 3\n",
      "shape of training_data_y 3\n"
     ]
    }
   ],
   "source": [
    "print('shape of training_data_x', len(test_data_x))\n",
    "print('shape of training_data_y', len(test_data_y))"
   ]
  },
  {
   "cell_type": "code",
   "execution_count": 10,
   "metadata": {},
   "outputs": [
    {
     "name": "stdout",
     "output_type": "stream",
     "text": [
      "shape of training_data_x samples (1953, 512)\n",
      "shape of training_data_y samples (1953, 512)\n"
     ]
    }
   ],
   "source": [
    "print('shape of training_data_x samples', training_data_x[0].shape)\n",
    "print('shape of training_data_y samples', training_data_y[0].shape)"
   ]
  },
  {
   "cell_type": "markdown",
   "metadata": {},
   "source": [
    "## variable structures:-\n",
    "1. train_x contains all Z for all files.\n",
    "2. train_y contains all label for all files."
   ]
  },
  {
   "cell_type": "markdown",
   "metadata": {},
   "source": [
    "## convert training_data_x to shape (size of all timesteps, 512)"
   ]
  },
  {
   "cell_type": "code",
   "execution_count": 11,
   "metadata": {},
   "outputs": [],
   "source": [
    "def processFrequencies(freq, num_steps):\n",
    "    frequencies = np.zeros((512, num_steps), dtype=np.float32)\n",
    "    assert freq.shape[0] == 512\n",
    "    freq = np.reshape(freq, (512, 1))\n",
    "    for i in range(freq.shape[0]):\n",
    "        if freq[i:i+num_steps, 0].shape[0] == num_steps:\n",
    "            frequencies[i, :] = freq[i:i+num_steps, 0]\n",
    "        else:\n",
    "#             print(freq[i:i+num_steps, 0].shape[0])\n",
    "            frequencies[i, :] = np.pad(freq[i:i+num_steps, 0], (0, num_steps-freq[i:i+num_steps, 0].shape[0]), 'edge')\n",
    "    frequencies = np.reshape(frequencies, (512, num_steps, 1))\n",
    "    return frequencies"
   ]
  },
  {
   "cell_type": "code",
   "execution_count": 12,
   "metadata": {},
   "outputs": [],
   "source": [
    "def processLabels(labels):\n",
    "    labels = np.reshape(labels, (512, 1))\n",
    "    labels_reshaped = np.zeros((512, 4))\n",
    "    for i in range(labels.shape[0]):\n",
    "        labels_reshaped[i, labels[i, 0]] = 1\n",
    "    return labels_reshaped"
   ]
  },
  {
   "cell_type": "markdown",
   "metadata": {},
   "source": [
    "## Convert all x_train data to serial x_train data."
   ]
  },
  {
   "cell_type": "code",
   "execution_count": 13,
   "metadata": {},
   "outputs": [],
   "source": [
    "# global parameters.\n",
    "x_train, y_train, x_test, y_test = list(), list(), list(), list()\n",
    "num_steps = 8"
   ]
  },
  {
   "cell_type": "code",
   "execution_count": 14,
   "metadata": {},
   "outputs": [],
   "source": [
    "def convertToSerialList(x, y, x_copy, y_copy):\n",
    "    assert len(x) == len(y)\n",
    "    for i in range(len(x)):\n",
    "        for j in range(x[i].shape[0]):\n",
    "            x_copy.append(processFrequencies(x[i][j,:] , num_steps))\n",
    "            y_copy.append(processLabels(y[i][j,:]))"
   ]
  },
  {
   "cell_type": "code",
   "execution_count": 15,
   "metadata": {},
   "outputs": [],
   "source": [
    "convertToSerialList(training_data_x, training_data_y, x_train, y_train)"
   ]
  },
  {
   "cell_type": "code",
   "execution_count": 16,
   "metadata": {},
   "outputs": [
    {
     "name": "stdout",
     "output_type": "stream",
     "text": [
      "length of x is  9765\n",
      "length of y is  9765\n"
     ]
    }
   ],
   "source": [
    "print('length of x is ', len(x_train))\n",
    "print('length of y is ', len(y_train))"
   ]
  },
  {
   "cell_type": "code",
   "execution_count": 17,
   "metadata": {},
   "outputs": [
    {
     "name": "stdout",
     "output_type": "stream",
     "text": [
      "shape of x is  (512, 8, 1)\n",
      "shape of x is  (512, 4)\n"
     ]
    }
   ],
   "source": [
    "print('shape of x is ', x_train[0].shape)\n",
    "print('shape of x is ', y_train[0].shape)"
   ]
  },
  {
   "cell_type": "code",
   "execution_count": 18,
   "metadata": {},
   "outputs": [],
   "source": [
    "convertToSerialList(test_data_x, test_data_y, x_test, y_test)"
   ]
  },
  {
   "cell_type": "code",
   "execution_count": 19,
   "metadata": {},
   "outputs": [
    {
     "name": "stdout",
     "output_type": "stream",
     "text": [
      "length of x is  5858\n",
      "length of y is  5858\n"
     ]
    }
   ],
   "source": [
    "print('length of x is ', len(x_test))\n",
    "print('length of y is ', len(y_test))"
   ]
  },
  {
   "cell_type": "code",
   "execution_count": 20,
   "metadata": {},
   "outputs": [
    {
     "name": "stdout",
     "output_type": "stream",
     "text": [
      "shape of x is  (512, 8, 1)\n",
      "shape of x is  (512, 4)\n"
     ]
    }
   ],
   "source": [
    "print('shape of x is ', x_test[0].shape)\n",
    "print('shape of x is ', y_test[0].shape)"
   ]
  },
  {
   "cell_type": "code",
   "execution_count": 21,
   "metadata": {},
   "outputs": [],
   "source": [
    "# deleting unused files.\n",
    "del training_data_x, training_data_y, test_data_x, test_data_y"
   ]
  },
  {
   "cell_type": "markdown",
   "metadata": {},
   "source": [
    "## Creating the RNN model."
   ]
  },
  {
   "cell_type": "code",
   "execution_count": 22,
   "metadata": {},
   "outputs": [],
   "source": [
    "# RNN Global Parameter models.\n",
    "num_steps = 8\n",
    "frequency_shape = [512, num_steps, 1]\n",
    "labels_shape = [512, 4]\n",
    "\n",
    "hidden_layer_dimension = 32\n",
    "number_layers = 2\n",
    "use_dropout = False\n",
    "dropout = 0.0\n",
    "num_layers = 2\n",
    "batch_size = 128\n",
    "learning_rate = 0.001\n",
    "num_epochs = 200\n",
    "step_size = 512 // batch_size\n",
    "num_samples_train = len(x_train)\n",
    "num_samples_test = len(x_test)\n",
    "shuffled_indexed_train = [i for i in range(num_samples_train)]\n",
    "shuffled_indexed_test = [i for i in range(num_samples_test)]\n",
    "prediction_list = list()"
   ]
  },
  {
   "cell_type": "code",
   "execution_count": 23,
   "metadata": {},
   "outputs": [],
   "source": [
    "class Input:\n",
    "    def __init__(self, is_train=True, frequencies, labels):\n",
    "        \"\"\"\n",
    "        creates two run able objects -> inputs for feeding inputs and labels.\n",
    "        \"\"\"\n",
    "        self.freq_placeholder = tf.placeholder(tf.float32, [None, \n",
    "                                                            frequency_shape[0], frequency_shape[1], frequency_shape[2]],\n",
    "                                              name='input_frequency')\n",
    "        self.labels_placeholder = tf.placeholder(tf.float32, [None, labels_shape[0], labels_shape[1]])\n",
    "        \n",
    "        self.dataset = tf.data.Dataset.from_tensor_slices((self.freq_placeholder, self.labels_placeholder))\n",
    "        if is_train:\n",
    "            self.dataset = self.dataset.shuffle(buffer_size=num_samples_train)\n",
    "        self.dataset = self.dataset.apply(tf.contrib.data.unbatch())\n",
    "        self.dataset = self.dataset.batch(batch_size)\n",
    "        self.dataset = self.dataset.prefetch(512 // batch_size)\n",
    "        \n",
    "        self.iterator = self.dataset.make_initializable_iterator()\n",
    "        self.inputs, self.output_labels = self.iterator.get_next()"
   ]
  },
  {
   "cell_type": "code",
   "execution_count": 24,
   "metadata": {},
   "outputs": [],
   "source": [
    "class Model:\n",
    "    def __init__(self, inputs, output_labels):\n",
    "        self.init_state = tf.placeholder(tf.float32, [number_layers, 2, batch_size, hidden_layer_dimension])\n",
    "        state_per_layer_list = tf.unstack(self.init_state, axis=0)\n",
    "        rnn_state_tuples = tuple([tf.nn.rnn_cell.LSTMStateTuple(state[0], state[1]) for state in state_per_layer_list])\n",
    "\n",
    "        if use_dropout:\n",
    "            cell = tf.nn.rnn_cell.DropoutWrapper(cell, output_keep_prob=dropout)\n",
    "            \n",
    "        self.state = current_state = np.zeros((num_layers, 2, batch_size, hidden_layer_dimension))\n",
    "\n",
    "        if num_layers > 1:\n",
    "            cell_list = [self.createLSTMCells() for _ in range(num_layers)]\n",
    "            cell = tf.nn.rnn_cell.MultiRNNCell(cell_list, state_is_tuple=True)\n",
    "        elif num_layers == 1:\n",
    "            cell = createLSTMCells()\n",
    "\n",
    "        self.output, self.state = tf.nn.dynamic_rnn(cell, \n",
    "                                          inputs,\n",
    "                                          dtype=tf.float32, \n",
    "                                          initial_state=rnn_state_tuples)\n",
    "        \n",
    "        # extract the last output for time=num_seq from the output.\n",
    "        self.output = tf.transpose(self.output, [1, 0, 2])\n",
    "        self.output = tf.gather(self.output, int(self.output.shape[0]-1))\n",
    "        \n",
    "        # softmax layer\n",
    "        dense_layer = tf.layers.dense(self.output, units=4, activation=tf.nn.relu)\n",
    "        self.logits = tf.layers.dense(dense_layer, units=4, activation=None)\n",
    "        \n",
    "        self.cross_entropy = tf.nn.softmax_cross_entropy_with_logits_v2(labels=output_labels,\n",
    "                                                                        logits=self.logits)\n",
    "        self.loss = tf.reduce_mean(self.cross_entropy)\n",
    "        # optimizer\n",
    "        self.optimizer = tf.train.AdamOptimizer(learning_rate=learning_rate).minimize(self.loss)\n",
    "        \n",
    "        # measuring accuracy.\n",
    "        prediction = tf.nn.softmax(self.logits)\n",
    "        self.prediction_class = tf.argmax(prediction, axis=1)\n",
    "        output_labels_class = tf.argmax(output_labels, axis=1)\n",
    "        matching_prediction = tf.equal(output_labels_class, self.prediction_class)\n",
    "        self.accuracy = tf.reduce_mean(tf.cast(matching_prediction, tf.float32))\n",
    "        self.accuracy_dict = dict()\n",
    "        \n",
    "    def plotAccuracy(self):\n",
    "        lists = sorted(self.accuracy_dict.items()) # sorted by key, return a list of tuples\n",
    "        x, y = zip(*lists) # unpack a list of pairs into two tuples\n",
    "        plt.plot(x, y)\n",
    "        plt.show()\n",
    "        \n",
    "    def saveModel(self, epoch):\n",
    "        output_node_names = \"accuracy, prediction, state\"\n",
    "        output_graph_definition = graph_util.convert_variables_to_constants(\n",
    "            sess,\n",
    "            tf.get_default_graph().as_graph_def(),\n",
    "            output_node_names.split(\",\")\n",
    "        )\n",
    "        model_save_path = ('./saved_model/model_'+str(epoch)+'.pb')\n",
    "        with tf.gfile.GFile(model_save_path, \"wb\") as f:\n",
    "            f.write(output_graph_definition.SerializeToString())\n",
    "        \n",
    "    def createLSTMCells(self):\n",
    "        cell = tf.contrib.rnn.LSTMCell(hidden_layer_dimension, forget_bias=1.0)\n",
    "        return cell\n",
    "    \n",
    "    def calculateTestAccuracy(self, epoch, test_input):\n",
    "        sess.run(test_input.iterator.initializer, feed_dict={test_input.freq_placeholder: x_test, \n",
    "                                                    test_input.labels_placeholder: y_test})\n",
    "        \n",
    "        test_accuracy_list = list()\n",
    "        label_list = list()\n",
    "        current_state = np.zeros((num_layers, 2, batch_size, hidden_layer_dimension))\n",
    "        counter = 0\n",
    "        # looping till all values are consumed\n",
    "        while True:\n",
    "            try:\n",
    "                accuracy, prediction_class, current_state = sess.run([m.accuracy, m.prediction_class, m.state], \n",
    "                                                    feed_dict={m.init_state: current_state})\n",
    "                test_accuracy_list.append(accuracy)\n",
    "                label_list.append(prediction_class)\n",
    "                counter += 1\n",
    "                if counter != 0 and counter % step_size == 0:\n",
    "                    current_state = np.zeros((num_layers, 2, batch_size, hidden_layer_dimension))\n",
    "            except tf.errors.OutOfRangeError:\n",
    "                break\n",
    "        print('test accuracy at epoch #', epoch, 'is ', (sum(test_accuracy_list) / len(test_accuracy_list)))\n",
    "        self.accuracy_dict[epoch] = (sum(test_accuracy_list) / len(test_accuracy_list) )\n",
    "        print(len(label_list))\n",
    "        return label_list\n",
    "    \n",
    "    def printConfusionMatrix(self, prediction):\n",
    "        prediction_np = np.array(prediction)\n",
    "        pred_np = np.zeros((num_samples_test, 512))\n",
    "        row, col = 0, 0\n",
    "        for i in range(prediction_np.shape[0]):\n",
    "            pred_np[row, col:col+batch_size] = prediction_np[i]\n",
    "            col += batch_size\n",
    "            if col == 512:\n",
    "                col = 0\n",
    "                row += 1\n",
    "        \n",
    "        y_test_np = np.argmax(y_test, axis=2)\n",
    "        y_test_np = np.reshape(y_test_np, [y_test_np.shape[0] * y_test_np.shape[1]])\n",
    "        pred_np = np.reshape(pred_np, [pred_np.shape[0] * pred_np.shape[1]])\n",
    "        cm = ConfusionMatrix(y_test_np, pred_np)\n",
    "        print(cm)"
   ]
  },
  {
   "cell_type": "code",
   "execution_count": 25,
   "metadata": {},
   "outputs": [
    {
     "name": "stdout",
     "output_type": "stream",
     "text": [
      "epoch # 0 started\n",
      "train set accuracy at epoch # 0 is  0.9414164506528417\n",
      "test accuracy at epoch # 0 is  0.93691252880676\n",
      "23432\n",
      "Predicted      0.0     1.0    2.0    3.0  __all__\n",
      "Actual                                           \n",
      "0.0        2606535  127612   8086   7257  2749490\n",
      "1.0         109027   42089   1056    880   153052\n",
      "2.0          67042    4889   3114   1584    76629\n",
      "3.0          15511    3166    406   1042    20125\n",
      "__all__    2798115  177756  12662  10763  2999296\n",
      "epoch # 0 ended -  297.96645402908325\n",
      "epoch # 1 started\n",
      "epoch # 1 ended -  218.90829300880432\n",
      "epoch # 2 started\n",
      "epoch # 2 ended -  223.02706789970398\n",
      "epoch # 3 started\n",
      "epoch # 3 ended -  208.58047604560852\n",
      "epoch # 4 started\n",
      "epoch # 4 ended -  212.47243356704712\n",
      "epoch # 5 started\n",
      "epoch # 5 ended -  220.56288957595825\n",
      "epoch # 6 started\n",
      "epoch # 6 ended -  221.19474172592163\n",
      "epoch # 7 started\n",
      "epoch # 7 ended -  227.6839895248413\n",
      "epoch # 8 started\n",
      "epoch # 8 ended -  214.23732709884644\n",
      "epoch # 9 started\n",
      "epoch # 9 ended -  209.86369490623474\n",
      "epoch # 10 started\n",
      "train set accuracy at epoch # 10 is  0.9572228622631849\n",
      "test accuracy at epoch # 10 is  0.9422141062435985\n",
      "23432\n",
      "Predicted      0.0     1.0    2.0    3.0  __all__\n",
      "Actual                                           \n",
      "0.0        2605460  111029  20408  12593  2749490\n",
      "1.0         107882   40553   1795   2822   153052\n",
      "2.0          61604    4077   8812   2136    76629\n",
      "3.0          14206    3005   1509   1405    20125\n",
      "__all__    2789152  158664  32524  18956  2999296\n",
      "epoch # 10 ended -  287.07553911209106\n",
      "epoch # 11 started\n",
      "epoch # 11 ended -  208.9643521308899\n",
      "epoch # 12 started\n",
      "epoch # 12 ended -  213.99379706382751\n",
      "epoch # 13 started\n",
      "epoch # 13 ended -  217.39521479606628\n",
      "epoch # 14 started\n",
      "epoch # 14 ended -  216.5017445087433\n",
      "epoch # 15 started\n",
      "epoch # 15 ended -  223.60211539268494\n",
      "epoch # 16 started\n",
      "epoch # 16 ended -  213.9044964313507\n",
      "epoch # 17 started\n",
      "epoch # 17 ended -  209.91533517837524\n",
      "epoch # 18 started\n",
      "epoch # 18 ended -  207.52888417243958\n",
      "epoch # 19 started\n",
      "epoch # 19 ended -  209.3100347518921\n",
      "epoch # 20 started\n",
      "train set accuracy at epoch # 20 is  0.9578881048387097\n",
      "test accuracy at epoch # 20 is  0.9310944968419256\n",
      "23432\n",
      "Predicted      0.0     1.0    2.0    3.0  __all__\n",
      "Actual                                           \n",
      "0.0        2565434  134011  39114  10931  2749490\n",
      "1.0         102132   45299   3169   2452   153052\n",
      "2.0          57141    5989  11355   2144    76629\n",
      "3.0          14136    3202   1378   1409    20125\n",
      "__all__    2738843  188501  55016  16936  2999296\n",
      "epoch # 20 ended -  281.758065700531\n",
      "epoch # 21 started\n",
      "epoch # 21 ended -  207.79209923744202\n",
      "epoch # 22 started\n",
      "epoch # 22 ended -  207.67416524887085\n",
      "epoch # 23 started\n",
      "epoch # 23 ended -  207.72009205818176\n",
      "epoch # 24 started\n",
      "epoch # 24 ended -  207.79927682876587\n",
      "epoch # 25 started\n",
      "epoch # 25 ended -  207.67305850982666\n",
      "epoch # 26 started\n",
      "epoch # 26 ended -  207.61279368400574\n",
      "epoch # 27 started\n",
      "epoch # 27 ended -  207.59556794166565\n",
      "epoch # 28 started\n",
      "epoch # 28 ended -  207.87464833259583\n",
      "epoch # 29 started\n",
      "epoch # 29 ended -  207.60839676856995\n",
      "epoch # 30 started\n",
      "train set accuracy at epoch # 30 is  0.9573514704941116\n",
      "test accuracy at epoch # 30 is  0.9370879032946398\n",
      "23432\n",
      "Predicted      0.0     1.0    2.0   3.0  __all__\n",
      "Actual                                          \n",
      "0.0        2585560  132477  25428  6025  2749490\n",
      "1.0         103343   46036   2812   861   153052\n",
      "2.0          59154    5898   9986  1591    76629\n",
      "3.0          14080    3796   1155  1094    20125\n",
      "__all__    2762137  188207  39381  9571  2999296\n",
      "epoch # 30 ended -  281.6839950084686\n",
      "epoch # 31 started\n",
      "epoch # 31 ended -  207.95508694648743\n",
      "epoch # 32 started\n",
      "epoch # 32 ended -  208.02116632461548\n",
      "epoch # 33 started\n",
      "epoch # 33 ended -  207.97230458259583\n",
      "epoch # 34 started\n",
      "epoch # 34 ended -  208.025377035141\n",
      "epoch # 35 started\n",
      "epoch # 35 ended -  207.92213439941406\n",
      "epoch # 36 started\n",
      "epoch # 36 ended -  207.95158648490906\n",
      "epoch # 37 started\n",
      "epoch # 37 ended -  208.09393191337585\n",
      "epoch # 38 started\n",
      "epoch # 38 ended -  208.00126266479492\n",
      "epoch # 39 started\n",
      "epoch # 39 ended -  207.92520952224731\n",
      "epoch # 40 started\n",
      "train set accuracy at epoch # 40 is  0.9565684203789042\n",
      "test accuracy at epoch # 40 is  0.9384979008407306\n",
      "23432\n",
      "Predicted      0.0     1.0    2.0    3.0  __all__\n",
      "Actual                                           \n",
      "0.0        2598782  122578  18057  10073  2749490\n",
      "1.0         105857   42996   2113   2086   153052\n",
      "2.0          62314    5482   7135   1698    76629\n",
      "3.0          14718    3323    888   1196    20125\n",
      "__all__    2781671  174379  28193  15053  2999296\n",
      "epoch # 40 ended -  281.97850918769836\n",
      "epoch # 41 started\n",
      "epoch # 41 ended -  207.74620938301086\n",
      "epoch # 42 started\n",
      "epoch # 42 ended -  207.8620924949646\n",
      "epoch # 43 started\n",
      "epoch # 43 ended -  207.43862986564636\n",
      "epoch # 44 started\n",
      "epoch # 44 ended -  207.48398971557617\n",
      "epoch # 45 started\n",
      "epoch # 45 ended -  207.7204089164734\n",
      "epoch # 46 started\n",
      "epoch # 46 ended -  207.55124163627625\n",
      "epoch # 47 started\n",
      "epoch # 47 ended -  207.38380455970764\n",
      "epoch # 48 started\n",
      "epoch # 48 ended -  207.5336880683899\n",
      "epoch # 49 started\n",
      "epoch # 49 ended -  207.57136034965515\n",
      "epoch # 50 started\n"
     ]
    },
    {
     "ename": "MemoryError",
     "evalue": "",
     "output_type": "error",
     "traceback": [
      "\u001b[0;31m---------------------------------------------------------------------------\u001b[0m",
      "\u001b[0;31mMemoryError\u001b[0m                               Traceback (most recent call last)",
      "\u001b[0;32m<ipython-input-25-6c50fe3ff344>\u001b[0m in \u001b[0;36m<module>\u001b[0;34m()\u001b[0m\n\u001b[1;32m     25\u001b[0m         \u001b[0;31m# loading the dataset\u001b[0m\u001b[0;34m\u001b[0m\u001b[0;34m\u001b[0m\u001b[0m\n\u001b[1;32m     26\u001b[0m         sess.run(train_input.iterator.initializer, feed_dict={train_input.freq_placeholder: x_train, \n\u001b[0;32m---> 27\u001b[0;31m                                                         train_input.labels_placeholder: y_train})\n\u001b[0m\u001b[1;32m     28\u001b[0m \u001b[0;34m\u001b[0m\u001b[0m\n\u001b[1;32m     29\u001b[0m         \u001b[0;31m# looping till all values are consumed\u001b[0m\u001b[0;34m\u001b[0m\u001b[0;34m\u001b[0m\u001b[0m\n",
      "\u001b[0;32m~/anaconda3/envs/tensorflow-env/lib/python3.6/site-packages/tensorflow/python/client/session.py\u001b[0m in \u001b[0;36mrun\u001b[0;34m(self, fetches, feed_dict, options, run_metadata)\u001b[0m\n\u001b[1;32m    898\u001b[0m     \u001b[0;32mtry\u001b[0m\u001b[0;34m:\u001b[0m\u001b[0;34m\u001b[0m\u001b[0m\n\u001b[1;32m    899\u001b[0m       result = self._run(None, fetches, feed_dict, options_ptr,\n\u001b[0;32m--> 900\u001b[0;31m                          run_metadata_ptr)\n\u001b[0m\u001b[1;32m    901\u001b[0m       \u001b[0;32mif\u001b[0m \u001b[0mrun_metadata\u001b[0m\u001b[0;34m:\u001b[0m\u001b[0;34m\u001b[0m\u001b[0m\n\u001b[1;32m    902\u001b[0m         \u001b[0mproto_data\u001b[0m \u001b[0;34m=\u001b[0m \u001b[0mtf_session\u001b[0m\u001b[0;34m.\u001b[0m\u001b[0mTF_GetBuffer\u001b[0m\u001b[0;34m(\u001b[0m\u001b[0mrun_metadata_ptr\u001b[0m\u001b[0;34m)\u001b[0m\u001b[0;34m\u001b[0m\u001b[0m\n",
      "\u001b[0;32m~/anaconda3/envs/tensorflow-env/lib/python3.6/site-packages/tensorflow/python/client/session.py\u001b[0m in \u001b[0;36m_run\u001b[0;34m(self, handle, fetches, feed_dict, options, run_metadata)\u001b[0m\n\u001b[1;32m   1102\u001b[0m             \u001b[0mfeed_handles\u001b[0m\u001b[0;34m[\u001b[0m\u001b[0msubfeed_t\u001b[0m\u001b[0;34m]\u001b[0m \u001b[0;34m=\u001b[0m \u001b[0msubfeed_val\u001b[0m\u001b[0;34m\u001b[0m\u001b[0m\n\u001b[1;32m   1103\u001b[0m           \u001b[0;32melse\u001b[0m\u001b[0;34m:\u001b[0m\u001b[0;34m\u001b[0m\u001b[0m\n\u001b[0;32m-> 1104\u001b[0;31m             \u001b[0mnp_val\u001b[0m \u001b[0;34m=\u001b[0m \u001b[0mnp\u001b[0m\u001b[0;34m.\u001b[0m\u001b[0masarray\u001b[0m\u001b[0;34m(\u001b[0m\u001b[0msubfeed_val\u001b[0m\u001b[0;34m,\u001b[0m \u001b[0mdtype\u001b[0m\u001b[0;34m=\u001b[0m\u001b[0msubfeed_dtype\u001b[0m\u001b[0;34m)\u001b[0m\u001b[0;34m\u001b[0m\u001b[0m\n\u001b[0m\u001b[1;32m   1105\u001b[0m \u001b[0;34m\u001b[0m\u001b[0m\n\u001b[1;32m   1106\u001b[0m           if (not is_tensor_handle_feed and\n",
      "\u001b[0;32m~/anaconda3/envs/tensorflow-env/lib/python3.6/site-packages/numpy/core/numeric.py\u001b[0m in \u001b[0;36masarray\u001b[0;34m(a, dtype, order)\u001b[0m\n\u001b[1;32m    499\u001b[0m \u001b[0;34m\u001b[0m\u001b[0m\n\u001b[1;32m    500\u001b[0m     \"\"\"\n\u001b[0;32m--> 501\u001b[0;31m     \u001b[0;32mreturn\u001b[0m \u001b[0marray\u001b[0m\u001b[0;34m(\u001b[0m\u001b[0ma\u001b[0m\u001b[0;34m,\u001b[0m \u001b[0mdtype\u001b[0m\u001b[0;34m,\u001b[0m \u001b[0mcopy\u001b[0m\u001b[0;34m=\u001b[0m\u001b[0;32mFalse\u001b[0m\u001b[0;34m,\u001b[0m \u001b[0morder\u001b[0m\u001b[0;34m=\u001b[0m\u001b[0morder\u001b[0m\u001b[0;34m)\u001b[0m\u001b[0;34m\u001b[0m\u001b[0m\n\u001b[0m\u001b[1;32m    502\u001b[0m \u001b[0;34m\u001b[0m\u001b[0m\n\u001b[1;32m    503\u001b[0m \u001b[0;34m\u001b[0m\u001b[0m\n",
      "\u001b[0;31mMemoryError\u001b[0m: "
     ]
    }
   ],
   "source": [
    "cell_start_time = time.time()\n",
    "train_input = Input()\n",
    "# test_input = Input(is_test=True)\n",
    "m = Model(train_input.inputs, train_input.output_labels)\n",
    "prediction = None\n",
    "with tf.Session() as sess:\n",
    "    sess.run(tf.global_variables_initializer())\n",
    "    saver = tf.train.Saver()\n",
    "    counter = 0\n",
    "    \n",
    "#     handle = tf.placeholder(tf.string, shape=[])\n",
    "#     iterator = tf.data.Iterator.from_string_handle(handle, \n",
    "#                                                    train_input.dataset.output_types, \n",
    "#                                                    train_input.dataset.output_shapes)\n",
    "\n",
    "    for epoch in range(num_epochs):\n",
    "        print('epoch #', epoch, 'started')\n",
    "        \n",
    "        # variables.\n",
    "        epoch_time = time.time()\n",
    "        counter = 0\n",
    "        current_state = np.zeros((num_layers, 2, batch_size, hidden_layer_dimension))\n",
    "        train_accuracy_list = list()\n",
    "        \n",
    "        # loading the dataset\n",
    "        sess.run(train_input.iterator.initializer, feed_dict={train_input.freq_placeholder: x_train, \n",
    "                                                        train_input.labels_placeholder: y_train})\n",
    "        \n",
    "        # looping till all values are consumed\n",
    "        while True:\n",
    "            try:\n",
    "                if epoch % 10 == 0:\n",
    "                    parameter1, accuracy, current_state = sess.run([m.optimizer, m.accuracy, m.state], \n",
    "                                                                   feed_dict={m.init_state: current_state})\n",
    "                    train_accuracy_list.append(accuracy)\n",
    "                    counter += 1\n",
    "                    if counter != 0 and counter % step_size == 0:\n",
    "                        current_state = np.zeros((num_layers, 2, batch_size, hidden_layer_dimension))   \n",
    "                else:\n",
    "                    parameter1, current_state = sess.run([m.optimizer, m.state], \n",
    "                                                             feed_dict={m.init_state: current_state})\n",
    "                    counter += 1\n",
    "                    if counter != 0 and counter % step_size == 0:\n",
    "                        current_state = np.zeros((num_layers, 2, batch_size, hidden_layer_dimension))\n",
    "            except tf.errors.OutOfRangeError:\n",
    "                break\n",
    "            \n",
    "        # after training, if epoch number is multiple of 10, check if \n",
    "        if epoch % 10 == 0:\n",
    "            print('train set accuracy at epoch #', epoch, 'is ', (sum(train_accuracy_list) / len(train_accuracy_list)))\n",
    "            saver.save(sess, './checkpoints/model_checkpoint_'+str(epoch))\n",
    "            prediction = m.calculateTestAccuracy(epoch, train_input)\n",
    "            m.printConfusionMatrix(prediction)\n",
    "        end_time = time.time()\n",
    "        print('epoch #', epoch, 'ended - ',  end_time - epoch_time)\n",
    "    saver.save(sess, './checkpoints/model_checkpoint_final')\n",
    "    prediction = m.calculateTestAccuracy(epoch, train_input)\n",
    "    m.printConfusionMatrix(prediction)\n",
    "#     m.saveModel(epoch)\n",
    "cell_end_time = time.time()\n",
    "print('total time to train the network is ', cell_end_time - cell_start_time)"
   ]
  },
  {
   "cell_type": "code",
   "execution_count": null,
   "metadata": {},
   "outputs": [],
   "source": [
    "m.printConfusionMatrix(prediction)"
   ]
  },
  {
   "cell_type": "code",
   "execution_count": null,
   "metadata": {},
   "outputs": [],
   "source": [
    "m.plotAccuracy()"
   ]
  },
  {
   "cell_type": "markdown",
   "metadata": {},
   "source": [
    "Predicted      0.0     1.0    2.0    3.0  __all__\n",
    "Actual                                           \n",
    "0.0        2591457  122997  23270  11766  2749490\n",
    "1.0         103267   45613   2025   2147   153052\n",
    "2.0          60231    4473   9225   2700    76629\n",
    "3.0          14268    2793   1423   1641    20125\n",
    "__all__    2769223  175876  35943  18254  2999296"
   ]
  },
  {
   "cell_type": "code",
   "execution_count": null,
   "metadata": {},
   "outputs": [],
   "source": []
  }
 ],
 "metadata": {
  "kernelspec": {
   "display_name": "Python 3",
   "language": "python",
   "name": "python3"
  },
  "language_info": {
   "codemirror_mode": {
    "name": "ipython",
    "version": 3
   },
   "file_extension": ".py",
   "mimetype": "text/x-python",
   "name": "python",
   "nbconvert_exporter": "python",
   "pygments_lexer": "ipython3",
   "version": "3.6.6"
  }
 },
 "nbformat": 4,
 "nbformat_minor": 2
}
