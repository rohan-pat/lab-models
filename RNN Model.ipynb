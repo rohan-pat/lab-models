{
 "cells": [
  {
   "cell_type": "code",
   "execution_count": 7,
   "metadata": {},
   "outputs": [],
   "source": [
    "import tensorflow as tf\n",
    "from tensorflow import keras\n",
    "import numpy as np\n",
    "import matplotlib\n",
    "import matplotlib.pyplot as plt"
   ]
  },
  {
   "cell_type": "code",
   "execution_count": 3,
   "metadata": {},
   "outputs": [],
   "source": [
    "# load data from the npz file.\n",
    "training_data = np.load('processed_npz_files/data_out_psd_1074023.npz')"
   ]
  },
  {
   "cell_type": "code",
   "execution_count": 4,
   "metadata": {},
   "outputs": [
    {
     "data": {
      "text/plain": [
       "(2001, 512)"
      ]
     },
     "execution_count": 4,
     "metadata": {},
     "output_type": "execute_result"
    }
   ],
   "source": [
    "training_data['labels'].shape"
   ]
  },
  {
   "cell_type": "code",
   "execution_count": 6,
   "metadata": {},
   "outputs": [
    {
     "data": {
      "text/plain": [
       "(array([0, 1], dtype=int8), array([1023296,    1216]))"
      ]
     },
     "execution_count": 6,
     "metadata": {},
     "output_type": "execute_result"
    }
   ],
   "source": [
    "np.unique(training_data['labels'], return_counts=True)"
   ]
  },
  {
   "cell_type": "code",
   "execution_count": 8,
   "metadata": {},
   "outputs": [],
   "source": [
    "x_train = training_data['Z']"
   ]
  },
  {
   "cell_type": "code",
   "execution_count": 9,
   "metadata": {},
   "outputs": [
    {
     "data": {
      "text/plain": [
       "(2001, 512)"
      ]
     },
     "execution_count": 9,
     "metadata": {},
     "output_type": "execute_result"
    }
   ],
   "source": [
    "x_train.shape"
   ]
  },
  {
   "cell_type": "code",
   "execution_count": 11,
   "metadata": {},
   "outputs": [
    {
     "data": {
      "text/plain": [
       "(512,)"
      ]
     },
     "execution_count": 11,
     "metadata": {},
     "output_type": "execute_result"
    }
   ],
   "source": [
    "x_train[0].shape"
   ]
  },
  {
   "cell_type": "code",
   "execution_count": 12,
   "metadata": {},
   "outputs": [],
   "source": [
    "# model parameters.\n",
    "sequence_length = 8"
   ]
  },
  {
   "cell_type": "code",
   "execution_count": 13,
   "metadata": {},
   "outputs": [],
   "source": [
    "y_train = training_data['labels']"
   ]
  },
  {
   "cell_type": "code",
   "execution_count": 14,
   "metadata": {},
   "outputs": [],
   "source": [
    "y = list()\n",
    "for i in range(x_train.shape[0]):\n",
    "    y_inner = list()\n",
    "    for j in range(x_train.shape[1]-8):\n",
    "        if np.count_nonzero(y_train[i, j:j+8] == 1) >= 4:\n",
    "            y_inner.append(1)\n",
    "        else:\n",
    "            y_inner.append(0)\n",
    "    y.append(np.array(y_inner, dtype=np.int8))"
   ]
  },
  {
   "cell_type": "code",
   "execution_count": 15,
   "metadata": {},
   "outputs": [],
   "source": [
    "y_np = np.array(y)"
   ]
  },
  {
   "cell_type": "code",
   "execution_count": 16,
   "metadata": {},
   "outputs": [
    {
     "data": {
      "text/plain": [
       "(2001, 504)"
      ]
     },
     "execution_count": 16,
     "metadata": {},
     "output_type": "execute_result"
    }
   ],
   "source": [
    "y_np.shape"
   ]
  },
  {
   "cell_type": "code",
   "execution_count": 20,
   "metadata": {},
   "outputs": [
    {
     "data": {
      "text/plain": [
       "(array([0, 1], dtype=int8), array([1007256,    1248]))"
      ]
     },
     "execution_count": 20,
     "metadata": {},
     "output_type": "execute_result"
    }
   ],
   "source": [
    "np.unique(y_np,return_counts=True)"
   ]
  },
  {
   "cell_type": "code",
   "execution_count": null,
   "metadata": {},
   "outputs": [],
   "source": [
    "x_train = np.reshape()"
   ]
  },
  {
   "cell_type": "code",
   "execution_count": null,
   "metadata": {},
   "outputs": [],
   "source": []
  },
  {
   "cell_type": "markdown",
   "metadata": {},
   "source": [
    "## Sequence Parameters."
   ]
  },
  {
   "cell_type": "code",
   "execution_count": 55,
   "metadata": {},
   "outputs": [],
   "source": [
    "# model parameters.\n",
    "sequence_length = 8"
   ]
  },
  {
   "cell_type": "code",
   "execution_count": 38,
   "metadata": {},
   "outputs": [],
   "source": [
    "x_train_rnn = np.reshape(x_train, (x_train.shape[0], sequence_length, 1))"
   ]
  },
  {
   "cell_type": "code",
   "execution_count": 39,
   "metadata": {},
   "outputs": [
    {
     "data": {
      "text/plain": [
       "(2001, 512, 1)"
      ]
     },
     "execution_count": 39,
     "metadata": {},
     "output_type": "execute_result"
    }
   ],
   "source": [
    "x_train_rnn.shape"
   ]
  },
  {
   "cell_type": "code",
   "execution_count": 45,
   "metadata": {},
   "outputs": [],
   "source": [
    "y_np = np.reshape(y_np, (y_np.shape[0], 504, 1))"
   ]
  },
  {
   "cell_type": "code",
   "execution_count": 46,
   "metadata": {},
   "outputs": [
    {
     "data": {
      "text/plain": [
       "(2001, 504, 1)"
      ]
     },
     "execution_count": 46,
     "metadata": {},
     "output_type": "execute_result"
    }
   ],
   "source": [
    "y_np.shape"
   ]
  },
  {
   "cell_type": "code",
   "execution_count": 48,
   "metadata": {},
   "outputs": [],
   "source": [
    "x_test = x_train[0]"
   ]
  },
  {
   "cell_type": "code",
   "execution_count": 49,
   "metadata": {},
   "outputs": [
    {
     "data": {
      "text/plain": [
       "(512,)"
      ]
     },
     "execution_count": 49,
     "metadata": {},
     "output_type": "execute_result"
    }
   ],
   "source": [
    "x_test.shape"
   ]
  },
  {
   "cell_type": "code",
   "execution_count": 51,
   "metadata": {},
   "outputs": [
    {
     "data": {
      "text/plain": [
       "array([9.1555863e-05, 3.0518622e-05, 6.1037244e-05, 6.1037244e-05,\n",
       "       6.1037244e-05, 6.1037244e-05, 3.0518622e-05, 6.1037244e-05,\n",
       "       9.1555863e-05, 3.0518622e-05, 3.0518622e-05, 6.1037244e-05,\n",
       "       3.0518622e-05, 6.1037244e-05, 9.1555863e-05, 9.1555863e-05,\n",
       "       9.1555863e-05, 3.0518622e-05, 6.1037244e-05, 6.1037244e-05,\n",
       "       3.0518622e-05, 3.0518622e-05, 9.1555863e-05, 9.1555863e-05,\n",
       "       1.2207449e-04, 6.1037244e-05, 6.1037244e-05, 3.0518622e-05,\n",
       "       3.0518622e-05, 3.0518622e-05, 9.1555863e-05, 9.1555863e-05],\n",
       "      dtype=float32)"
      ]
     },
     "execution_count": 51,
     "metadata": {},
     "output_type": "execute_result"
    }
   ],
   "source": [
    "x_test[:32]"
   ]
  },
  {
   "cell_type": "code",
   "execution_count": 52,
   "metadata": {},
   "outputs": [],
   "source": [
    "x_test = np.reshape(x_test, (64, 8))"
   ]
  },
  {
   "cell_type": "code",
   "execution_count": 53,
   "metadata": {},
   "outputs": [
    {
     "data": {
      "text/plain": [
       "array([9.1555863e-05, 3.0518622e-05, 6.1037244e-05, 6.1037244e-05,\n",
       "       6.1037244e-05, 6.1037244e-05, 3.0518622e-05, 6.1037244e-05],\n",
       "      dtype=float32)"
      ]
     },
     "execution_count": 53,
     "metadata": {},
     "output_type": "execute_result"
    }
   ],
   "source": [
    "x_test[0]"
   ]
  },
  {
   "cell_type": "code",
   "execution_count": 54,
   "metadata": {},
   "outputs": [
    {
     "data": {
      "text/plain": [
       "array([9.1555863e-05, 3.0518622e-05, 3.0518622e-05, 6.1037244e-05,\n",
       "       3.0518622e-05, 6.1037244e-05, 9.1555863e-05, 9.1555863e-05],\n",
       "      dtype=float32)"
      ]
     },
     "execution_count": 54,
     "metadata": {},
     "output_type": "execute_result"
    }
   ],
   "source": [
    "x_test[1]"
   ]
  },
  {
   "cell_type": "code",
   "execution_count": 59,
   "metadata": {},
   "outputs": [
    {
     "name": "stdout",
     "output_type": "stream",
     "text": [
      "new expected shape\n",
      "x dimension  128064\n"
     ]
    }
   ],
   "source": [
    "print('new expected shape')\n",
    "print('x dimension ', x_train.shape[0] * (x_train.shape[1] // sequence_length))"
   ]
  },
  {
   "cell_type": "code",
   "execution_count": 60,
   "metadata": {},
   "outputs": [],
   "source": [
    "x_train_rnn = np.reshape(x_train, (x_train.shape[0] * (x_train.shape[1] // sequence_length), sequence_length, 1) )"
   ]
  },
  {
   "cell_type": "code",
   "execution_count": 71,
   "metadata": {},
   "outputs": [],
   "source": [
    "y_train_rnn = np.reshape(y_train, (x_train.shape[0] * (x_train.shape[1] // sequence_length), sequence_length))"
   ]
  },
  {
   "cell_type": "code",
   "execution_count": 80,
   "metadata": {},
   "outputs": [],
   "source": [
    "x_train_rnn1 = list()\n",
    "for i in range(x_train.shape[0]):\n",
    "    x_train_rnn1.append(np.reshape(x_train[0], (64, 8)))\n",
    "x_train_rnn1 = np.array(x_train_rnn1)"
   ]
  },
  {
   "cell_type": "code",
   "execution_count": 81,
   "metadata": {},
   "outputs": [
    {
     "data": {
      "text/plain": [
       "(2001, 64, 8)"
      ]
     },
     "execution_count": 81,
     "metadata": {},
     "output_type": "execute_result"
    }
   ],
   "source": [
    "x_train_rnn1.shape"
   ]
  },
  {
   "cell_type": "code",
   "execution_count": 87,
   "metadata": {},
   "outputs": [
    {
     "name": "stdout",
     "output_type": "stream",
     "text": [
      "x shape (2001, 512)\n",
      "y shape (2001, 512)\n"
     ]
    }
   ],
   "source": [
    "print('x shape', x_train.shape)\n",
    "print('y shape', y_train.shape)"
   ]
  },
  {
   "cell_type": "code",
   "execution_count": 140,
   "metadata": {},
   "outputs": [],
   "source": [
    "def generate_sequence_data(index):\n",
    "    n = x_train[index].shape[0]\n",
    "    L = 8\n",
    "    x_train_seq = []\n",
    "    y_train_seq = []\n",
    "    for k in range(n - L + 1):\n",
    "        x_train_seq.append(x_train[index][k : k + L])\n",
    "        y_train_seq.append(y_train[index][k : k + L])\n",
    "\n",
    "    x_train_seq = np.array(x_train_seq)\n",
    "    y_train_seq = np.array(y_train_seq)\n",
    "    return x_train_seq, y_train_seq"
   ]
  },
  {
   "cell_type": "code",
   "execution_count": 151,
   "metadata": {},
   "outputs": [],
   "source": [
    "xy = [generate_sequence_data(i) for i in range(x_train.shape[0])]"
   ]
  },
  {
   "cell_type": "code",
   "execution_count": 162,
   "metadata": {},
   "outputs": [],
   "source": [
    "x_train_seq = list()\n",
    "y_train_seq = list()\n",
    "for item in xy:\n",
    "    x_train_seq.append(np.reshape(item[0], (item[0].shape[0], item[0].shape[1], 1)))\n",
    "    y_train_seq.append(np.reshape(item[0], (item[0].shape[0], item[0].shape[1], 1)))\n",
    "    \n",
    "# x_train_seq = np.array(x_train_seq)\n",
    "# y_train_seq = np.array(y_train_seq)"
   ]
  },
  {
   "cell_type": "code",
   "execution_count": 164,
   "metadata": {},
   "outputs": [
    {
     "name": "stdout",
     "output_type": "stream",
     "text": [
      "reshaped x shape 2001\n",
      "reshaped y shape 2001\n"
     ]
    }
   ],
   "source": [
    "print('reshaped x shape', len(x_train_seq))\n",
    "print('reshaped y shape', len(y_train_seq))"
   ]
  },
  {
   "cell_type": "code",
   "execution_count": 132,
   "metadata": {},
   "outputs": [],
   "source": [
    "x_train_seq = np.reshape(x_train_seq, (x_train_seq.shape[0], x_train_seq.shape[1], 1))\n",
    "y_train_seq = np.reshape(y_train_seq, (y_train_seq.shape[0], y_train_seq.shape[1], 1))"
   ]
  },
  {
   "cell_type": "code",
   "execution_count": 165,
   "metadata": {},
   "outputs": [
    {
     "name": "stdout",
     "output_type": "stream",
     "text": [
      "reshaped x shape (505, 8, 1)\n",
      "reshaped y shape (505, 8, 1)\n"
     ]
    }
   ],
   "source": [
    "print('reshaped x shape', x_train_seq[0].shape)\n",
    "print('reshaped y shape', y_train_seq[0].shape)"
   ]
  },
  {
   "cell_type": "markdown",
   "metadata": {},
   "source": [
    "## Creating the RNN model."
   ]
  },
  {
   "cell_type": "code",
   "execution_count": 166,
   "metadata": {},
   "outputs": [],
   "source": [
    "rnn = keras.models.Sequential()\n",
    "rnn.add(keras.layers.LSTM(32, return_sequences=True))\n",
    "rnn.add(keras.layers.Dense(1, activation='sigmoid'))"
   ]
  },
  {
   "cell_type": "code",
   "execution_count": 167,
   "metadata": {},
   "outputs": [],
   "source": [
    "rnn.compile(loss='binary_crossentropy', optimizer=tf.keras.optimizers.Adadelta(), metrics=['accuracy'])"
   ]
  },
  {
   "cell_type": "code",
   "execution_count": 168,
   "metadata": {},
   "outputs": [],
   "source": [
    "for i in range(len(x_train_seq)):\n",
    "    rnn.train_on_batch(x_train_seq[i], y_train_seq[i])"
   ]
  },
  {
   "cell_type": "code",
   "execution_count": 169,
   "metadata": {},
   "outputs": [
    {
     "name": "stdout",
     "output_type": "stream",
     "text": [
      "_________________________________________________________________\n",
      "Layer (type)                 Output Shape              Param #   \n",
      "=================================================================\n",
      "lstm_21 (LSTM)               (None, 8, 32)             4352      \n",
      "_________________________________________________________________\n",
      "dense_15 (Dense)             (None, 8, 1)              33        \n",
      "=================================================================\n",
      "Total params: 4,385\n",
      "Trainable params: 4,385\n",
      "Non-trainable params: 0\n",
      "_________________________________________________________________\n"
     ]
    }
   ],
   "source": [
    "rnn.summary()"
   ]
  },
  {
   "cell_type": "code",
   "execution_count": 171,
   "metadata": {},
   "outputs": [
    {
     "name": "stdout",
     "output_type": "stream",
     "text": [
      "505/505 [==============================] - 0s 118us/step\n"
     ]
    },
    {
     "data": {
      "text/plain": [
       "[0.001338228274892905, 0.0]"
      ]
     },
     "execution_count": 171,
     "metadata": {},
     "output_type": "execute_result"
    }
   ],
   "source": [
    "rnn.evaluate(x_train_seq[12], y_train_seq[12])"
   ]
  },
  {
   "cell_type": "code",
   "execution_count": null,
   "metadata": {},
   "outputs": [],
   "source": []
  }
 ],
 "metadata": {
  "kernelspec": {
   "display_name": "Python 3",
   "language": "python",
   "name": "python3"
  },
  "language_info": {
   "codemirror_mode": {
    "name": "ipython",
    "version": 3
   },
   "file_extension": ".py",
   "mimetype": "text/x-python",
   "name": "python",
   "nbconvert_exporter": "python",
   "pygments_lexer": "ipython3",
   "version": "3.6.4"
  }
 },
 "nbformat": 4,
 "nbformat_minor": 2
}
