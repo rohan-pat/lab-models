{
 "cells": [
  {
   "cell_type": "code",
   "execution_count": 1,
   "metadata": {},
   "outputs": [],
   "source": [
    "import tensorflow as tf\n",
    "from tensorflow import keras\n",
    "import numpy as np\n",
    "import matplotlib\n",
    "import matplotlib.pyplot as plt"
   ]
  },
  {
   "cell_type": "markdown",
   "metadata": {},
   "source": [
    "## load all npz files from npz_files directory."
   ]
  },
  {
   "cell_type": "code",
   "execution_count": 2,
   "metadata": {},
   "outputs": [],
   "source": [
    "import os\n",
    "\n",
    "npz_files_directory = '/home/rohan/Desktop/label-generator/raw_files/npz-files'\n",
    "# collect all files from npz directory.\n",
    "files_list = list()\n",
    "for f in os.listdir(npz_files_directory):\n",
    "    files_list.append(f)"
   ]
  },
  {
   "cell_type": "markdown",
   "metadata": {},
   "source": [
    "## load all numpy arrays into training data x and y.\n",
    "structure of the npz files = ['c1', 'c2', 'c3', 'Z', 'labels'].\n",
    "c1, c2, c3 => numpy array containing all class 1, 2, 3 bounding boxes respectively.\n",
    "Z => the raw PSD files.\n",
    "labels => pixel wise labels for psd files. same dimensions as the PSD files."
   ]
  },
  {
   "cell_type": "code",
   "execution_count": 6,
   "metadata": {},
   "outputs": [],
   "source": [
    "training_data_x = list()\n",
    "class_labels_x = list()\n",
    "training_data_y = list()\n",
    "\n",
    "for file_name in files_list:\n",
    "    data1 = np.load(npz_files_directory + '/' + file_name)\n",
    "#     print(data1.files)\n",
    "#     print(file_name)\n",
    "    training_data_x.append(data1['Z'])\n",
    "    training_data_y.append(data1['labels'])\n",
    "    # combine class labels into a single array.\n",
    "    class_labels_list = [data1['c1'], data1['c2'], data1['c3']]\n",
    "    labels_list = list()\n",
    "    class_label = 1\n",
    "    for label in class_labels_list:\n",
    "        for i in range(label.shape[0]):\n",
    "            labels_list.append([class_label] + list(label[i]))\n",
    "            labels_list[-1] = np.array(labels_list[-1])\n",
    "        class_label += 1\n",
    "    class_labels_x.append(labels_list)  "
   ]
  },
  {
   "cell_type": "code",
   "execution_count": 7,
   "metadata": {},
   "outputs": [
    {
     "name": "stdout",
     "output_type": "stream",
     "text": [
      "shape of training_data_x 11\n",
      "shape of training_data_y 11\n",
      "shape of class_labels_x 11\n"
     ]
    }
   ],
   "source": [
    "print('shape of training_data_x', len(training_data_x))\n",
    "print('shape of training_data_y', len(training_data_y))\n",
    "print('shape of class_labels_x', len(class_labels_x))"
   ]
  },
  {
   "cell_type": "code",
   "execution_count": 11,
   "metadata": {},
   "outputs": [
    {
     "name": "stdout",
     "output_type": "stream",
     "text": [
      "shape of training_data_x samples (1953, 512)\n",
      "shape of training_data_y samples (1953, 512)\n",
      "shape of class_labels_x samples (5,)\n"
     ]
    }
   ],
   "source": [
    "print('shape of training_data_x samples', training_data_x[0].shape)\n",
    "print('shape of training_data_y samples', training_data_y[0].shape)\n",
    "print('shape of class_labels_x samples', class_labels_x[0][0].shape)"
   ]
  },
  {
   "cell_type": "markdown",
   "metadata": {},
   "source": [
    "## variable structures:-\n",
    "1. training_data_x contains all Z for all files.\n",
    "2. training_data_y contains all label for all files.\n",
    "3. class_label_x contains class-wise labels with format [class label, x0, y0, x1, y1] <= just for data visualizations.\n",
    "4. class_label - first dimension - for each file. second dimension - for all labels in each file."
   ]
  },
  {
   "cell_type": "markdown",
   "metadata": {},
   "source": [
    "## convert training_data_x to shape (size of all timesteps, 512)"
   ]
  },
  {
   "cell_type": "code",
   "execution_count": 12,
   "metadata": {},
   "outputs": [],
   "source": [
    "x = list()\n",
    "y = list()\n",
    "\n",
    "for i in range(len(training_data_x)):\n",
    "    for j in range(training_data_x[i].shape[0]):\n",
    "        x.append(training_data_x[i][j])\n",
    "        y.append(training_data_y[i][j])"
   ]
  },
  {
   "cell_type": "code",
   "execution_count": 17,
   "metadata": {},
   "outputs": [],
   "source": [
    "x = np.array(x)\n",
    "y = np.array(y)"
   ]
  },
  {
   "cell_type": "code",
   "execution_count": 18,
   "metadata": {},
   "outputs": [
    {
     "name": "stdout",
     "output_type": "stream",
     "text": [
      "the shape of x is  (23436, 512)\n",
      "the shape of y is  (23436, 512)\n"
     ]
    }
   ],
   "source": [
    "print('the shape of x is ', x.shape)\n",
    "print('the shape of y is ', y.shape)"
   ]
  },
  {
   "cell_type": "markdown",
   "metadata": {},
   "source": [
    "## convert into sequence data.\n",
    "1. each 512 vector array is to be converted into 8 sequence timestep array.\n",
    "i.e [1 2 3 4 5 6 7 8 9 10 ...] = [[1 2 3 4 5 6 7 8] [2 3 4 5 6 7 8 9] ...]\n",
    "2. convert into numpy arrays."
   ]
  },
  {
   "cell_type": "code",
   "execution_count": 19,
   "metadata": {},
   "outputs": [],
   "source": [
    "def generate_sequence_data(freq_array, sequence_length):\n",
    "    \"\"\"\n",
    "    expects a freq array of size (512, )\n",
    "    returns array with sequence length pieces of freq array.\n",
    "    \"\"\"\n",
    "    n = 512\n",
    "    freq = list(freq_array)\n",
    "    freq_reshaped = list()\n",
    "    for k in range(n - sequence_length + 1):\n",
    "        freq_reshaped.append(np.array(freq[k : k + sequence_length]))\n",
    "\n",
    "    return np.array(freq_reshaped)"
   ]
  },
  {
   "cell_type": "code",
   "execution_count": 20,
   "metadata": {},
   "outputs": [],
   "source": [
    "%%time\n",
    "x_seq = list()\n",
    "y_seq = list()\n",
    "\n",
    "sequence_length = 8\n",
    "\n",
    "for i in range(x.shape[0]):\n",
    "    x_seq.append(generate_sequence_data(x[i], sequence_length))\n",
    "    y_seq.append(generate_sequence_data(y[i], sequence_length))"
   ]
  },
  {
   "cell_type": "code",
   "execution_count": 23,
   "metadata": {},
   "outputs": [
    {
     "name": "stdout",
     "output_type": "stream",
     "text": [
      "(512, ) shaped x arrays have been reshaped to  (505, 8)\n",
      "(512, ) shaped y arrays have been reshaped to  (505, 8)\n"
     ]
    }
   ],
   "source": [
    "print('(512, ) shaped x arrays have been reshaped to ', x_seq[0].shape)\n",
    "print('(512, ) shaped y arrays have been reshaped to ', y_seq[0].shape)"
   ]
  },
  {
   "cell_type": "code",
   "execution_count": 24,
   "metadata": {},
   "outputs": [
    {
     "name": "stdout",
     "output_type": "stream",
     "text": [
      "length of freq arrays is  23436\n",
      "length of label arrays is  23436\n"
     ]
    }
   ],
   "source": [
    "print('length of freq arrays is ', len(x_seq))\n",
    "print('length of label arrays is ', len(y_seq))"
   ]
  },
  {
   "cell_type": "code",
   "execution_count": 25,
   "metadata": {},
   "outputs": [],
   "source": [
    "x_seq = np.array(x_seq)\n",
    "y_seq = np.array(y_seq)"
   ]
  },
  {
   "cell_type": "code",
   "execution_count": 27,
   "metadata": {},
   "outputs": [
    {
     "name": "stdout",
     "output_type": "stream",
     "text": [
      "shape of x is  (23436, 505, 8)\n",
      "shape of y is  (23436, 505, 8)\n"
     ]
    }
   ],
   "source": [
    "print('shape of x is ', x_seq.shape)\n",
    "print('shape of y is ', y_seq.shape)"
   ]
  },
  {
   "cell_type": "markdown",
   "metadata": {},
   "source": [
    "## convert y from (23436, 505, 8) to (23436, 505, 1)"
   ]
  },
  {
   "cell_type": "code",
   "execution_count": 29,
   "metadata": {},
   "outputs": [],
   "source": [
    "y_seq_cat = list()\n",
    "for i in range(y_seq.shape[0]):\n",
    "    y_seq_inner = list()\n",
    "    for j in range(y_seq.shape[1]):\n",
    "        y_seq_inner.append(np.argmax(np.bincount(y_seq[i][j])))\n",
    "    y_seq_cat.append(np.array(y_seq_inner))\n",
    "y_np = np.array(y_seq_cat)"
   ]
  },
  {
   "cell_type": "code",
   "execution_count": 31,
   "metadata": {},
   "outputs": [
    {
     "name": "stdout",
     "output_type": "stream",
     "text": [
      "shape of y is  (23436, 505)\n",
      "shape of y sample is  (505,)\n"
     ]
    }
   ],
   "source": [
    "print('shape of y is ', y_np.shape)\n",
    "print('shape of y sample is ', y_np[0].shape)"
   ]
  },
  {
   "cell_type": "markdown",
   "metadata": {},
   "source": [
    "## reshaping x_seq, y_np"
   ]
  },
  {
   "cell_type": "code",
   "execution_count": 52,
   "metadata": {},
   "outputs": [],
   "source": [
    "x_stored = x_seq\n",
    "y_stored = y_np"
   ]
  },
  {
   "cell_type": "code",
   "execution_count": 59,
   "metadata": {},
   "outputs": [],
   "source": [
    "x_seq_new = list()\n",
    "for i in range(x_seq.shape[0]):\n",
    "    x_seq_new.append(np.reshape(x_seq[i], (x_seq[i].shape[0], x_seq[i].shape[1], 1)))"
   ]
  },
  {
   "cell_type": "code",
   "execution_count": 60,
   "metadata": {},
   "outputs": [],
   "source": [
    "x_seq = np.array(x_seq_new)"
   ]
  },
  {
   "cell_type": "code",
   "execution_count": 61,
   "metadata": {},
   "outputs": [
    {
     "data": {
      "text/plain": [
       "(23436, 505, 8, 1)"
      ]
     },
     "execution_count": 61,
     "metadata": {},
     "output_type": "execute_result"
    }
   ],
   "source": [
    "x_seq.shape"
   ]
  },
  {
   "cell_type": "code",
   "execution_count": 69,
   "metadata": {},
   "outputs": [],
   "source": [
    "y_seq_new = list()\n",
    "for i in range(y_seq.shape[0]):\n",
    "    y_seq_new.append(np.reshape(y_seq[i], (y_seq[i].shape[0], y_seq[i].shape[1], 1)))"
   ]
  },
  {
   "cell_type": "code",
   "execution_count": 70,
   "metadata": {},
   "outputs": [],
   "source": [
    "y_seq = np.array(y_seq_new)"
   ]
  },
  {
   "cell_type": "code",
   "execution_count": 71,
   "metadata": {},
   "outputs": [
    {
     "data": {
      "text/plain": [
       "(23436, 505, 8, 1)"
      ]
     },
     "execution_count": 71,
     "metadata": {},
     "output_type": "execute_result"
    }
   ],
   "source": [
    "y_seq.shape"
   ]
  },
  {
   "cell_type": "code",
   "execution_count": 76,
   "metadata": {},
   "outputs": [],
   "source": [
    "y_seq_binary = keras.utils.to_categorical(y_seq)"
   ]
  },
  {
   "cell_type": "code",
   "execution_count": 77,
   "metadata": {},
   "outputs": [
    {
     "data": {
      "text/plain": [
       "(23436, 505, 8, 3)"
      ]
     },
     "execution_count": 77,
     "metadata": {},
     "output_type": "execute_result"
    }
   ],
   "source": [
    "y_seq_binary.shape"
   ]
  },
  {
   "cell_type": "markdown",
   "metadata": {},
   "source": [
    "## Training the RNN model on the whole data."
   ]
  },
  {
   "cell_type": "code",
   "execution_count": 79,
   "metadata": {},
   "outputs": [],
   "source": [
    "rnn = keras.models.Sequential()\n",
    "rnn.add(keras.layers.LSTM(32, input_shape=(8,1),  return_sequences=True))\n",
    "rnn.add(keras.layers.Dense(3, activation='softmax'))"
   ]
  },
  {
   "cell_type": "code",
   "execution_count": 80,
   "metadata": {},
   "outputs": [],
   "source": [
    "rnn.compile(loss='categorical_crossentropy', optimizer=tf.keras.optimizers.Adadelta(), metrics=['accuracy'])"
   ]
  },
  {
   "cell_type": "code",
   "execution_count": 81,
   "metadata": {},
   "outputs": [],
   "source": [
    "for i in range(x_seq.shape[0]):\n",
    "    rnn.train_on_batch(x_seq[i], y_seq_binary[i])"
   ]
  },
  {
   "cell_type": "code",
   "execution_count": 82,
   "metadata": {},
   "outputs": [
    {
     "name": "stdout",
     "output_type": "stream",
     "text": [
      "_________________________________________________________________\n",
      "Layer (type)                 Output Shape              Param #   \n",
      "=================================================================\n",
      "lstm_11 (LSTM)               (None, 8, 32)             4352      \n",
      "_________________________________________________________________\n",
      "dense_8 (Dense)              (None, 8, 3)              99        \n",
      "=================================================================\n",
      "Total params: 4,451\n",
      "Trainable params: 4,451\n",
      "Non-trainable params: 0\n",
      "_________________________________________________________________\n"
     ]
    }
   ],
   "source": [
    "rnn.summary()"
   ]
  },
  {
   "cell_type": "code",
   "execution_count": 83,
   "metadata": {},
   "outputs": [
    {
     "name": "stdout",
     "output_type": "stream",
     "text": [
      "505/505 [==============================] - 0s 397us/step\n"
     ]
    },
    {
     "data": {
      "text/plain": [
       "[0.15260984364800192, 0.9549504950495049]"
      ]
     },
     "execution_count": 83,
     "metadata": {},
     "output_type": "execute_result"
    }
   ],
   "source": [
    "rnn.evaluate(x_seq[10], y_seq_binary[10])"
   ]
  },
  {
   "cell_type": "code",
   "execution_count": null,
   "metadata": {},
   "outputs": [],
   "source": []
  },
  {
   "cell_type": "code",
   "execution_count": null,
   "metadata": {},
   "outputs": [],
   "source": []
  },
  {
   "cell_type": "code",
   "execution_count": null,
   "metadata": {},
   "outputs": [],
   "source": []
  },
  {
   "cell_type": "code",
   "execution_count": null,
   "metadata": {},
   "outputs": [],
   "source": []
  },
  {
   "cell_type": "code",
   "execution_count": null,
   "metadata": {},
   "outputs": [],
   "source": []
  },
  {
   "cell_type": "code",
   "execution_count": null,
   "metadata": {},
   "outputs": [],
   "source": []
  },
  {
   "cell_type": "code",
   "execution_count": null,
   "metadata": {},
   "outputs": [],
   "source": []
  },
  {
   "cell_type": "code",
   "execution_count": null,
   "metadata": {},
   "outputs": [],
   "source": []
  },
  {
   "cell_type": "code",
   "execution_count": null,
   "metadata": {},
   "outputs": [],
   "source": []
  },
  {
   "cell_type": "code",
   "execution_count": null,
   "metadata": {},
   "outputs": [],
   "source": []
  },
  {
   "cell_type": "code",
   "execution_count": null,
   "metadata": {},
   "outputs": [],
   "source": []
  },
  {
   "cell_type": "code",
   "execution_count": null,
   "metadata": {},
   "outputs": [],
   "source": []
  },
  {
   "cell_type": "markdown",
   "metadata": {},
   "source": [
    "## old code."
   ]
  },
  {
   "cell_type": "code",
   "execution_count": null,
   "metadata": {},
   "outputs": [],
   "source": [
    "# load data from the npz file.\n",
    "training_data = np.load('processed_npz_files/data_out_psd_1074023.npz')"
   ]
  },
  {
   "cell_type": "code",
   "execution_count": null,
   "metadata": {},
   "outputs": [],
   "source": [
    "training_data['labels'].shape"
   ]
  },
  {
   "cell_type": "code",
   "execution_count": null,
   "metadata": {},
   "outputs": [],
   "source": [
    "np.unique(training_data['labels'], return_counts=True)"
   ]
  },
  {
   "cell_type": "code",
   "execution_count": null,
   "metadata": {},
   "outputs": [],
   "source": [
    "x_train = training_data['Z']"
   ]
  },
  {
   "cell_type": "code",
   "execution_count": null,
   "metadata": {},
   "outputs": [],
   "source": [
    "x_train.shape"
   ]
  },
  {
   "cell_type": "code",
   "execution_count": null,
   "metadata": {},
   "outputs": [],
   "source": [
    "x_train[0].shape"
   ]
  },
  {
   "cell_type": "code",
   "execution_count": null,
   "metadata": {},
   "outputs": [],
   "source": [
    "# model parameters.\n",
    "sequence_length = 8"
   ]
  },
  {
   "cell_type": "code",
   "execution_count": null,
   "metadata": {},
   "outputs": [],
   "source": [
    "y_train = training_data['labels']"
   ]
  },
  {
   "cell_type": "code",
   "execution_count": null,
   "metadata": {},
   "outputs": [],
   "source": [
    "y = list()\n",
    "for i in range(x_train.shape[0]):\n",
    "    y_inner = list()\n",
    "    for j in range(x_train.shape[1]-8):\n",
    "        if np.count_nonzero(y_train[i, j:j+8] == 1) >= 4:\n",
    "            y_inner.append(1)\n",
    "        else:\n",
    "            y_inner.append(0)\n",
    "    y.append(np.array(y_inner, dtype=np.int8))"
   ]
  },
  {
   "cell_type": "code",
   "execution_count": null,
   "metadata": {},
   "outputs": [],
   "source": [
    "y_np = np.array(y)"
   ]
  },
  {
   "cell_type": "code",
   "execution_count": null,
   "metadata": {},
   "outputs": [],
   "source": [
    "y_np.shape"
   ]
  },
  {
   "cell_type": "code",
   "execution_count": null,
   "metadata": {},
   "outputs": [],
   "source": [
    "np.unique(y_np,return_counts=True)"
   ]
  },
  {
   "cell_type": "code",
   "execution_count": null,
   "metadata": {},
   "outputs": [],
   "source": [
    "x_train = np.reshape()"
   ]
  },
  {
   "cell_type": "code",
   "execution_count": null,
   "metadata": {},
   "outputs": [],
   "source": []
  },
  {
   "cell_type": "markdown",
   "metadata": {},
   "source": [
    "## Sequence Parameters."
   ]
  },
  {
   "cell_type": "code",
   "execution_count": null,
   "metadata": {},
   "outputs": [],
   "source": [
    "# model parameters.\n",
    "sequence_length = 8"
   ]
  },
  {
   "cell_type": "code",
   "execution_count": null,
   "metadata": {},
   "outputs": [],
   "source": [
    "x_train_rnn = np.reshape(x_train, (x_train.shape[0], sequence_length, 1))"
   ]
  },
  {
   "cell_type": "code",
   "execution_count": null,
   "metadata": {},
   "outputs": [],
   "source": [
    "x_train_rnn.shape"
   ]
  },
  {
   "cell_type": "code",
   "execution_count": null,
   "metadata": {},
   "outputs": [],
   "source": [
    "y_np = np.reshape(y_np, (y_np.shape[0], 504, 1))"
   ]
  },
  {
   "cell_type": "code",
   "execution_count": null,
   "metadata": {},
   "outputs": [],
   "source": [
    "y_np.shape"
   ]
  },
  {
   "cell_type": "code",
   "execution_count": null,
   "metadata": {},
   "outputs": [],
   "source": [
    "x_test = x_train[0]"
   ]
  },
  {
   "cell_type": "code",
   "execution_count": null,
   "metadata": {},
   "outputs": [],
   "source": [
    "x_test.shape"
   ]
  },
  {
   "cell_type": "code",
   "execution_count": null,
   "metadata": {},
   "outputs": [],
   "source": [
    "x_test[:32]"
   ]
  },
  {
   "cell_type": "code",
   "execution_count": null,
   "metadata": {},
   "outputs": [],
   "source": [
    "x_test = np.reshape(x_test, (64, 8))"
   ]
  },
  {
   "cell_type": "code",
   "execution_count": null,
   "metadata": {},
   "outputs": [],
   "source": [
    "x_test[0]"
   ]
  },
  {
   "cell_type": "code",
   "execution_count": null,
   "metadata": {},
   "outputs": [],
   "source": [
    "x_test[1]"
   ]
  },
  {
   "cell_type": "code",
   "execution_count": null,
   "metadata": {},
   "outputs": [],
   "source": [
    "print('new expected shape')\n",
    "print('x dimension ', x_train.shape[0] * (x_train.shape[1] // sequence_length))"
   ]
  },
  {
   "cell_type": "code",
   "execution_count": null,
   "metadata": {},
   "outputs": [],
   "source": [
    "x_train_rnn = np.reshape(x_train, (x_train.shape[0] * (x_train.shape[1] // sequence_length), sequence_length, 1) )"
   ]
  },
  {
   "cell_type": "code",
   "execution_count": null,
   "metadata": {},
   "outputs": [],
   "source": [
    "y_train_rnn = np.reshape(y_train, (x_train.shape[0] * (x_train.shape[1] // sequence_length), sequence_length))"
   ]
  },
  {
   "cell_type": "code",
   "execution_count": null,
   "metadata": {},
   "outputs": [],
   "source": [
    "x_train_rnn1 = list()\n",
    "for i in range(x_train.shape[0]):\n",
    "    x_train_rnn1.append(np.reshape(x_train[0], (64, 8)))\n",
    "x_train_rnn1 = np.array(x_train_rnn1)"
   ]
  },
  {
   "cell_type": "code",
   "execution_count": null,
   "metadata": {},
   "outputs": [],
   "source": [
    "x_train_rnn1.shape"
   ]
  },
  {
   "cell_type": "code",
   "execution_count": null,
   "metadata": {},
   "outputs": [],
   "source": [
    "print('x shape', x_train.shape)\n",
    "print('y shape', y_train.shape)"
   ]
  },
  {
   "cell_type": "code",
   "execution_count": null,
   "metadata": {},
   "outputs": [],
   "source": [
    "def generate_sequence_data(index):\n",
    "    n = x_train[index].shape[0]\n",
    "    L = 8\n",
    "    x_train_seq = []\n",
    "    y_train_seq = []\n",
    "    for k in range(n - L + 1):\n",
    "        x_train_seq.append(x_train[index][k : k + L])\n",
    "        y_train_seq.append(y_train[index][k : k + L])\n",
    "\n",
    "    x_train_seq = np.array(x_train_seq)\n",
    "    y_train_seq = np.array(y_train_seq)\n",
    "    return x_train_seq, y_train_seq"
   ]
  },
  {
   "cell_type": "code",
   "execution_count": null,
   "metadata": {},
   "outputs": [],
   "source": [
    "xy = [generate_sequence_data(i) for i in range(x_train.shape[0])]"
   ]
  },
  {
   "cell_type": "code",
   "execution_count": null,
   "metadata": {},
   "outputs": [],
   "source": [
    "x_train_seq = list()\n",
    "y_train_seq = list()\n",
    "for item in xy:\n",
    "    x_train_seq.append(np.reshape(item[0], (item[0].shape[0], item[0].shape[1], 1)))\n",
    "    y_train_seq.append(np.reshape(item[0], (item[0].shape[0], item[0].shape[1], 1)))\n",
    "    \n",
    "# x_train_seq = np.array(x_train_seq)\n",
    "# y_train_seq = np.array(y_train_seq)"
   ]
  },
  {
   "cell_type": "code",
   "execution_count": null,
   "metadata": {},
   "outputs": [],
   "source": [
    "print('reshaped x shape', len(x_train_seq))\n",
    "print('reshaped y shape', len(y_train_seq))"
   ]
  },
  {
   "cell_type": "code",
   "execution_count": null,
   "metadata": {},
   "outputs": [],
   "source": [
    "x_train_seq = np.reshape(x_train_seq, (x_train_seq.shape[0], x_train_seq.shape[1], 1))\n",
    "y_train_seq = np.reshape(y_train_seq, (y_train_seq.shape[0], y_train_seq.shape[1], 1))"
   ]
  },
  {
   "cell_type": "code",
   "execution_count": null,
   "metadata": {},
   "outputs": [],
   "source": [
    "print('reshaped x shape', x_train_seq[0].shape)\n",
    "print('reshaped y shape', y_train_seq[0].shape)"
   ]
  },
  {
   "cell_type": "markdown",
   "metadata": {},
   "source": [
    "## Creating the RNN model."
   ]
  },
  {
   "cell_type": "code",
   "execution_count": null,
   "metadata": {},
   "outputs": [],
   "source": [
    "rnn = keras.models.Sequential()\n",
    "rnn.add(keras.layers.LSTM(32, return_sequences=True))\n",
    "rnn.add(keras.layers.Dense(1, activation='sigmoid'))"
   ]
  },
  {
   "cell_type": "code",
   "execution_count": null,
   "metadata": {},
   "outputs": [],
   "source": [
    "rnn.compile(loss='binary_crossentropy', optimizer=tf.keras.optimizers.Adadelta(), metrics=['accuracy'])"
   ]
  },
  {
   "cell_type": "code",
   "execution_count": null,
   "metadata": {},
   "outputs": [],
   "source": [
    "for i in range(len(x_train_seq)):\n",
    "    rnn.train_on_batch(x_train_seq[i], y_train_seq[i])"
   ]
  },
  {
   "cell_type": "code",
   "execution_count": null,
   "metadata": {},
   "outputs": [],
   "source": [
    "rnn.summary()"
   ]
  },
  {
   "cell_type": "code",
   "execution_count": null,
   "metadata": {},
   "outputs": [],
   "source": [
    "rnn.evaluate(x_train_seq[12], y_train_seq[12])"
   ]
  },
  {
   "cell_type": "code",
   "execution_count": null,
   "metadata": {},
   "outputs": [],
   "source": []
  }
 ],
 "metadata": {
  "kernelspec": {
   "display_name": "Python 3",
   "language": "python",
   "name": "python3"
  },
  "language_info": {
   "codemirror_mode": {
    "name": "ipython",
    "version": 3
   },
   "file_extension": ".py",
   "mimetype": "text/x-python",
   "name": "python",
   "nbconvert_exporter": "python",
   "pygments_lexer": "ipython3",
   "version": "3.6.6"
  }
 },
 "nbformat": 4,
 "nbformat_minor": 2
}
